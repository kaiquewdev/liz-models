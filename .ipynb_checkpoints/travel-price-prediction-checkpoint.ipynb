{
 "cells": [
  {
   "cell_type": "code",
   "execution_count": 1,
   "metadata": {},
   "outputs": [],
   "source": [
    "import warnings; warnings.simplefilter('ignore')"
   ]
  },
  {
   "cell_type": "code",
   "execution_count": 2,
   "metadata": {},
   "outputs": [],
   "source": [
    "import pandas as pd"
   ]
  },
  {
   "cell_type": "code",
   "execution_count": 3,
   "metadata": {},
   "outputs": [],
   "source": [
    "import numpy as np"
   ]
  },
  {
   "cell_type": "code",
   "execution_count": 4,
   "metadata": {},
   "outputs": [
    {
     "name": "stderr",
     "output_type": "stream",
     "text": [
      "Using TensorFlow backend.\n"
     ]
    }
   ],
   "source": [
    "import keras"
   ]
  },
  {
   "cell_type": "code",
   "execution_count": 5,
   "metadata": {},
   "outputs": [],
   "source": [
    "from keras.models import Sequential"
   ]
  },
  {
   "cell_type": "code",
   "execution_count": 6,
   "metadata": {},
   "outputs": [],
   "source": [
    "from keras.layers import Dense"
   ]
  },
  {
   "cell_type": "code",
   "execution_count": 8,
   "metadata": {},
   "outputs": [],
   "source": [
    "from sklearn import model_selection"
   ]
  },
  {
   "cell_type": "code",
   "execution_count": 9,
   "metadata": {},
   "outputs": [],
   "source": [
    "df = pd.DataFrame()"
   ]
  },
  {
   "cell_type": "code",
   "execution_count": 10,
   "metadata": {},
   "outputs": [],
   "source": [
    "df['distances'] = np.array([np.random.randint(1,1000) for _ in range(10**4)])"
   ]
  },
  {
   "cell_type": "code",
   "execution_count": 11,
   "metadata": {},
   "outputs": [],
   "source": [
    "df['weights'] = np.array([np.random.randint(60,500) for _ in range(10**4)])"
   ]
  },
  {
   "cell_type": "code",
   "execution_count": 12,
   "metadata": {},
   "outputs": [
    {
     "data": {
      "text/plain": [
       "distances    10000\n",
       "weights      10000\n",
       "dtype: int64"
      ]
     },
     "execution_count": 12,
     "metadata": {},
     "output_type": "execute_result"
    }
   ],
   "source": [
    "df[['distances','weights']].count()"
   ]
  },
  {
   "cell_type": "code",
   "execution_count": 13,
   "metadata": {},
   "outputs": [],
   "source": [
    "df['prices'] = np.array([((df['distances'][i] * df['weights'][i])/100) for i in range(len(df['distances']))])"
   ]
  },
  {
   "cell_type": "code",
   "execution_count": 14,
   "metadata": {},
   "outputs": [
    {
     "data": {
      "text/html": [
       "<div>\n",
       "<style>\n",
       "    .dataframe thead tr:only-child th {\n",
       "        text-align: right;\n",
       "    }\n",
       "\n",
       "    .dataframe thead th {\n",
       "        text-align: left;\n",
       "    }\n",
       "\n",
       "    .dataframe tbody tr th {\n",
       "        vertical-align: top;\n",
       "    }\n",
       "</style>\n",
       "<table border=\"1\" class=\"dataframe\">\n",
       "  <thead>\n",
       "    <tr style=\"text-align: right;\">\n",
       "      <th></th>\n",
       "      <th>distances</th>\n",
       "      <th>weights</th>\n",
       "      <th>prices</th>\n",
       "    </tr>\n",
       "  </thead>\n",
       "  <tbody>\n",
       "    <tr>\n",
       "      <th>0</th>\n",
       "      <td>940</td>\n",
       "      <td>236</td>\n",
       "      <td>2218.40</td>\n",
       "    </tr>\n",
       "    <tr>\n",
       "      <th>1</th>\n",
       "      <td>980</td>\n",
       "      <td>438</td>\n",
       "      <td>4292.40</td>\n",
       "    </tr>\n",
       "    <tr>\n",
       "      <th>2</th>\n",
       "      <td>581</td>\n",
       "      <td>260</td>\n",
       "      <td>1510.60</td>\n",
       "    </tr>\n",
       "    <tr>\n",
       "      <th>3</th>\n",
       "      <td>289</td>\n",
       "      <td>185</td>\n",
       "      <td>534.65</td>\n",
       "    </tr>\n",
       "    <tr>\n",
       "      <th>4</th>\n",
       "      <td>902</td>\n",
       "      <td>333</td>\n",
       "      <td>3003.66</td>\n",
       "    </tr>\n",
       "  </tbody>\n",
       "</table>\n",
       "</div>"
      ],
      "text/plain": [
       "   distances  weights   prices\n",
       "0        940      236  2218.40\n",
       "1        980      438  4292.40\n",
       "2        581      260  1510.60\n",
       "3        289      185   534.65\n",
       "4        902      333  3003.66"
      ]
     },
     "execution_count": 14,
     "metadata": {},
     "output_type": "execute_result"
    }
   ],
   "source": [
    "df.head()"
   ]
  },
  {
   "cell_type": "code",
   "execution_count": 15,
   "metadata": {},
   "outputs": [],
   "source": [
    "x, x_val, y, y_val = model_selection.train_test_split(df['prices'], df['distances'], test_size=0.2, random_state=42)"
   ]
  },
  {
   "cell_type": "code",
   "execution_count": 16,
   "metadata": {},
   "outputs": [],
   "source": [
    "dlce = lambda l: [v for v in l if v >= 0]"
   ]
  },
  {
   "cell_type": "code",
   "execution_count": 17,
   "metadata": {},
   "outputs": [],
   "source": [
    "x = np.array(dlce(x))\n",
    "x_val = np.array(dlce(x_val))"
   ]
  },
  {
   "cell_type": "code",
   "execution_count": 18,
   "metadata": {},
   "outputs": [],
   "source": [
    "y = np.array(dlce(y))\n",
    "y_val = np.array(dlce(y_val))"
   ]
  },
  {
   "cell_type": "code",
   "execution_count": 19,
   "metadata": {},
   "outputs": [
    {
     "name": "stdout",
     "output_type": "stream",
     "text": [
      "Train on 8000 samples, validate on 2000 samples\n",
      "Epoch 1/100\n",
      "8000/8000 [==============================] - 1s - loss: 5366407.9830 - val_loss: 4144079.2780\n",
      "Epoch 2/100\n",
      "8000/8000 [==============================] - 0s - loss: 3540909.3295 - val_loss: 2613776.4700\n",
      "Epoch 3/100\n",
      "8000/8000 [==============================] - 0s - loss: 2101792.8032 - val_loss: 1443252.5660\n",
      "Epoch 4/100\n",
      "8000/8000 [==============================] - 0s - loss: 1052434.8029 - val_loss: 630651.4770\n",
      "Epoch 5/100\n",
      "8000/8000 [==============================] - 0s - loss: 382562.4256 - val_loss: 173132.2800\n",
      "Epoch 6/100\n",
      "8000/8000 [==============================] - 0s - loss: 90475.8016 - val_loss: 58429.1632\n",
      "Epoch 7/100\n",
      "8000/8000 [==============================] - 0s - loss: 57979.8414 - val_loss: 58216.2182\n",
      "Epoch 8/100\n",
      "8000/8000 [==============================] - 1s - loss: 57937.9661 - val_loss: 58291.6265\n",
      "Epoch 9/100\n",
      "8000/8000 [==============================] - 0s - loss: 57900.6465 - val_loss: 58213.9477\n",
      "Epoch 10/100\n",
      "8000/8000 [==============================] - 0s - loss: 57824.6251 - val_loss: 58036.1746\n",
      "Epoch 11/100\n",
      "8000/8000 [==============================] - 0s - loss: 57783.8450 - val_loss: 58003.2448\n",
      "Epoch 12/100\n",
      "8000/8000 [==============================] - 0s - loss: 57791.9367 - val_loss: 58228.0597\n",
      "Epoch 13/100\n",
      "8000/8000 [==============================] - 0s - loss: 57739.1821 - val_loss: 58089.9544\n",
      "Epoch 14/100\n",
      "8000/8000 [==============================] - 0s - loss: 57707.4402 - val_loss: 58014.3372\n",
      "Epoch 15/100\n",
      "8000/8000 [==============================] - 1s - loss: 57640.3982 - val_loss: 57896.0431\n",
      "Epoch 16/100\n",
      "8000/8000 [==============================] - 0s - loss: 57595.0784 - val_loss: 58051.9538\n",
      "Epoch 17/100\n",
      "8000/8000 [==============================] - 1s - loss: 57583.9519 - val_loss: 57856.6634\n",
      "Epoch 18/100\n",
      "8000/8000 [==============================] - 1s - loss: 57546.1954 - val_loss: 57877.1291\n",
      "Epoch 19/100\n",
      "8000/8000 [==============================] - 1s - loss: 57513.3411 - val_loss: 57812.1228\n",
      "Epoch 20/100\n",
      "8000/8000 [==============================] - 1s - loss: 57474.0641 - val_loss: 57679.6198\n",
      "Epoch 21/100\n",
      "8000/8000 [==============================] - 1s - loss: 57430.9039 - val_loss: 57736.8399\n",
      "Epoch 22/100\n",
      "8000/8000 [==============================] - 1s - loss: 57375.0127 - val_loss: 57952.8368\n",
      "Epoch 23/100\n",
      "8000/8000 [==============================] - 1s - loss: 57357.9215 - val_loss: 57545.1721\n",
      "Epoch 24/100\n",
      "8000/8000 [==============================] - 0s - loss: 57334.7147 - val_loss: 57504.4146\n",
      "Epoch 25/100\n",
      "8000/8000 [==============================] - 0s - loss: 57294.1024 - val_loss: 57674.1388\n",
      "Epoch 26/100\n",
      "8000/8000 [==============================] - 0s - loss: 57247.7157 - val_loss: 57438.9025\n",
      "Epoch 27/100\n",
      "8000/8000 [==============================] - 0s - loss: 57207.2637 - val_loss: 57565.9341\n",
      "Epoch 28/100\n",
      "8000/8000 [==============================] - 0s - loss: 57169.1208 - val_loss: 57353.5781\n",
      "Epoch 29/100\n",
      "8000/8000 [==============================] - 0s - loss: 57124.3295 - val_loss: 57545.8074\n",
      "Epoch 30/100\n",
      "8000/8000 [==============================] - 0s - loss: 57082.5804 - val_loss: 57324.1353\n",
      "Epoch 31/100\n",
      "8000/8000 [==============================] - 0s - loss: 57026.1008 - val_loss: 57245.4091\n",
      "Epoch 32/100\n",
      "8000/8000 [==============================] - 0s - loss: 57001.8261 - val_loss: 57274.4584\n",
      "Epoch 33/100\n",
      "8000/8000 [==============================] - 0s - loss: 56975.5227 - val_loss: 57448.8971\n",
      "Epoch 34/100\n",
      "8000/8000 [==============================] - 0s - loss: 56949.5697 - val_loss: 57235.4933\n",
      "Epoch 35/100\n",
      "8000/8000 [==============================] - 0s - loss: 56885.1032 - val_loss: 57241.0101\n",
      "Epoch 36/100\n",
      "8000/8000 [==============================] - 1s - loss: 56865.0222 - val_loss: 57099.5414\n",
      "Epoch 37/100\n",
      "8000/8000 [==============================] - 1s - loss: 56836.6785 - val_loss: 57074.0488\n",
      "Epoch 38/100\n",
      "8000/8000 [==============================] - 0s - loss: 56810.5590 - val_loss: 57120.0725\n",
      "Epoch 39/100\n",
      "8000/8000 [==============================] - 0s - loss: 56756.6831 - val_loss: 57164.1595\n",
      "Epoch 40/100\n",
      "8000/8000 [==============================] - 0s - loss: 56711.3351 - val_loss: 57045.4677\n",
      "Epoch 41/100\n",
      "8000/8000 [==============================] - 0s - loss: 56683.1114 - val_loss: 56978.7805\n",
      "Epoch 42/100\n",
      "8000/8000 [==============================] - 0s - loss: 56644.6066 - val_loss: 56882.5469\n",
      "Epoch 43/100\n",
      "8000/8000 [==============================] - 0s - loss: 56604.2340 - val_loss: 57038.3062\n",
      "Epoch 44/100\n",
      "8000/8000 [==============================] - 0s - loss: 56573.0524 - val_loss: 56960.1808\n",
      "Epoch 45/100\n",
      "8000/8000 [==============================] - 1s - loss: 56539.4040 - val_loss: 56834.0709\n",
      "Epoch 46/100\n",
      "8000/8000 [==============================] - 0s - loss: 56484.5755 - val_loss: 56696.7573\n",
      "Epoch 47/100\n",
      "8000/8000 [==============================] - 0s - loss: 56455.6661 - val_loss: 56900.8865\n",
      "Epoch 48/100\n",
      "8000/8000 [==============================] - 1s - loss: 56414.2607 - val_loss: 56910.4468\n",
      "Epoch 49/100\n",
      "8000/8000 [==============================] - 0s - loss: 56365.7961 - val_loss: 56720.6285\n",
      "Epoch 50/100\n",
      "8000/8000 [==============================] - 0s - loss: 56334.4368 - val_loss: 56733.7687\n",
      "Epoch 51/100\n",
      "8000/8000 [==============================] - 0s - loss: 56298.5663 - val_loss: 56539.5813\n",
      "Epoch 52/100\n",
      "8000/8000 [==============================] - 0s - loss: 56261.9780 - val_loss: 56466.9265\n",
      "Epoch 53/100\n",
      "8000/8000 [==============================] - 0s - loss: 56245.4003 - val_loss: 56483.0817\n",
      "Epoch 54/100\n",
      "8000/8000 [==============================] - 0s - loss: 56160.9603 - val_loss: 56415.9641\n",
      "Epoch 55/100\n",
      "8000/8000 [==============================] - 0s - loss: 56142.6387 - val_loss: 56556.1906\n",
      "Epoch 56/100\n",
      "8000/8000 [==============================] - 0s - loss: 56125.7573 - val_loss: 56464.8364\n",
      "Epoch 57/100\n",
      "8000/8000 [==============================] - 0s - loss: 56070.0453 - val_loss: 56285.5286\n",
      "Epoch 58/100\n",
      "8000/8000 [==============================] - 0s - loss: 56045.6543 - val_loss: 56494.7184\n",
      "Epoch 59/100\n",
      "8000/8000 [==============================] - 0s - loss: 56022.4703 - val_loss: 56311.3683\n",
      "Epoch 60/100\n",
      "8000/8000 [==============================] - 0s - loss: 55974.3767 - val_loss: 56400.2480\n",
      "Epoch 61/100\n",
      "8000/8000 [==============================] - 0s - loss: 55881.6289 - val_loss: 56865.6365\n",
      "Epoch 62/100\n",
      "8000/8000 [==============================] - 0s - loss: 55916.8127 - val_loss: 56206.7876\n",
      "Epoch 63/100\n",
      "8000/8000 [==============================] - 0s - loss: 55869.8073 - val_loss: 56139.7176\n",
      "Epoch 64/100\n",
      "8000/8000 [==============================] - 1s - loss: 55817.9626 - val_loss: 56038.1371\n",
      "Epoch 65/100\n",
      "8000/8000 [==============================] - 0s - loss: 55803.6192 - val_loss: 56040.4418\n",
      "Epoch 66/100\n",
      "8000/8000 [==============================] - 0s - loss: 55758.1998 - val_loss: 56039.9043\n",
      "Epoch 67/100\n",
      "8000/8000 [==============================] - 0s - loss: 55702.5983 - val_loss: 55932.8032\n",
      "Epoch 68/100\n",
      "8000/8000 [==============================] - 0s - loss: 55675.8329 - val_loss: 55936.5971\n",
      "Epoch 69/100\n",
      "8000/8000 [==============================] - 0s - loss: 55624.2263 - val_loss: 56063.7548\n",
      "Epoch 70/100\n",
      "8000/8000 [==============================] - 0s - loss: 55595.3244 - val_loss: 55816.4921\n",
      "Epoch 71/100\n",
      "8000/8000 [==============================] - 1s - loss: 55568.2867 - val_loss: 55795.5113\n",
      "Epoch 72/100\n",
      "8000/8000 [==============================] - 0s - loss: 55538.9016 - val_loss: 55922.8457\n",
      "Epoch 73/100\n",
      "8000/8000 [==============================] - 0s - loss: 55494.2693 - val_loss: 55731.3475\n",
      "Epoch 74/100\n",
      "8000/8000 [==============================] - 0s - loss: 55464.0327 - val_loss: 55765.3097\n",
      "Epoch 75/100\n",
      "8000/8000 [==============================] - 0s - loss: 55409.8585 - val_loss: 55929.7423\n",
      "Epoch 76/100\n",
      "8000/8000 [==============================] - 0s - loss: 55398.1079 - val_loss: 55827.2424\n",
      "Epoch 77/100\n",
      "8000/8000 [==============================] - 0s - loss: 55354.2235 - val_loss: 55615.8140\n",
      "Epoch 78/100\n",
      "8000/8000 [==============================] - 0s - loss: 55324.6446 - val_loss: 55653.2969\n",
      "Epoch 79/100\n",
      "8000/8000 [==============================] - 0s - loss: 55269.2452 - val_loss: 55713.9313\n",
      "Epoch 80/100\n"
     ]
    },
    {
     "name": "stdout",
     "output_type": "stream",
     "text": [
      "8000/8000 [==============================] - 0s - loss: 55255.6983 - val_loss: 55483.9304\n",
      "Epoch 81/100\n",
      "8000/8000 [==============================] - 0s - loss: 55194.5235 - val_loss: 55464.9288\n",
      "Epoch 82/100\n",
      "8000/8000 [==============================] - 0s - loss: 55160.7052 - val_loss: 55856.2987\n",
      "Epoch 83/100\n",
      "8000/8000 [==============================] - 0s - loss: 55137.4490 - val_loss: 55714.9979\n",
      "Epoch 84/100\n",
      "8000/8000 [==============================] - 0s - loss: 55101.9245 - val_loss: 55555.6224\n",
      "Epoch 85/100\n",
      "8000/8000 [==============================] - 0s - loss: 55065.0379 - val_loss: 55316.2920\n",
      "Epoch 86/100\n",
      "8000/8000 [==============================] - 0s - loss: 55024.3729 - val_loss: 55448.8042\n",
      "Epoch 87/100\n",
      "8000/8000 [==============================] - 0s - loss: 54982.2039 - val_loss: 55215.2601\n",
      "Epoch 88/100\n",
      "8000/8000 [==============================] - 0s - loss: 54948.5887 - val_loss: 55608.2081\n",
      "Epoch 89/100\n",
      "8000/8000 [==============================] - 0s - loss: 54932.3453 - val_loss: 55154.8389\n",
      "Epoch 90/100\n",
      "8000/8000 [==============================] - 0s - loss: 54900.9890 - val_loss: 55126.3258\n",
      "Epoch 91/100\n",
      "8000/8000 [==============================] - 0s - loss: 54853.0505 - val_loss: 55096.6985\n",
      "Epoch 92/100\n",
      "8000/8000 [==============================] - 0s - loss: 54837.1157 - val_loss: 55124.1537\n",
      "Epoch 93/100\n",
      "8000/8000 [==============================] - 0s - loss: 54757.7413 - val_loss: 55232.6022\n",
      "Epoch 94/100\n",
      "8000/8000 [==============================] - 0s - loss: 54745.7097 - val_loss: 55185.1121\n",
      "Epoch 95/100\n",
      "8000/8000 [==============================] - 0s - loss: 54713.4096 - val_loss: 55005.7561\n",
      "Epoch 96/100\n",
      "8000/8000 [==============================] - 0s - loss: 54676.4982 - val_loss: 54911.0098\n",
      "Epoch 97/100\n",
      "8000/8000 [==============================] - 0s - loss: 54653.4263 - val_loss: 54916.5967\n",
      "Epoch 98/100\n",
      "8000/8000 [==============================] - 0s - loss: 54617.5658 - val_loss: 54930.6571\n",
      "Epoch 99/100\n",
      "8000/8000 [==============================] - 0s - loss: 54567.1278 - val_loss: 54935.4944\n",
      "Epoch 100/100\n",
      "8000/8000 [==============================] - 0s - loss: 54534.6478 - val_loss: 54852.5819\n"
     ]
    },
    {
     "data": {
      "text/plain": [
       "<keras.callbacks.History at 0x7fa4646b40b8>"
      ]
     },
     "execution_count": 19,
     "metadata": {},
     "output_type": "execute_result"
    }
   ],
   "source": [
    "model = Sequential()\n",
    "model.add(Dense(1, input_dim=1))\n",
    "model.compile(optimizer='rmsprop', loss='mse')\n",
    "model.fit(x, y, epochs=100, validation_data=(x_val, y_val))"
   ]
  },
  {
   "cell_type": "code",
   "execution_count": 20,
   "metadata": {},
   "outputs": [
    {
     "name": "stdout",
     "output_type": "stream",
     "text": [
      "[[ 34.51362991]\n",
      " [ 40.80071259]\n",
      " [ 28.51232338]\n",
      " [ 37.08562088]\n",
      " [ 50.80289459]]\n"
     ]
    }
   ],
   "source": [
    "print(model.predict(np.array([np.random.randint(10,100) for _ in range(5)])))"
   ]
  },
  {
   "cell_type": "code",
   "execution_count": 21,
   "metadata": {},
   "outputs": [],
   "source": [
    "model.save_weights('travel-price.hdf5')"
   ]
  },
  {
   "cell_type": "code",
   "execution_count": 22,
   "metadata": {},
   "outputs": [],
   "source": [
    "with open('travel-price.json','w') as f:\n",
    "    f.write(model.to_json())\n",
    "    f.close()"
   ]
  }
 ],
 "metadata": {
  "kernelspec": {
   "display_name": "Python 3",
   "language": "python",
   "name": "python3"
  },
  "language_info": {
   "codemirror_mode": {
    "name": "ipython",
    "version": 3
   },
   "file_extension": ".py",
   "mimetype": "text/x-python",
   "name": "python",
   "nbconvert_exporter": "python",
   "pygments_lexer": "ipython3",
   "version": "3.6.3"
  }
 },
 "nbformat": 4,
 "nbformat_minor": 2
}
