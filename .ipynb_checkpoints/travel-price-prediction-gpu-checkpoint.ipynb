{
 "cells": [
  {
   "cell_type": "code",
   "execution_count": 1,
   "metadata": {},
   "outputs": [],
   "source": [
    "import warnings; warnings.simplefilter('ignore')"
   ]
  },
  {
   "cell_type": "code",
   "execution_count": 2,
   "metadata": {},
   "outputs": [],
   "source": [
    "import pandas as pd"
   ]
  },
  {
   "cell_type": "code",
   "execution_count": 3,
   "metadata": {},
   "outputs": [],
   "source": [
    "import numpy as np"
   ]
  },
  {
   "cell_type": "code",
   "execution_count": 4,
   "metadata": {},
   "outputs": [
    {
     "name": "stderr",
     "output_type": "stream",
     "text": [
      "Using TensorFlow backend.\n"
     ]
    }
   ],
   "source": [
    "import keras"
   ]
  },
  {
   "cell_type": "code",
   "execution_count": 5,
   "metadata": {},
   "outputs": [],
   "source": [
    "from keras import backend as K"
   ]
  },
  {
   "cell_type": "code",
   "execution_count": 6,
   "metadata": {},
   "outputs": [],
   "source": [
    "from keras.models import Sequential"
   ]
  },
  {
   "cell_type": "code",
   "execution_count": 7,
   "metadata": {},
   "outputs": [],
   "source": [
    "from keras.layers import Dense"
   ]
  },
  {
   "cell_type": "code",
   "execution_count": 8,
   "metadata": {},
   "outputs": [],
   "source": [
    "from sklearn import model_selection"
   ]
  },
  {
   "cell_type": "code",
   "execution_count": 9,
   "metadata": {},
   "outputs": [],
   "source": [
    "import math"
   ]
  },
  {
   "cell_type": "code",
   "execution_count": 10,
   "metadata": {},
   "outputs": [],
   "source": [
    "import tensorflow as tf"
   ]
  },
  {
   "cell_type": "code",
   "execution_count": 11,
   "metadata": {},
   "outputs": [],
   "source": [
    "import horovod.keras as hvd"
   ]
  },
  {
   "cell_type": "code",
   "execution_count": 12,
   "metadata": {},
   "outputs": [],
   "source": [
    "df = pd.DataFrame()"
   ]
  },
  {
   "cell_type": "code",
   "execution_count": 13,
   "metadata": {},
   "outputs": [],
   "source": [
    "df['distances'] = np.array([np.random.randint(1,1000) for _ in range(10**5)])"
   ]
  },
  {
   "cell_type": "code",
   "execution_count": 14,
   "metadata": {},
   "outputs": [],
   "source": [
    "df['weights'] = np.array([np.random.randint(60,500) for _ in range(10**5)])"
   ]
  },
  {
   "cell_type": "code",
   "execution_count": 15,
   "metadata": {},
   "outputs": [
    {
     "data": {
      "text/plain": [
       "distances    100000\n",
       "weights      100000\n",
       "dtype: int64"
      ]
     },
     "execution_count": 15,
     "metadata": {},
     "output_type": "execute_result"
    }
   ],
   "source": [
    "df[['distances','weights']].count()"
   ]
  },
  {
   "cell_type": "code",
   "execution_count": 16,
   "metadata": {},
   "outputs": [],
   "source": [
    "df['prices'] = np.array([((df['distances'][i] * df['weights'][i])/100) for i in range(len(df['distances']))])"
   ]
  },
  {
   "cell_type": "code",
   "execution_count": 17,
   "metadata": {},
   "outputs": [
    {
     "data": {
      "text/html": [
       "<div>\n",
       "<style scoped>\n",
       "    .dataframe tbody tr th:only-of-type {\n",
       "        vertical-align: middle;\n",
       "    }\n",
       "\n",
       "    .dataframe tbody tr th {\n",
       "        vertical-align: top;\n",
       "    }\n",
       "\n",
       "    .dataframe thead th {\n",
       "        text-align: right;\n",
       "    }\n",
       "</style>\n",
       "<table border=\"1\" class=\"dataframe\">\n",
       "  <thead>\n",
       "    <tr style=\"text-align: right;\">\n",
       "      <th></th>\n",
       "      <th>distances</th>\n",
       "      <th>weights</th>\n",
       "      <th>prices</th>\n",
       "    </tr>\n",
       "  </thead>\n",
       "  <tbody>\n",
       "    <tr>\n",
       "      <th>0</th>\n",
       "      <td>103</td>\n",
       "      <td>100</td>\n",
       "      <td>103.00</td>\n",
       "    </tr>\n",
       "    <tr>\n",
       "      <th>1</th>\n",
       "      <td>627</td>\n",
       "      <td>139</td>\n",
       "      <td>871.53</td>\n",
       "    </tr>\n",
       "    <tr>\n",
       "      <th>2</th>\n",
       "      <td>895</td>\n",
       "      <td>366</td>\n",
       "      <td>3275.70</td>\n",
       "    </tr>\n",
       "    <tr>\n",
       "      <th>3</th>\n",
       "      <td>969</td>\n",
       "      <td>276</td>\n",
       "      <td>2674.44</td>\n",
       "    </tr>\n",
       "    <tr>\n",
       "      <th>4</th>\n",
       "      <td>441</td>\n",
       "      <td>203</td>\n",
       "      <td>895.23</td>\n",
       "    </tr>\n",
       "  </tbody>\n",
       "</table>\n",
       "</div>"
      ],
      "text/plain": [
       "   distances  weights   prices\n",
       "0        103      100   103.00\n",
       "1        627      139   871.53\n",
       "2        895      366  3275.70\n",
       "3        969      276  2674.44\n",
       "4        441      203   895.23"
      ]
     },
     "execution_count": 17,
     "metadata": {},
     "output_type": "execute_result"
    }
   ],
   "source": [
    "df.head()"
   ]
  },
  {
   "cell_type": "code",
   "execution_count": 18,
   "metadata": {},
   "outputs": [
    {
     "data": {
      "text/plain": [
       "0"
      ]
     },
     "execution_count": 18,
     "metadata": {},
     "output_type": "execute_result"
    }
   ],
   "source": [
    "hvd.init()"
   ]
  },
  {
   "cell_type": "code",
   "execution_count": 19,
   "metadata": {},
   "outputs": [],
   "source": [
    "config = tf.ConfigProto()"
   ]
  },
  {
   "cell_type": "code",
   "execution_count": 20,
   "metadata": {},
   "outputs": [],
   "source": [
    "config.gpu_options.allow_growth = True"
   ]
  },
  {
   "cell_type": "code",
   "execution_count": 21,
   "metadata": {},
   "outputs": [],
   "source": [
    "config.gpu_options.visible_device_list = str(hvd.local_rank())"
   ]
  },
  {
   "cell_type": "code",
   "execution_count": 22,
   "metadata": {},
   "outputs": [],
   "source": [
    "K.set_session(tf.Session(config=config))"
   ]
  },
  {
   "cell_type": "code",
   "execution_count": 23,
   "metadata": {},
   "outputs": [],
   "source": [
    "batch_size = 128"
   ]
  },
  {
   "cell_type": "code",
   "execution_count": 24,
   "metadata": {},
   "outputs": [],
   "source": [
    "num_classes = 10"
   ]
  },
  {
   "cell_type": "code",
   "execution_count": 25,
   "metadata": {},
   "outputs": [],
   "source": [
    "epochs = int(math.ceil(120.0) / hvd.size())"
   ]
  },
  {
   "cell_type": "code",
   "execution_count": 26,
   "metadata": {},
   "outputs": [],
   "source": [
    "x, x_val, y, y_val = model_selection.train_test_split(df['prices'], df['distances'], test_size=0.2, random_state=42)"
   ]
  },
  {
   "cell_type": "code",
   "execution_count": 27,
   "metadata": {},
   "outputs": [],
   "source": [
    "dlce = lambda l: [v for v in l if v >= 0]"
   ]
  },
  {
   "cell_type": "code",
   "execution_count": 28,
   "metadata": {},
   "outputs": [],
   "source": [
    "x = np.array(dlce(x))\n",
    "x_val = np.array(dlce(x_val))"
   ]
  },
  {
   "cell_type": "code",
   "execution_count": 29,
   "metadata": {},
   "outputs": [],
   "source": [
    "y = np.array(dlce(y))\n",
    "y_val = np.array(dlce(y_val))"
   ]
  },
  {
   "cell_type": "code",
   "execution_count": 30,
   "metadata": {},
   "outputs": [],
   "source": [
    "opt = keras.optimizers.RMSprop(1.0 * hvd.size())"
   ]
  },
  {
   "cell_type": "code",
   "execution_count": 31,
   "metadata": {},
   "outputs": [],
   "source": [
    "opt = hvd.DistributedOptimizer(opt)"
   ]
  },
  {
   "cell_type": "code",
   "execution_count": 32,
   "metadata": {},
   "outputs": [],
   "source": [
    "model = Sequential()"
   ]
  },
  {
   "cell_type": "code",
   "execution_count": 33,
   "metadata": {},
   "outputs": [],
   "source": [
    "model.add(Dense(1, input_dim=1))"
   ]
  },
  {
   "cell_type": "code",
   "execution_count": 34,
   "metadata": {},
   "outputs": [],
   "source": [
    "model.compile(optimizer=opt, loss=keras.losses.mse,metrics=['accuracy'])"
   ]
  },
  {
   "cell_type": "code",
   "execution_count": 35,
   "metadata": {},
   "outputs": [],
   "source": [
    "callbacks = [hvd.callbacks.BroadcastGlobalVariablesCallback(0)]"
   ]
  },
  {
   "cell_type": "code",
   "execution_count": 36,
   "metadata": {},
   "outputs": [],
   "source": [
    "if hvd.rank() == 0:\n",
    "    callbacks.append(keras.callbacks.ModelCheckpoint('./checkpoint-{epoch}.h5'))"
   ]
  },
  {
   "cell_type": "code",
   "execution_count": 37,
   "metadata": {},
   "outputs": [
    {
     "name": "stdout",
     "output_type": "stream",
     "text": [
      "Train on 80000 samples, validate on 20000 samples\n",
      "Epoch 1/120\n",
      "80000/80000 [==============================] - 1s 7us/step - loss: 827981.1885 - acc: 0.0012 - val_loss: 1180702.7420 - val_acc: 4.5000e-04\n",
      "Epoch 2/120\n",
      "80000/80000 [==============================] - 1s 7us/step - loss: 818489.7878 - acc: 9.3750e-04 - val_loss: 248267.6365 - val_acc: 8.5000e-04\n",
      "Epoch 3/120\n",
      "80000/80000 [==============================] - 1s 6us/step - loss: 802707.1441 - acc: 8.0000e-04 - val_loss: 111518.8630 - val_acc: 0.0013\n",
      "Epoch 4/120\n",
      "80000/80000 [==============================] - 1s 7us/step - loss: 806651.3016 - acc: 6.2500e-04 - val_loss: 872841.1168 - val_acc: 5.5000e-04\n",
      "Epoch 5/120\n",
      "80000/80000 [==============================] - 1s 6us/step - loss: 798310.0786 - acc: 5.8750e-04 - val_loss: 1910706.5204 - val_acc: 2.5000e-04\n",
      "Epoch 6/120\n",
      "80000/80000 [==============================] - 1s 7us/step - loss: 806297.3646 - acc: 7.0000e-04 - val_loss: 109408.3929 - val_acc: 8.0000e-04\n",
      "Epoch 7/120\n",
      "80000/80000 [==============================] - 1s 7us/step - loss: 804006.8166 - acc: 5.7500e-04 - val_loss: 2406632.4164 - val_acc: 3.0000e-04\n",
      "Epoch 8/120\n",
      "80000/80000 [==============================] - 1s 6us/step - loss: 801251.3742 - acc: 5.5000e-04 - val_loss: 57725.1310 - val_acc: 0.0017\n",
      "Epoch 9/120\n",
      "80000/80000 [==============================] - 1s 6us/step - loss: 802309.4811 - acc: 6.0000e-04 - val_loss: 932371.9404 - val_acc: 4.5000e-04\n",
      "Epoch 10/120\n",
      "80000/80000 [==============================] - 1s 6us/step - loss: 798584.5614 - acc: 6.7500e-04 - val_loss: 91093.9714 - val_acc: 0.0018\n",
      "Epoch 11/120\n",
      "80000/80000 [==============================] - 1s 6us/step - loss: 808749.9434 - acc: 5.8750e-04 - val_loss: 477707.9363 - val_acc: 4.0000e-04\n",
      "Epoch 12/120\n",
      "80000/80000 [==============================] - 1s 7us/step - loss: 805038.8991 - acc: 7.5000e-04 - val_loss: 643962.7068 - val_acc: 7.0000e-04\n",
      "Epoch 13/120\n",
      "80000/80000 [==============================] - 1s 6us/step - loss: 806818.7522 - acc: 6.3750e-04 - val_loss: 70964.8521 - val_acc: 0.0013\n",
      "Epoch 14/120\n",
      "80000/80000 [==============================] - 1s 7us/step - loss: 805159.7873 - acc: 5.5000e-04 - val_loss: 1424782.5932 - val_acc: 5.0000e-04\n",
      "Epoch 15/120\n",
      "80000/80000 [==============================] - 1s 7us/step - loss: 794693.2785 - acc: 6.8750e-04 - val_loss: 1277094.5948 - val_acc: 3.5000e-04\n",
      "Epoch 16/120\n",
      "80000/80000 [==============================] - 1s 7us/step - loss: 798458.3414 - acc: 6.5000e-04 - val_loss: 134772.3116 - val_acc: 0.0010\n",
      "Epoch 17/120\n",
      "80000/80000 [==============================] - 1s 6us/step - loss: 804131.1709 - acc: 4.6250e-04 - val_loss: 470410.7608 - val_acc: 3.0000e-04\n",
      "Epoch 18/120\n",
      "80000/80000 [==============================] - 1s 6us/step - loss: 802184.0128 - acc: 5.7500e-04 - val_loss: 76982.3432 - val_acc: 0.0017\n",
      "Epoch 19/120\n",
      "80000/80000 [==============================] - 1s 7us/step - loss: 807909.7034 - acc: 7.0000e-04 - val_loss: 783203.5978 - val_acc: 5.0000e-05\n",
      "Epoch 20/120\n",
      "80000/80000 [==============================] - 1s 6us/step - loss: 797321.3324 - acc: 6.0000e-04 - val_loss: 1242666.7460 - val_acc: 7.5000e-04\n",
      "Epoch 21/120\n",
      "80000/80000 [==============================] - 1s 7us/step - loss: 802564.8668 - acc: 6.2500e-04 - val_loss: 2615593.7560 - val_acc: 2.5000e-04\n",
      "Epoch 22/120\n",
      "80000/80000 [==============================] - 1s 6us/step - loss: 805622.5174 - acc: 5.8750e-04 - val_loss: 37194.3314 - val_acc: 0.0014\n",
      "Epoch 23/120\n",
      "80000/80000 [==============================] - 1s 7us/step - loss: 799113.8108 - acc: 7.1250e-04 - val_loss: 624469.7782 - val_acc: 2.0000e-04\n",
      "Epoch 24/120\n",
      "80000/80000 [==============================] - 1s 6us/step - loss: 800815.3357 - acc: 5.5000e-04 - val_loss: 450366.3752 - val_acc: 7.5000e-04\n",
      "Epoch 25/120\n",
      "80000/80000 [==============================] - 1s 7us/step - loss: 798228.9992 - acc: 6.5000e-04 - val_loss: 2251478.3072 - val_acc: 1.5000e-04\n",
      "Epoch 26/120\n",
      "80000/80000 [==============================] - 1s 7us/step - loss: 801328.6122 - acc: 7.5000e-04 - val_loss: 42542.5498 - val_acc: 0.0015\n",
      "Epoch 27/120\n",
      "80000/80000 [==============================] - 1s 7us/step - loss: 801028.6590 - acc: 7.0000e-04 - val_loss: 351723.3998 - val_acc: 6.5000e-04\n",
      "Epoch 28/120\n",
      "80000/80000 [==============================] - 1s 7us/step - loss: 797603.0588 - acc: 8.1250e-04 - val_loss: 304464.3581 - val_acc: 7.5000e-04\n",
      "Epoch 29/120\n",
      "80000/80000 [==============================] - 1s 7us/step - loss: 807692.6438 - acc: 5.0000e-04 - val_loss: 53568.2178 - val_acc: 0.0022\n",
      "Epoch 30/120\n",
      "80000/80000 [==============================] - 1s 7us/step - loss: 798188.9293 - acc: 6.7500e-04 - val_loss: 372494.3762 - val_acc: 6.5000e-04\n",
      "Epoch 31/120\n",
      "80000/80000 [==============================] - 1s 7us/step - loss: 803461.2995 - acc: 7.5000e-04 - val_loss: 194450.3312 - val_acc: 6.5000e-04\n",
      "Epoch 32/120\n",
      "80000/80000 [==============================] - 1s 9us/step - loss: 791134.6745 - acc: 7.0000e-04 - val_loss: 4927149.7072 - val_acc: 0.0000e+00\n",
      "Epoch 33/120\n",
      "80000/80000 [==============================] - 1s 9us/step - loss: 805239.6632 - acc: 6.2500e-04 - val_loss: 1678484.5804 - val_acc: 4.5000e-04\n",
      "Epoch 34/120\n",
      "80000/80000 [==============================] - 1s 8us/step - loss: 800835.1577 - acc: 4.7500e-04 - val_loss: 89216.6887 - val_acc: 6.5000e-04\n",
      "Epoch 35/120\n",
      "80000/80000 [==============================] - 1s 6us/step - loss: 795133.0767 - acc: 4.8750e-04 - val_loss: 146001.9753 - val_acc: 7.5000e-04\n",
      "Epoch 36/120\n",
      "80000/80000 [==============================] - 1s 7us/step - loss: 802604.3322 - acc: 5.7500e-04 - val_loss: 37339.8244 - val_acc: 0.0013\n",
      "Epoch 37/120\n",
      "80000/80000 [==============================] - 1s 7us/step - loss: 797380.4508 - acc: 7.7500e-04 - val_loss: 104686.9623 - val_acc: 8.5000e-04\n",
      "Epoch 38/120\n",
      "80000/80000 [==============================] - 1s 8us/step - loss: 799996.8446 - acc: 4.8750e-04 - val_loss: 157637.2446 - val_acc: 0.0014\n",
      "Epoch 39/120\n",
      "80000/80000 [==============================] - 1s 7us/step - loss: 803390.6740 - acc: 5.5000e-04 - val_loss: 94004.6310 - val_acc: 0.0017\n",
      "Epoch 40/120\n",
      "80000/80000 [==============================] - 1s 8us/step - loss: 806318.0465 - acc: 5.2500e-04 - val_loss: 176323.3684 - val_acc: 6.5000e-04\n",
      "Epoch 41/120\n",
      "80000/80000 [==============================] - 1s 8us/step - loss: 804287.1393 - acc: 6.1250e-04 - val_loss: 526763.9322 - val_acc: 7.0000e-04\n",
      "Epoch 42/120\n",
      "80000/80000 [==============================] - 1s 8us/step - loss: 805447.8456 - acc: 5.2500e-04 - val_loss: 49970.4514 - val_acc: 0.0015\n",
      "Epoch 43/120\n",
      "80000/80000 [==============================] - 1s 7us/step - loss: 797795.4033 - acc: 6.8750e-04 - val_loss: 1979927.3886 - val_acc: 8.5000e-04\n",
      "Epoch 44/120\n",
      "80000/80000 [==============================] - 1s 8us/step - loss: 796166.7620 - acc: 7.6250e-04 - val_loss: 763526.1642 - val_acc: 2.5000e-04\n",
      "Epoch 45/120\n",
      "80000/80000 [==============================] - 1s 7us/step - loss: 804908.0630 - acc: 6.3750e-04 - val_loss: 1523519.2752 - val_acc: 5.5000e-04\n",
      "Epoch 46/120\n",
      "80000/80000 [==============================] - 1s 7us/step - loss: 803471.8676 - acc: 5.1250e-04 - val_loss: 656143.4166 - val_acc: 5.0000e-04\n",
      "Epoch 47/120\n",
      "80000/80000 [==============================] - 1s 7us/step - loss: 788609.8608 - acc: 7.7500e-04 - val_loss: 870629.4720 - val_acc: 2.5000e-04\n",
      "Epoch 48/120\n",
      "80000/80000 [==============================] - 1s 7us/step - loss: 810539.5307 - acc: 6.5000e-04 - val_loss: 113565.0045 - val_acc: 0.0012\n",
      "Epoch 49/120\n",
      "80000/80000 [==============================] - 1s 7us/step - loss: 804376.4742 - acc: 6.3750e-04 - val_loss: 360495.8023 - val_acc: 7.0000e-04\n",
      "Epoch 50/120\n",
      "80000/80000 [==============================] - 1s 7us/step - loss: 797213.9148 - acc: 6.5000e-04 - val_loss: 62700.7269 - val_acc: 0.0014\n",
      "Epoch 51/120\n",
      "80000/80000 [==============================] - 1s 7us/step - loss: 800003.1800 - acc: 6.7500e-04 - val_loss: 1598562.3632 - val_acc: 2.5000e-04\n",
      "Epoch 52/120\n",
      "80000/80000 [==============================] - 1s 9us/step - loss: 794367.2085 - acc: 7.6250e-04 - val_loss: 212142.6396 - val_acc: 7.5000e-04\n",
      "Epoch 53/120\n"
     ]
    },
    {
     "name": "stdout",
     "output_type": "stream",
     "text": [
      "80000/80000 [==============================] - 1s 7us/step - loss: 803144.4081 - acc: 5.3750e-04 - val_loss: 915646.6228 - val_acc: 4.5000e-04\n",
      "Epoch 54/120\n",
      "80000/80000 [==============================] - 0s 6us/step - loss: 802484.8039 - acc: 5.5000e-04 - val_loss: 2278588.6104 - val_acc: 1.0000e-04\n",
      "Epoch 55/120\n",
      "80000/80000 [==============================] - 1s 7us/step - loss: 806935.8497 - acc: 7.8750e-04 - val_loss: 275682.3289 - val_acc: 7.0000e-04\n",
      "Epoch 56/120\n",
      "80000/80000 [==============================] - 1s 7us/step - loss: 793879.8291 - acc: 7.3750e-04 - val_loss: 314558.7049 - val_acc: 8.0000e-04\n",
      "Epoch 57/120\n",
      "80000/80000 [==============================] - 1s 7us/step - loss: 796551.7571 - acc: 8.1250e-04 - val_loss: 224713.4780 - val_acc: 6.5000e-04\n",
      "Epoch 58/120\n",
      "80000/80000 [==============================] - 1s 8us/step - loss: 801507.0679 - acc: 7.1250e-04 - val_loss: 498588.0452 - val_acc: 3.0000e-04\n",
      "Epoch 59/120\n",
      "80000/80000 [==============================] - 1s 6us/step - loss: 790819.8363 - acc: 6.2500e-04 - val_loss: 3760023.7676 - val_acc: 1.5000e-04\n",
      "Epoch 60/120\n",
      "80000/80000 [==============================] - 1s 7us/step - loss: 808239.4352 - acc: 5.3750e-04 - val_loss: 252021.0770 - val_acc: 1.0000e-03\n",
      "Epoch 61/120\n",
      "80000/80000 [==============================] - 1s 7us/step - loss: 810745.7071 - acc: 5.0000e-04 - val_loss: 320601.3608 - val_acc: 6.5000e-04\n",
      "Epoch 62/120\n",
      "80000/80000 [==============================] - 1s 7us/step - loss: 801063.1566 - acc: 7.3750e-04 - val_loss: 1965441.5266 - val_acc: 2.0000e-04\n",
      "Epoch 63/120\n",
      "80000/80000 [==============================] - 1s 6us/step - loss: 796170.3423 - acc: 6.2500e-04 - val_loss: 183083.8200 - val_acc: 7.5000e-04\n",
      "Epoch 64/120\n",
      "80000/80000 [==============================] - 1s 7us/step - loss: 806978.7070 - acc: 5.1250e-04 - val_loss: 472145.9789 - val_acc: 6.5000e-04\n",
      "Epoch 65/120\n",
      "80000/80000 [==============================] - 1s 7us/step - loss: 806721.2884 - acc: 7.1250e-04 - val_loss: 156750.8007 - val_acc: 7.0000e-04\n",
      "Epoch 66/120\n",
      "80000/80000 [==============================] - 1s 7us/step - loss: 797071.8362 - acc: 8.3750e-04 - val_loss: 1965034.4388 - val_acc: 1.0000e-04\n",
      "Epoch 67/120\n",
      "80000/80000 [==============================] - 1s 7us/step - loss: 800520.9716 - acc: 6.2500e-04 - val_loss: 756249.7564 - val_acc: 8.0000e-04\n",
      "Epoch 68/120\n",
      "80000/80000 [==============================] - 1s 7us/step - loss: 792579.9169 - acc: 5.3750e-04 - val_loss: 297199.4037 - val_acc: 6.5000e-04\n",
      "Epoch 69/120\n",
      "80000/80000 [==============================] - 1s 7us/step - loss: 809690.1514 - acc: 6.6250e-04 - val_loss: 252684.1981 - val_acc: 4.0000e-04\n",
      "Epoch 70/120\n",
      "80000/80000 [==============================] - 1s 7us/step - loss: 801044.1100 - acc: 6.7500e-04 - val_loss: 675221.9577 - val_acc: 4.0000e-04\n",
      "Epoch 71/120\n",
      "80000/80000 [==============================] - 1s 7us/step - loss: 798498.7971 - acc: 7.6250e-04 - val_loss: 707186.7901 - val_acc: 4.0000e-04\n",
      "Epoch 72/120\n",
      "80000/80000 [==============================] - 1s 7us/step - loss: 816011.7390 - acc: 5.5000e-04 - val_loss: 76734.4326 - val_acc: 0.0011\n",
      "Epoch 73/120\n",
      "80000/80000 [==============================] - 1s 7us/step - loss: 797528.2026 - acc: 7.7500e-04 - val_loss: 51917.5134 - val_acc: 0.0014\n",
      "Epoch 74/120\n",
      "80000/80000 [==============================] - 1s 9us/step - loss: 793763.6559 - acc: 6.2500e-04 - val_loss: 258438.9053 - val_acc: 9.5000e-04\n",
      "Epoch 75/120\n",
      "80000/80000 [==============================] - 1s 7us/step - loss: 805816.9729 - acc: 6.1250e-04 - val_loss: 1020170.6262 - val_acc: 5.0000e-04\n",
      "Epoch 76/120\n",
      "80000/80000 [==============================] - 1s 7us/step - loss: 799732.3046 - acc: 6.6250e-04 - val_loss: 274253.5968 - val_acc: 8.0000e-04\n",
      "Epoch 77/120\n",
      "80000/80000 [==============================] - 1s 7us/step - loss: 798686.7257 - acc: 6.0000e-04 - val_loss: 277424.6444 - val_acc: 5.0000e-04\n",
      "Epoch 78/120\n",
      "80000/80000 [==============================] - 1s 7us/step - loss: 798430.6832 - acc: 6.3750e-04 - val_loss: 1373558.3606 - val_acc: 7.0000e-04\n",
      "Epoch 79/120\n",
      "80000/80000 [==============================] - 1s 7us/step - loss: 804898.5609 - acc: 7.6250e-04 - val_loss: 407583.4955 - val_acc: 7.5000e-04\n",
      "Epoch 80/120\n",
      "80000/80000 [==============================] - 1s 7us/step - loss: 803299.2473 - acc: 6.5000e-04 - val_loss: 391141.0468 - val_acc: 3.5000e-04\n",
      "Epoch 81/120\n",
      "80000/80000 [==============================] - 1s 7us/step - loss: 808228.8777 - acc: 4.7500e-04 - val_loss: 719177.5334 - val_acc: 4.5000e-04\n",
      "Epoch 82/120\n",
      "80000/80000 [==============================] - 1s 7us/step - loss: 804917.9322 - acc: 7.0000e-04 - val_loss: 38817.1958 - val_acc: 0.0021\n",
      "Epoch 83/120\n",
      "80000/80000 [==============================] - 1s 7us/step - loss: 785540.7387 - acc: 6.5000e-04 - val_loss: 114820.0674 - val_acc: 7.5000e-04\n",
      "Epoch 84/120\n",
      "80000/80000 [==============================] - 1s 7us/step - loss: 802219.5989 - acc: 5.8750e-04 - val_loss: 346743.5606 - val_acc: 6.5000e-04\n",
      "Epoch 85/120\n",
      "80000/80000 [==============================] - 1s 7us/step - loss: 796209.0833 - acc: 7.3750e-04 - val_loss: 808957.7062 - val_acc: 3.0000e-04\n",
      "Epoch 86/120\n",
      "80000/80000 [==============================] - 1s 8us/step - loss: 806210.4255 - acc: 6.7500e-04 - val_loss: 153614.1027 - val_acc: 0.0011\n",
      "Epoch 87/120\n",
      "80000/80000 [==============================] - 1s 7us/step - loss: 798377.8605 - acc: 6.5000e-04 - val_loss: 1062757.3277 - val_acc: 5.0000e-04\n",
      "Epoch 88/120\n",
      "80000/80000 [==============================] - 1s 7us/step - loss: 802750.3813 - acc: 5.3750e-04 - val_loss: 1453186.5116 - val_acc: 8.5000e-04\n",
      "Epoch 89/120\n",
      "80000/80000 [==============================] - 1s 7us/step - loss: 806749.6370 - acc: 6.2500e-04 - val_loss: 1444478.0104 - val_acc: 5.0000e-05\n",
      "Epoch 90/120\n",
      "80000/80000 [==============================] - 1s 7us/step - loss: 801757.8690 - acc: 6.1250e-04 - val_loss: 135361.5897 - val_acc: 0.0013\n",
      "Epoch 91/120\n",
      "80000/80000 [==============================] - 1s 7us/step - loss: 800813.8834 - acc: 7.3750e-04 - val_loss: 690932.9322 - val_acc: 7.5000e-04\n",
      "Epoch 92/120\n",
      "80000/80000 [==============================] - 1s 7us/step - loss: 803569.1196 - acc: 6.1250e-04 - val_loss: 337964.8648 - val_acc: 9.0000e-04\n",
      "Epoch 93/120\n",
      "80000/80000 [==============================] - 1s 7us/step - loss: 799424.3107 - acc: 6.6250e-04 - val_loss: 373058.3915 - val_acc: 7.5000e-04\n",
      "Epoch 94/120\n",
      "80000/80000 [==============================] - 1s 7us/step - loss: 796774.6782 - acc: 6.2500e-04 - val_loss: 56032.0803 - val_acc: 0.0018\n",
      "Epoch 95/120\n",
      "80000/80000 [==============================] - 1s 9us/step - loss: 797239.9479 - acc: 8.2500e-04 - val_loss: 56784.2500 - val_acc: 0.0013\n",
      "Epoch 96/120\n",
      "80000/80000 [==============================] - 1s 7us/step - loss: 802584.5393 - acc: 7.8750e-04 - val_loss: 774615.6095 - val_acc: 2.5000e-04\n",
      "Epoch 97/120\n",
      "80000/80000 [==============================] - 1s 7us/step - loss: 804272.7708 - acc: 6.1250e-04 - val_loss: 324427.3234 - val_acc: 6.0000e-04\n",
      "Epoch 98/120\n",
      "80000/80000 [==============================] - 1s 7us/step - loss: 803929.8303 - acc: 6.2500e-04 - val_loss: 925498.8960 - val_acc: 4.0000e-04\n",
      "Epoch 99/120\n",
      "80000/80000 [==============================] - 1s 7us/step - loss: 800249.5222 - acc: 6.5000e-04 - val_loss: 47112.2415 - val_acc: 0.0016\n",
      "Epoch 100/120\n",
      "80000/80000 [==============================] - 1s 7us/step - loss: 801186.5534 - acc: 6.5000e-04 - val_loss: 72039.4741 - val_acc: 8.0000e-04\n",
      "Epoch 101/120\n",
      "80000/80000 [==============================] - 1s 7us/step - loss: 803177.8144 - acc: 7.1250e-04 - val_loss: 472731.7010 - val_acc: 7.0000e-04\n",
      "Epoch 102/120\n",
      "80000/80000 [==============================] - 1s 7us/step - loss: 801284.9919 - acc: 4.8750e-04 - val_loss: 195102.9525 - val_acc: 0.0011\n",
      "Epoch 103/120\n",
      "80000/80000 [==============================] - 1s 7us/step - loss: 795803.5075 - acc: 5.3750e-04 - val_loss: 149582.3136 - val_acc: 0.0013\n",
      "Epoch 104/120\n",
      "80000/80000 [==============================] - 1s 7us/step - loss: 799882.7411 - acc: 5.3750e-04 - val_loss: 1393555.7928 - val_acc: 1.0000e-04\n",
      "Epoch 105/120\n",
      "80000/80000 [==============================] - 1s 7us/step - loss: 804370.8922 - acc: 6.1250e-04 - val_loss: 1518476.8272 - val_acc: 3.0000e-04\n"
     ]
    },
    {
     "name": "stdout",
     "output_type": "stream",
     "text": [
      "Epoch 106/120\n",
      "80000/80000 [==============================] - 0s 6us/step - loss: 802877.9956 - acc: 5.0000e-04 - val_loss: 1861406.9340 - val_acc: 6.5000e-04\n",
      "Epoch 107/120\n",
      "80000/80000 [==============================] - 0s 6us/step - loss: 812549.1679 - acc: 6.1250e-04 - val_loss: 563794.2351 - val_acc: 2.5000e-04\n",
      "Epoch 108/120\n",
      "80000/80000 [==============================] - 0s 6us/step - loss: 802613.3314 - acc: 5.8750e-04 - val_loss: 938141.9936 - val_acc: 6.0000e-04\n",
      "Epoch 109/120\n",
      "80000/80000 [==============================] - 1s 7us/step - loss: 798950.5986 - acc: 5.7500e-04 - val_loss: 46298.3702 - val_acc: 0.0014\n",
      "Epoch 110/120\n",
      "80000/80000 [==============================] - 1s 8us/step - loss: 805538.2741 - acc: 5.3750e-04 - val_loss: 748572.6120 - val_acc: 6.5000e-04\n",
      "Epoch 111/120\n",
      "80000/80000 [==============================] - 1s 8us/step - loss: 804729.3867 - acc: 5.1250e-04 - val_loss: 1433433.0070 - val_acc: 1.0000e-04\n",
      "Epoch 112/120\n",
      "80000/80000 [==============================] - 1s 6us/step - loss: 804237.0768 - acc: 7.2500e-04 - val_loss: 306224.1128 - val_acc: 9.5000e-04\n",
      "Epoch 113/120\n",
      "80000/80000 [==============================] - 1s 6us/step - loss: 805361.8773 - acc: 6.2500e-04 - val_loss: 217648.0835 - val_acc: 2.5000e-04\n",
      "Epoch 114/120\n",
      "80000/80000 [==============================] - 1s 6us/step - loss: 797156.0615 - acc: 6.8750e-04 - val_loss: 766693.8163 - val_acc: 4.5000e-04\n",
      "Epoch 115/120\n",
      "80000/80000 [==============================] - 1s 7us/step - loss: 807588.1182 - acc: 4.5000e-04 - val_loss: 138801.6895 - val_acc: 9.5000e-04\n",
      "Epoch 116/120\n",
      "80000/80000 [==============================] - 1s 7us/step - loss: 803081.3675 - acc: 7.1250e-04 - val_loss: 116063.8301 - val_acc: 1.0000e-03\n",
      "Epoch 117/120\n",
      "80000/80000 [==============================] - 1s 7us/step - loss: 800071.6262 - acc: 6.5000e-04 - val_loss: 535203.1791 - val_acc: 6.0000e-04\n",
      "Epoch 118/120\n",
      "80000/80000 [==============================] - 1s 7us/step - loss: 782868.3905 - acc: 7.1250e-04 - val_loss: 112261.4356 - val_acc: 7.0000e-04\n",
      "Epoch 119/120\n",
      "80000/80000 [==============================] - 1s 7us/step - loss: 800209.3868 - acc: 7.7500e-04 - val_loss: 179382.0169 - val_acc: 7.0000e-04\n",
      "Epoch 120/120\n",
      "80000/80000 [==============================] - 1s 7us/step - loss: 809557.6576 - acc: 5.3750e-04 - val_loss: 89033.6356 - val_acc: 5.5000e-04\n"
     ]
    },
    {
     "data": {
      "text/plain": [
       "<keras.callbacks.History at 0x7f4c50165ba8>"
      ]
     },
     "execution_count": 37,
     "metadata": {},
     "output_type": "execute_result"
    }
   ],
   "source": [
    "model.fit(x, y, batch_size=batch_size, callbacks=callbacks, epochs=epochs, verbose=1, validation_data=(x_val, y_val))"
   ]
  },
  {
   "cell_type": "code",
   "execution_count": 38,
   "metadata": {},
   "outputs": [],
   "source": [
    "score = model.evaluate(x_val, y_val, verbose=0)"
   ]
  },
  {
   "cell_type": "code",
   "execution_count": 39,
   "metadata": {},
   "outputs": [
    {
     "name": "stdout",
     "output_type": "stream",
     "text": [
      "Test loss: 89033.63565625\n"
     ]
    }
   ],
   "source": [
    "print('Test loss:', score[0])"
   ]
  },
  {
   "cell_type": "code",
   "execution_count": 40,
   "metadata": {},
   "outputs": [
    {
     "name": "stdout",
     "output_type": "stream",
     "text": [
      "Test accuracy: 0.00055\n"
     ]
    }
   ],
   "source": [
    "print('Test accuracy:', score[1])"
   ]
  },
  {
   "cell_type": "code",
   "execution_count": 41,
   "metadata": {},
   "outputs": [
    {
     "name": "stdout",
     "output_type": "stream",
     "text": [
      "[[229.94766]\n",
      " [230.92145]\n",
      " [257.21396]\n",
      " [241.95781]\n",
      " [241.30861]]\n"
     ]
    }
   ],
   "source": [
    "print(model.predict(np.array([np.random.randint(10,100) for _ in range(5)])))"
   ]
  },
  {
   "cell_type": "code",
   "execution_count": 42,
   "metadata": {},
   "outputs": [],
   "source": [
    "model.save_weights('travel-price.hdf5')"
   ]
  },
  {
   "cell_type": "code",
   "execution_count": 43,
   "metadata": {},
   "outputs": [],
   "source": [
    "with open('travel-price.json','w') as f:\n",
    "    f.write(model.to_json())\n",
    "    f.close()"
   ]
  }
 ],
 "metadata": {
  "kernelspec": {
   "display_name": "Python 3",
   "language": "python",
   "name": "python3"
  },
  "language_info": {
   "codemirror_mode": {
    "name": "ipython",
    "version": 3
   },
   "file_extension": ".py",
   "mimetype": "text/x-python",
   "name": "python",
   "nbconvert_exporter": "python",
   "pygments_lexer": "ipython3",
   "version": "3.6.4"
  }
 },
 "nbformat": 4,
 "nbformat_minor": 2
}
