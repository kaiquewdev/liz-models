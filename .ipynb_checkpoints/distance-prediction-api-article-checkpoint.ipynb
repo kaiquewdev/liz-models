{
 "cells": [
  {
   "cell_type": "code",
   "execution_count": 1,
   "metadata": {},
   "outputs": [],
   "source": [
    "from IPython.display import display, Markdown"
   ]
  },
  {
   "cell_type": "code",
   "execution_count": 2,
   "metadata": {},
   "outputs": [],
   "source": [
    "content = ''"
   ]
  },
  {
   "cell_type": "code",
   "execution_count": 3,
   "metadata": {},
   "outputs": [],
   "source": [
    "with open('./distance-prediction-api-article.md') as f:\n",
    "    content = f.read()\n",
    "    f.close()"
   ]
  },
  {
   "cell_type": "code",
   "execution_count": 4,
   "metadata": {},
   "outputs": [
    {
     "data": {
      "text/markdown": [
       "# Distance predict API\n",
       "\n",
       "## Introduction\n",
       "\n",
       "[[CONTENT]]\n",
       "\n",
       "## Sample input generation\n",
       "\n",
       "[[CONTENT]]\n",
       "\n",
       "## Definition\n",
       "\n",
       "[[CONTENT]]\n",
       "\n",
       "## Compilation\n",
       "\n",
       "[[CONTENT]]\n",
       "\n",
       "## Accuracy & Prediction\n",
       "\n",
       "[[CONTENT]]\n",
       "\n",
       "## Analysis of the problem\n",
       "\n",
       "[[CONTENT]]\n",
       "\n",
       "## Inherit the work\n",
       "\n",
       "[[CONTENT]]\n",
       "\n",
       "## Scaling the solution\n",
       "\n",
       "[[CONTENT]]\n",
       "\n",
       "## Deploying a solution\n",
       "\n",
       "[[CONTENT]]\n",
       "\n",
       "## Point of fact (Real world case of usage)\n",
       "\n",
       "[[CONTENT]]"
      ],
      "text/plain": [
       "<IPython.core.display.Markdown object>"
      ]
     },
     "metadata": {},
     "output_type": "display_data"
    }
   ],
   "source": [
    "display(Markdown(content))"
   ]
  },
  {
   "cell_type": "code",
   "execution_count": null,
   "metadata": {},
   "outputs": [],
   "source": []
  }
 ],
 "metadata": {
  "kernelspec": {
   "display_name": "Python 3",
   "language": "python",
   "name": "python3"
  },
  "language_info": {
   "codemirror_mode": {
    "name": "ipython",
    "version": 3
   },
   "file_extension": ".py",
   "mimetype": "text/x-python",
   "name": "python",
   "nbconvert_exporter": "python",
   "pygments_lexer": "ipython3",
   "version": "3.6.3"
  }
 },
 "nbformat": 4,
 "nbformat_minor": 2
}
