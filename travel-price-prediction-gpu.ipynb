{
 "cells": [
  {
   "cell_type": "code",
   "execution_count": 1,
   "metadata": {},
   "outputs": [],
   "source": [
    "import warnings; warnings.simplefilter('ignore')"
   ]
  },
  {
   "cell_type": "code",
   "execution_count": 2,
   "metadata": {},
   "outputs": [],
   "source": [
    "import pandas as pd"
   ]
  },
  {
   "cell_type": "code",
   "execution_count": 3,
   "metadata": {},
   "outputs": [],
   "source": [
    "import numpy as np"
   ]
  },
  {
   "cell_type": "code",
   "execution_count": 4,
   "metadata": {},
   "outputs": [
    {
     "name": "stderr",
     "output_type": "stream",
     "text": [
      "Using TensorFlow backend.\n"
     ]
    }
   ],
   "source": [
    "import keras"
   ]
  },
  {
   "cell_type": "code",
   "execution_count": 5,
   "metadata": {},
   "outputs": [],
   "source": [
    "from keras import backend as K"
   ]
  },
  {
   "cell_type": "code",
   "execution_count": 6,
   "metadata": {},
   "outputs": [],
   "source": [
    "from keras.models import Sequential"
   ]
  },
  {
   "cell_type": "code",
   "execution_count": 7,
   "metadata": {},
   "outputs": [],
   "source": [
    "from keras.layers import Dense"
   ]
  },
  {
   "cell_type": "code",
   "execution_count": 8,
   "metadata": {},
   "outputs": [],
   "source": [
    "from sklearn import model_selection"
   ]
  },
  {
   "cell_type": "code",
   "execution_count": 9,
   "metadata": {},
   "outputs": [],
   "source": [
    "import math"
   ]
  },
  {
   "cell_type": "code",
   "execution_count": 10,
   "metadata": {},
   "outputs": [],
   "source": [
    "import tensorflow as tf"
   ]
  },
  {
   "cell_type": "code",
   "execution_count": 11,
   "metadata": {},
   "outputs": [],
   "source": [
    "import horovod.keras as hvd"
   ]
  },
  {
   "cell_type": "code",
   "execution_count": 12,
   "metadata": {},
   "outputs": [],
   "source": [
    "from liz_models import distance_generation"
   ]
  },
  {
   "cell_type": "code",
   "execution_count": 13,
   "metadata": {},
   "outputs": [],
   "source": [
    "from liz_models import weights_generation"
   ]
  },
  {
   "cell_type": "code",
   "execution_count": 14,
   "metadata": {},
   "outputs": [],
   "source": [
    "df = pd.DataFrame()"
   ]
  },
  {
   "cell_type": "code",
   "execution_count": 15,
   "metadata": {},
   "outputs": [],
   "source": [
    "df['distances'] = distance_generation()"
   ]
  },
  {
   "cell_type": "code",
   "execution_count": 16,
   "metadata": {},
   "outputs": [],
   "source": [
    "df['weights'] = weights_generation()"
   ]
  },
  {
   "cell_type": "code",
   "execution_count": 17,
   "metadata": {},
   "outputs": [
    {
     "data": {
      "text/plain": [
       "distances    100000\n",
       "weights      100000\n",
       "dtype: int64"
      ]
     },
     "execution_count": 17,
     "metadata": {},
     "output_type": "execute_result"
    }
   ],
   "source": [
    "df[['distances','weights']].count()"
   ]
  },
  {
   "cell_type": "code",
   "execution_count": 18,
   "metadata": {},
   "outputs": [],
   "source": [
    "df['prices'] = np.array([((df['distances'][i] * df['weights'][i])/100) for i in range(len(df['distances']))])"
   ]
  },
  {
   "cell_type": "code",
   "execution_count": 19,
   "metadata": {},
   "outputs": [
    {
     "data": {
      "text/html": [
       "<div>\n",
       "<style scoped>\n",
       "    .dataframe tbody tr th:only-of-type {\n",
       "        vertical-align: middle;\n",
       "    }\n",
       "\n",
       "    .dataframe tbody tr th {\n",
       "        vertical-align: top;\n",
       "    }\n",
       "\n",
       "    .dataframe thead th {\n",
       "        text-align: right;\n",
       "    }\n",
       "</style>\n",
       "<table border=\"1\" class=\"dataframe\">\n",
       "  <thead>\n",
       "    <tr style=\"text-align: right;\">\n",
       "      <th></th>\n",
       "      <th>distances</th>\n",
       "      <th>weights</th>\n",
       "      <th>prices</th>\n",
       "    </tr>\n",
       "  </thead>\n",
       "  <tbody>\n",
       "    <tr>\n",
       "      <th>0</th>\n",
       "      <td>299</td>\n",
       "      <td>475</td>\n",
       "      <td>1420.25</td>\n",
       "    </tr>\n",
       "    <tr>\n",
       "      <th>1</th>\n",
       "      <td>585</td>\n",
       "      <td>193</td>\n",
       "      <td>1129.05</td>\n",
       "    </tr>\n",
       "    <tr>\n",
       "      <th>2</th>\n",
       "      <td>242</td>\n",
       "      <td>224</td>\n",
       "      <td>542.08</td>\n",
       "    </tr>\n",
       "    <tr>\n",
       "      <th>3</th>\n",
       "      <td>881</td>\n",
       "      <td>469</td>\n",
       "      <td>4131.89</td>\n",
       "    </tr>\n",
       "    <tr>\n",
       "      <th>4</th>\n",
       "      <td>410</td>\n",
       "      <td>444</td>\n",
       "      <td>1820.40</td>\n",
       "    </tr>\n",
       "  </tbody>\n",
       "</table>\n",
       "</div>"
      ],
      "text/plain": [
       "   distances  weights   prices\n",
       "0        299      475  1420.25\n",
       "1        585      193  1129.05\n",
       "2        242      224   542.08\n",
       "3        881      469  4131.89\n",
       "4        410      444  1820.40"
      ]
     },
     "execution_count": 19,
     "metadata": {},
     "output_type": "execute_result"
    }
   ],
   "source": [
    "df.head()"
   ]
  },
  {
   "cell_type": "code",
   "execution_count": 20,
   "metadata": {},
   "outputs": [
    {
     "data": {
      "text/plain": [
       "0"
      ]
     },
     "execution_count": 20,
     "metadata": {},
     "output_type": "execute_result"
    }
   ],
   "source": [
    "hvd.init()"
   ]
  },
  {
   "cell_type": "code",
   "execution_count": 21,
   "metadata": {},
   "outputs": [],
   "source": [
    "config = tf.ConfigProto()"
   ]
  },
  {
   "cell_type": "code",
   "execution_count": 22,
   "metadata": {},
   "outputs": [],
   "source": [
    "config.gpu_options.allow_growth = True"
   ]
  },
  {
   "cell_type": "code",
   "execution_count": 23,
   "metadata": {},
   "outputs": [],
   "source": [
    "config.gpu_options.visible_device_list = str(hvd.local_rank())"
   ]
  },
  {
   "cell_type": "code",
   "execution_count": 24,
   "metadata": {},
   "outputs": [],
   "source": [
    "K.set_session(tf.Session(config=config))"
   ]
  },
  {
   "cell_type": "code",
   "execution_count": 25,
   "metadata": {},
   "outputs": [],
   "source": [
    "batch_size = 128"
   ]
  },
  {
   "cell_type": "code",
   "execution_count": 26,
   "metadata": {},
   "outputs": [],
   "source": [
    "num_classes = 10"
   ]
  },
  {
   "cell_type": "code",
   "execution_count": 27,
   "metadata": {},
   "outputs": [],
   "source": [
    "epochs = int(math.ceil(120.0) / hvd.size())"
   ]
  },
  {
   "cell_type": "code",
   "execution_count": 28,
   "metadata": {},
   "outputs": [],
   "source": [
    "x, x_val, y, y_val = model_selection.train_test_split(df['prices'], df['distances'], test_size=0.2, random_state=42)"
   ]
  },
  {
   "cell_type": "code",
   "execution_count": 29,
   "metadata": {},
   "outputs": [],
   "source": [
    "dlce = lambda l: [v for v in l if v >= 0]"
   ]
  },
  {
   "cell_type": "code",
   "execution_count": 30,
   "metadata": {},
   "outputs": [],
   "source": [
    "x = np.array(dlce(x))\n",
    "x_val = np.array(dlce(x_val))"
   ]
  },
  {
   "cell_type": "code",
   "execution_count": 31,
   "metadata": {},
   "outputs": [],
   "source": [
    "y = np.array(dlce(y))\n",
    "y_val = np.array(dlce(y_val))"
   ]
  },
  {
   "cell_type": "code",
   "execution_count": 32,
   "metadata": {},
   "outputs": [],
   "source": [
    "opt = keras.optimizers.RMSprop(1.0 * hvd.size())"
   ]
  },
  {
   "cell_type": "code",
   "execution_count": 33,
   "metadata": {},
   "outputs": [],
   "source": [
    "opt = hvd.DistributedOptimizer(opt)"
   ]
  },
  {
   "cell_type": "code",
   "execution_count": 34,
   "metadata": {},
   "outputs": [],
   "source": [
    "model = Sequential()"
   ]
  },
  {
   "cell_type": "code",
   "execution_count": 35,
   "metadata": {},
   "outputs": [],
   "source": [
    "model.add(Dense(1, input_dim=1))"
   ]
  },
  {
   "cell_type": "code",
   "execution_count": 36,
   "metadata": {},
   "outputs": [
    {
     "name": "stdout",
     "output_type": "stream",
     "text": [
      "WARNING:tensorflow:From /media/kaique/756ecb3f-4df3-4151-8967-572e968ec005/anaconda3/envs/tf/lib/python3.6/site-packages/keras/backend/tensorflow_backend.py:1299: calling reduce_mean (from tensorflow.python.ops.math_ops) with keep_dims is deprecated and will be removed in a future version.\n",
      "Instructions for updating:\n",
      "keep_dims is deprecated, use keepdims instead\n"
     ]
    }
   ],
   "source": [
    "model.compile(optimizer=opt, loss=keras.losses.mse,metrics=['accuracy'])"
   ]
  },
  {
   "cell_type": "code",
   "execution_count": 37,
   "metadata": {},
   "outputs": [],
   "source": [
    "callbacks = [hvd.callbacks.BroadcastGlobalVariablesCallback(0)]"
   ]
  },
  {
   "cell_type": "code",
   "execution_count": 38,
   "metadata": {},
   "outputs": [],
   "source": [
    "if hvd.rank() == 0:\n",
    "    callbacks.append(keras.callbacks.ModelCheckpoint('./checkpoints/checkpoint-{epoch}.h5'))"
   ]
  },
  {
   "cell_type": "code",
   "execution_count": 39,
   "metadata": {},
   "outputs": [
    {
     "name": "stdout",
     "output_type": "stream",
     "text": [
      "Train on 80000 samples, validate on 20000 samples\n",
      "Epoch 1/120\n",
      "80000/80000 [==============================] - 1s - loss: 810630.7076 - acc: 0.0014 - val_loss: 135188.6257 - val_acc: 0.0015\n",
      "Epoch 2/120\n",
      "80000/80000 [==============================] - 1s - loss: 802815.5433 - acc: 8.3750e-04 - val_loss: 775234.4793 - val_acc: 5.5000e-04\n",
      "Epoch 3/120\n",
      "80000/80000 [==============================] - 1s - loss: 801816.0925 - acc: 7.3750e-04 - val_loss: 194504.6890 - val_acc: 8.0000e-04\n",
      "Epoch 4/120\n",
      "80000/80000 [==============================] - 1s - loss: 791050.2444 - acc: 7.2500e-04 - val_loss: 2807161.4684 - val_acc: 4.0000e-04\n",
      "Epoch 5/120\n",
      "80000/80000 [==============================] - 1s - loss: 793347.2640 - acc: 7.2500e-04 - val_loss: 2831228.7292 - val_acc: 0.0000e+00\n",
      "Epoch 6/120\n",
      "80000/80000 [==============================] - 1s - loss: 798796.8859 - acc: 5.2500e-04 - val_loss: 509777.0514 - val_acc: 8.5000e-04\n",
      "Epoch 7/120\n",
      "80000/80000 [==============================] - 1s - loss: 790985.5951 - acc: 8.3750e-04 - val_loss: 1251531.7174 - val_acc: 3.5000e-04\n",
      "Epoch 8/120\n",
      "80000/80000 [==============================] - 1s - loss: 789199.7303 - acc: 7.2500e-04 - val_loss: 84145.5011 - val_acc: 0.0012\n",
      "Epoch 9/120\n",
      "80000/80000 [==============================] - 1s - loss: 797841.0281 - acc: 5.1250e-04 - val_loss: 39046.1003 - val_acc: 0.0011\n",
      "Epoch 10/120\n",
      "80000/80000 [==============================] - 1s - loss: 798952.5440 - acc: 6.0000e-04 - val_loss: 103514.2965 - val_acc: 0.0010\n",
      "Epoch 11/120\n",
      "80000/80000 [==============================] - 1s - loss: 787177.0230 - acc: 7.3750e-04 - val_loss: 387339.6668 - val_acc: 9.5000e-04\n",
      "Epoch 12/120\n",
      "80000/80000 [==============================] - 1s - loss: 797897.0887 - acc: 6.0000e-04 - val_loss: 786331.1764 - val_acc: 5.0000e-04\n",
      "Epoch 13/120\n",
      "80000/80000 [==============================] - 1s - loss: 795646.6073 - acc: 6.7500e-04 - val_loss: 94044.9912 - val_acc: 0.0014\n",
      "Epoch 14/120\n",
      "80000/80000 [==============================] - 1s - loss: 798306.5269 - acc: 6.0000e-04 - val_loss: 1212723.7555 - val_acc: 7.0000e-04\n",
      "Epoch 15/120\n",
      "80000/80000 [==============================] - 1s - loss: 793202.9464 - acc: 6.0000e-04 - val_loss: 54399.9615 - val_acc: 0.0017\n",
      "Epoch 16/120\n",
      "80000/80000 [==============================] - 1s - loss: 794351.8780 - acc: 6.8750e-04 - val_loss: 1032655.1183 - val_acc: 8.0000e-04\n",
      "Epoch 17/120\n",
      "80000/80000 [==============================] - 1s - loss: 791469.7117 - acc: 5.7500e-04 - val_loss: 1214588.0566 - val_acc: 2.5000e-04\n",
      "Epoch 18/120\n",
      "80000/80000 [==============================] - 1s - loss: 791856.1396 - acc: 5.2500e-04 - val_loss: 798090.5152 - val_acc: 1.0000e-03\n",
      "Epoch 19/120\n",
      "80000/80000 [==============================] - 1s - loss: 791044.6730 - acc: 6.2500e-04 - val_loss: 278533.5128 - val_acc: 5.0000e-04\n",
      "Epoch 20/120\n",
      "80000/80000 [==============================] - 1s - loss: 793910.4725 - acc: 6.7500e-04 - val_loss: 2030909.9732 - val_acc: 5.0000e-04\n",
      "Epoch 21/120\n",
      "80000/80000 [==============================] - 1s - loss: 789039.6802 - acc: 7.2500e-04 - val_loss: 1104970.9666 - val_acc: 5.0000e-04\n",
      "Epoch 22/120\n",
      "80000/80000 [==============================] - 1s - loss: 788480.6589 - acc: 6.8750e-04 - val_loss: 109546.9673 - val_acc: 0.0011\n",
      "Epoch 23/120\n",
      "80000/80000 [==============================] - 1s - loss: 792350.3817 - acc: 6.6250e-04 - val_loss: 57639.2676 - val_acc: 1.0000e-03\n",
      "Epoch 24/120\n",
      "80000/80000 [==============================] - 1s - loss: 792429.2875 - acc: 6.7500e-04 - val_loss: 2502366.7466 - val_acc: 4.5000e-04\n",
      "Epoch 25/120\n",
      "80000/80000 [==============================] - 1s - loss: 793932.5041 - acc: 5.0000e-04 - val_loss: 937523.6482 - val_acc: 1.5000e-04\n",
      "Epoch 26/120\n",
      "80000/80000 [==============================] - 1s - loss: 798801.7923 - acc: 7.5000e-04 - val_loss: 150369.8786 - val_acc: 4.5000e-04\n",
      "Epoch 27/120\n",
      "80000/80000 [==============================] - 1s - loss: 792982.0821 - acc: 8.2500e-04 - val_loss: 956355.7652 - val_acc: 2.0000e-04\n",
      "Epoch 28/120\n",
      "80000/80000 [==============================] - 1s - loss: 795739.7923 - acc: 6.1250e-04 - val_loss: 597872.6267 - val_acc: 3.0000e-04\n",
      "Epoch 29/120\n",
      "80000/80000 [==============================] - 1s - loss: 788917.7353 - acc: 4.3750e-04 - val_loss: 1008995.9471 - val_acc: 7.5000e-04\n",
      "Epoch 30/120\n",
      "80000/80000 [==============================] - 1s - loss: 802214.9327 - acc: 8.1250e-04 - val_loss: 334441.4046 - val_acc: 0.0011\n",
      "Epoch 31/120\n",
      "80000/80000 [==============================] - 1s - loss: 787911.6128 - acc: 6.2500e-04 - val_loss: 1233169.8114 - val_acc: 2.5000e-04\n",
      "Epoch 32/120\n",
      "80000/80000 [==============================] - 1s - loss: 797156.9703 - acc: 5.7500e-04 - val_loss: 1077560.8415 - val_acc: 4.5000e-04\n",
      "Epoch 33/120\n",
      "80000/80000 [==============================] - 1s - loss: 804193.8256 - acc: 6.1250e-04 - val_loss: 2452470.2768 - val_acc: 5.0000e-05\n",
      "Epoch 34/120\n",
      "80000/80000 [==============================] - 1s - loss: 785660.8913 - acc: 6.3750e-04 - val_loss: 949898.8706 - val_acc: 2.0000e-04\n",
      "Epoch 35/120\n",
      "80000/80000 [==============================] - 1s - loss: 793366.9118 - acc: 5.1250e-04 - val_loss: 1395556.6665 - val_acc: 4.5000e-04\n",
      "Epoch 36/120\n",
      "80000/80000 [==============================] - 1s - loss: 796657.2063 - acc: 6.1250e-04 - val_loss: 1165558.4797 - val_acc: 2.5000e-04\n",
      "Epoch 37/120\n",
      "80000/80000 [==============================] - 1s - loss: 791805.9034 - acc: 6.7500e-04 - val_loss: 1235336.2966 - val_acc: 3.0000e-04\n",
      "Epoch 38/120\n",
      "80000/80000 [==============================] - 1s - loss: 788381.4619 - acc: 7.1250e-04 - val_loss: 1487793.2046 - val_acc: 8.0000e-04\n",
      "Epoch 39/120\n",
      "80000/80000 [==============================] - 1s - loss: 786008.8272 - acc: 6.1250e-04 - val_loss: 64221.6524 - val_acc: 1.0000e-03\n",
      "Epoch 40/120\n",
      "80000/80000 [==============================] - 1s - loss: 790993.2250 - acc: 6.2500e-04 - val_loss: 1472730.8232 - val_acc: 5.0000e-05\n",
      "Epoch 41/120\n",
      "80000/80000 [==============================] - 1s - loss: 795159.5372 - acc: 5.8750e-04 - val_loss: 2375535.6524 - val_acc: 5.0000e-05\n",
      "Epoch 42/120\n",
      "80000/80000 [==============================] - 1s - loss: 785119.6139 - acc: 7.7500e-04 - val_loss: 68334.0705 - val_acc: 0.0011\n",
      "Epoch 43/120\n",
      "80000/80000 [==============================] - 1s - loss: 794496.2992 - acc: 5.8750e-04 - val_loss: 2645637.9542 - val_acc: 1.0000e-04\n",
      "Epoch 44/120\n",
      "80000/80000 [==============================] - 1s - loss: 790705.4665 - acc: 6.2500e-04 - val_loss: 1810931.9484 - val_acc: 6.0000e-04\n",
      "Epoch 45/120\n",
      "80000/80000 [==============================] - 1s - loss: 798440.9953 - acc: 6.2500e-04 - val_loss: 791623.8466 - val_acc: 7.0000e-04\n",
      "Epoch 46/120\n",
      "80000/80000 [==============================] - 1s - loss: 784849.3445 - acc: 8.3750e-04 - val_loss: 870383.7312 - val_acc: 6.5000e-04\n",
      "Epoch 47/120\n",
      "80000/80000 [==============================] - 1s - loss: 794054.9255 - acc: 5.7500e-04 - val_loss: 3360330.3460 - val_acc: 5.0000e-05\n",
      "Epoch 48/120\n",
      "80000/80000 [==============================] - 1s - loss: 796219.8865 - acc: 7.6250e-04 - val_loss: 1029952.0184 - val_acc: 8.0000e-04\n",
      "Epoch 49/120\n",
      "80000/80000 [==============================] - 1s - loss: 795070.9942 - acc: 6.5000e-04 - val_loss: 903318.1038 - val_acc: 1.5000e-04\n",
      "Epoch 50/120\n",
      "80000/80000 [==============================] - 1s - loss: 792792.1714 - acc: 5.2500e-04 - val_loss: 118665.0581 - val_acc: 5.5000e-04\n",
      "Epoch 51/120\n",
      "80000/80000 [==============================] - 1s - loss: 793263.8872 - acc: 4.7500e-04 - val_loss: 415222.2708 - val_acc: 6.5000e-04\n",
      "Epoch 52/120\n",
      "80000/80000 [==============================] - 1s - loss: 790108.0605 - acc: 7.2500e-04 - val_loss: 2420081.5332 - val_acc: 3.5000e-04\n",
      "Epoch 53/120\n",
      "80000/80000 [==============================] - 1s - loss: 797584.2520 - acc: 3.7500e-04 - val_loss: 1057431.8136 - val_acc: 1.5000e-04\n",
      "Epoch 54/120\n",
      "80000/80000 [==============================] - 1s - loss: 794003.8032 - acc: 6.1250e-04 - val_loss: 1819390.3092 - val_acc: 4.5000e-04\n",
      "Epoch 55/120\n",
      "80000/80000 [==============================] - 1s - loss: 796867.3354 - acc: 6.5000e-04 - val_loss: 3378803.5800 - val_acc: 0.0000e+00\n",
      "Epoch 56/120\n"
     ]
    },
    {
     "name": "stdout",
     "output_type": "stream",
     "text": [
      "80000/80000 [==============================] - 1s - loss: 794781.6982 - acc: 6.1250e-04 - val_loss: 392427.2121 - val_acc: 5.5000e-04\n",
      "Epoch 57/120\n",
      "80000/80000 [==============================] - 1s - loss: 795069.9380 - acc: 5.7500e-04 - val_loss: 84582.2644 - val_acc: 0.0015\n",
      "Epoch 58/120\n",
      "80000/80000 [==============================] - 1s - loss: 788999.2955 - acc: 6.0000e-04 - val_loss: 535763.3577 - val_acc: 3.5000e-04\n",
      "Epoch 59/120\n",
      "80000/80000 [==============================] - 1s - loss: 798675.5667 - acc: 5.6250e-04 - val_loss: 276435.5221 - val_acc: 8.5000e-04\n",
      "Epoch 60/120\n",
      "80000/80000 [==============================] - 1s - loss: 794632.9675 - acc: 7.0000e-04 - val_loss: 1750524.5978 - val_acc: 5.0000e-05\n",
      "Epoch 61/120\n",
      "80000/80000 [==============================] - 1s - loss: 798666.5045 - acc: 4.8750e-04 - val_loss: 88943.4232 - val_acc: 0.0013\n",
      "Epoch 62/120\n",
      "80000/80000 [==============================] - 1s - loss: 779165.6916 - acc: 7.8750e-04 - val_loss: 1262522.1158 - val_acc: 2.0000e-04\n",
      "Epoch 63/120\n",
      "80000/80000 [==============================] - 1s - loss: 804168.5794 - acc: 5.7500e-04 - val_loss: 209002.2140 - val_acc: 0.0015\n",
      "Epoch 64/120\n",
      "80000/80000 [==============================] - 1s - loss: 781462.2710 - acc: 7.0000e-04 - val_loss: 448877.5157 - val_acc: 8.0000e-04\n",
      "Epoch 65/120\n",
      "80000/80000 [==============================] - 1s - loss: 797105.6515 - acc: 4.7500e-04 - val_loss: 215514.7087 - val_acc: 8.0000e-04\n",
      "Epoch 66/120\n",
      "80000/80000 [==============================] - 1s - loss: 790529.1003 - acc: 6.8750e-04 - val_loss: 3153988.2920 - val_acc: 1.0000e-04\n",
      "Epoch 67/120\n",
      "80000/80000 [==============================] - 1s - loss: 784170.1825 - acc: 5.8750e-04 - val_loss: 2007985.2216 - val_acc: 1.5000e-04\n",
      "Epoch 68/120\n",
      "80000/80000 [==============================] - 1s - loss: 796250.9941 - acc: 4.2500e-04 - val_loss: 260828.5317 - val_acc: 6.0000e-04\n",
      "Epoch 69/120\n",
      "80000/80000 [==============================] - 1s - loss: 786131.1229 - acc: 5.3750e-04 - val_loss: 167940.7321 - val_acc: 0.0014\n",
      "Epoch 70/120\n",
      "80000/80000 [==============================] - 1s - loss: 792720.3885 - acc: 6.6250e-04 - val_loss: 212812.9178 - val_acc: 7.5000e-04\n",
      "Epoch 71/120\n",
      "80000/80000 [==============================] - 1s - loss: 797519.3264 - acc: 4.8750e-04 - val_loss: 199639.4047 - val_acc: 0.0012\n",
      "Epoch 72/120\n",
      "80000/80000 [==============================] - 1s - loss: 791933.8366 - acc: 6.7500e-04 - val_loss: 342728.2041 - val_acc: 3.0000e-04\n",
      "Epoch 73/120\n",
      "80000/80000 [==============================] - 1s - loss: 791220.0188 - acc: 5.1250e-04 - val_loss: 40994.8555 - val_acc: 0.0019\n",
      "Epoch 74/120\n",
      "80000/80000 [==============================] - 1s - loss: 784092.1112 - acc: 7.7500e-04 - val_loss: 114759.4005 - val_acc: 8.0000e-04\n",
      "Epoch 75/120\n",
      "80000/80000 [==============================] - 1s - loss: 799171.1739 - acc: 6.3750e-04 - val_loss: 3082453.5808 - val_acc: 0.0000e+00\n",
      "Epoch 76/120\n",
      "80000/80000 [==============================] - 1s - loss: 789899.7942 - acc: 6.7500e-04 - val_loss: 184619.0530 - val_acc: 6.5000e-04\n",
      "Epoch 77/120\n",
      "80000/80000 [==============================] - 1s - loss: 797576.2285 - acc: 5.8750e-04 - val_loss: 699369.2442 - val_acc: 4.5000e-04\n",
      "Epoch 78/120\n",
      "80000/80000 [==============================] - 1s - loss: 795429.2718 - acc: 5.6250e-04 - val_loss: 816127.8026 - val_acc: 6.0000e-04\n",
      "Epoch 79/120\n",
      "80000/80000 [==============================] - 1s - loss: 797109.7657 - acc: 5.5000e-04 - val_loss: 1970310.8924 - val_acc: 0.0000e+00\n",
      "Epoch 80/120\n",
      "80000/80000 [==============================] - 1s - loss: 800110.7624 - acc: 6.1250e-04 - val_loss: 128306.9339 - val_acc: 9.0000e-04\n",
      "Epoch 81/120\n",
      "80000/80000 [==============================] - 1s - loss: 794568.2139 - acc: 5.8750e-04 - val_loss: 1517874.4012 - val_acc: 2.5000e-04\n",
      "Epoch 82/120\n",
      "80000/80000 [==============================] - 1s - loss: 796486.5463 - acc: 4.7500e-04 - val_loss: 46055.5431 - val_acc: 0.0024\n",
      "Epoch 83/120\n",
      "80000/80000 [==============================] - 1s - loss: 780661.0798 - acc: 8.1250e-04 - val_loss: 1854590.0744 - val_acc: 1.0000e-04\n",
      "Epoch 84/120\n",
      "80000/80000 [==============================] - 1s - loss: 793219.4796 - acc: 7.1250e-04 - val_loss: 1182428.0268 - val_acc: 3.0000e-04\n",
      "Epoch 85/120\n",
      "80000/80000 [==============================] - 1s - loss: 794471.2168 - acc: 6.5000e-04 - val_loss: 1165012.3678 - val_acc: 5.0000e-04\n",
      "Epoch 86/120\n",
      "80000/80000 [==============================] - 1s - loss: 796515.2409 - acc: 7.1250e-04 - val_loss: 942536.4782 - val_acc: 2.5000e-04\n",
      "Epoch 87/120\n",
      "80000/80000 [==============================] - 1s - loss: 797180.3481 - acc: 6.5000e-04 - val_loss: 110724.8851 - val_acc: 6.0000e-04\n",
      "Epoch 88/120\n",
      "80000/80000 [==============================] - 1s - loss: 789803.9088 - acc: 4.3750e-04 - val_loss: 1249645.7680 - val_acc: 7.5000e-04\n",
      "Epoch 89/120\n",
      "80000/80000 [==============================] - 1s - loss: 800417.8716 - acc: 5.8750e-04 - val_loss: 1848422.7876 - val_acc: 5.0000e-05\n",
      "Epoch 90/120\n",
      "80000/80000 [==============================] - 1s - loss: 802311.5861 - acc: 7.0000e-04 - val_loss: 1039336.9841 - val_acc: 4.0000e-04\n",
      "Epoch 91/120\n",
      "80000/80000 [==============================] - 1s - loss: 790347.3347 - acc: 5.3750e-04 - val_loss: 816476.4993 - val_acc: 6.5000e-04\n",
      "Epoch 92/120\n",
      "80000/80000 [==============================] - 1s - loss: 799181.8499 - acc: 5.5000e-04 - val_loss: 999405.4851 - val_acc: 4.0000e-04\n",
      "Epoch 93/120\n",
      "80000/80000 [==============================] - 1s - loss: 781679.2464 - acc: 7.5000e-04 - val_loss: 826284.6512 - val_acc: 3.5000e-04\n",
      "Epoch 94/120\n",
      "80000/80000 [==============================] - 1s - loss: 795318.9257 - acc: 5.3750e-04 - val_loss: 828104.8158 - val_acc: 9.0000e-04\n",
      "Epoch 95/120\n",
      "80000/80000 [==============================] - 1s - loss: 788089.3335 - acc: 5.8750e-04 - val_loss: 2290478.4220 - val_acc: 1.5000e-04\n",
      "Epoch 96/120\n",
      "80000/80000 [==============================] - 1s - loss: 798060.6076 - acc: 5.7500e-04 - val_loss: 906199.0844 - val_acc: 3.5000e-04\n",
      "Epoch 97/120\n",
      "80000/80000 [==============================] - 1s - loss: 791384.5683 - acc: 6.1250e-04 - val_loss: 728008.5346 - val_acc: 6.0000e-04\n",
      "Epoch 98/120\n",
      "80000/80000 [==============================] - 1s - loss: 790095.5534 - acc: 7.1250e-04 - val_loss: 4014034.1536 - val_acc: 1.0000e-04\n",
      "Epoch 99/120\n",
      "80000/80000 [==============================] - 1s - loss: 797823.4352 - acc: 5.5000e-04 - val_loss: 2446193.8002 - val_acc: 1.0000e-04\n",
      "Epoch 100/120\n",
      "80000/80000 [==============================] - 1s - loss: 795147.5525 - acc: 6.2500e-04 - val_loss: 820518.6804 - val_acc: 4.5000e-04\n",
      "Epoch 101/120\n",
      "80000/80000 [==============================] - 1s - loss: 793428.4731 - acc: 4.7500e-04 - val_loss: 1401698.1426 - val_acc: 3.5000e-04\n",
      "Epoch 102/120\n",
      "80000/80000 [==============================] - 1s - loss: 795264.8326 - acc: 6.0000e-04 - val_loss: 827379.0262 - val_acc: 4.5000e-04\n",
      "Epoch 103/120\n",
      "80000/80000 [==============================] - 1s - loss: 800525.5717 - acc: 6.2500e-04 - val_loss: 304945.6409 - val_acc: 5.5000e-04\n",
      "Epoch 104/120\n",
      "80000/80000 [==============================] - 1s - loss: 782057.1153 - acc: 5.7500e-04 - val_loss: 546098.0735 - val_acc: 6.0000e-04\n",
      "Epoch 105/120\n",
      "80000/80000 [==============================] - 1s - loss: 799623.0851 - acc: 7.2500e-04 - val_loss: 109925.1474 - val_acc: 0.0011\n",
      "Epoch 106/120\n",
      "80000/80000 [==============================] - 1s - loss: 792202.8295 - acc: 7.1250e-04 - val_loss: 1342139.8675 - val_acc: 7.0000e-04\n",
      "Epoch 107/120\n",
      "80000/80000 [==============================] - 1s - loss: 792797.8829 - acc: 5.7500e-04 - val_loss: 709268.5490 - val_acc: 3.5000e-04\n",
      "Epoch 108/120\n",
      "80000/80000 [==============================] - 1s - loss: 801928.9585 - acc: 5.7500e-04 - val_loss: 314185.9148 - val_acc: 0.0011\n",
      "Epoch 109/120\n",
      "80000/80000 [==============================] - 1s - loss: 793520.1171 - acc: 6.0000e-04 - val_loss: 538115.9424 - val_acc: 7.5000e-04\n",
      "Epoch 110/120\n",
      "80000/80000 [==============================] - 1s - loss: 785768.4612 - acc: 6.1250e-04 - val_loss: 1781703.4122 - val_acc: 7.5000e-04\n",
      "Epoch 111/120\n"
     ]
    },
    {
     "name": "stdout",
     "output_type": "stream",
     "text": [
      "80000/80000 [==============================] - 1s - loss: 795321.4996 - acc: 7.3750e-04 - val_loss: 644500.3505 - val_acc: 1.5000e-04\n",
      "Epoch 112/120\n",
      "80000/80000 [==============================] - 1s - loss: 792540.3880 - acc: 6.6250e-04 - val_loss: 1915728.9752 - val_acc: 1.5000e-04\n",
      "Epoch 113/120\n",
      "80000/80000 [==============================] - 1s - loss: 797981.1635 - acc: 6.5000e-04 - val_loss: 40015.0258 - val_acc: 0.0014\n",
      "Epoch 114/120\n",
      "80000/80000 [==============================] - 1s - loss: 783551.1344 - acc: 6.2500e-04 - val_loss: 725330.1676 - val_acc: 4.5000e-04\n",
      "Epoch 115/120\n",
      "80000/80000 [==============================] - 1s - loss: 798869.1260 - acc: 3.6250e-04 - val_loss: 950720.6604 - val_acc: 1.5000e-04\n",
      "Epoch 116/120\n",
      "80000/80000 [==============================] - 1s - loss: 786636.2734 - acc: 6.6250e-04 - val_loss: 291122.7661 - val_acc: 5.0000e-04\n",
      "Epoch 117/120\n",
      "80000/80000 [==============================] - 1s - loss: 799767.9628 - acc: 5.1250e-04 - val_loss: 717118.1183 - val_acc: 0.0010\n",
      "Epoch 118/120\n",
      "80000/80000 [==============================] - 1s - loss: 790593.2949 - acc: 6.7500e-04 - val_loss: 2299329.6890 - val_acc: 5.0000e-05\n",
      "Epoch 119/120\n",
      "80000/80000 [==============================] - 1s - loss: 793689.2358 - acc: 7.3750e-04 - val_loss: 566519.6018 - val_acc: 8.0000e-04\n",
      "Epoch 120/120\n",
      "80000/80000 [==============================] - 1s - loss: 797603.2752 - acc: 7.0000e-04 - val_loss: 278487.9779 - val_acc: 5.5000e-04\n"
     ]
    },
    {
     "data": {
      "text/plain": [
       "<keras.callbacks.History at 0x7fa69c055cf8>"
      ]
     },
     "execution_count": 39,
     "metadata": {},
     "output_type": "execute_result"
    }
   ],
   "source": [
    "model.fit(x, y, batch_size=batch_size, callbacks=callbacks, epochs=epochs, verbose=1, validation_data=(x_val, y_val))"
   ]
  },
  {
   "cell_type": "code",
   "execution_count": 40,
   "metadata": {},
   "outputs": [],
   "source": [
    "score = model.evaluate(x_val, y_val, verbose=0)"
   ]
  },
  {
   "cell_type": "code",
   "execution_count": 41,
   "metadata": {},
   "outputs": [
    {
     "name": "stdout",
     "output_type": "stream",
     "text": [
      "Test loss: 278487.9772875\n"
     ]
    }
   ],
   "source": [
    "print('Test loss:', score[0])"
   ]
  },
  {
   "cell_type": "code",
   "execution_count": 42,
   "metadata": {},
   "outputs": [
    {
     "name": "stdout",
     "output_type": "stream",
     "text": [
      "Test accuracy: 0.00055\n"
     ]
    }
   ],
   "source": [
    "print('Test accuracy:', score[1])"
   ]
  },
  {
   "cell_type": "code",
   "execution_count": 43,
   "metadata": {},
   "outputs": [
    {
     "name": "stdout",
     "output_type": "stream",
     "text": [
      "[[265.8249 ]\n",
      " [232.38947]\n",
      " [259.7029 ]\n",
      " [247.92987]\n",
      " [239.92421]]\n"
     ]
    }
   ],
   "source": [
    "print(model.predict(np.array([np.random.randint(10,100) for _ in range(5)])))"
   ]
  },
  {
   "cell_type": "code",
   "execution_count": 44,
   "metadata": {},
   "outputs": [],
   "source": [
    "model.save_weights('travel-price.hdf5')"
   ]
  },
  {
   "cell_type": "code",
   "execution_count": 45,
   "metadata": {},
   "outputs": [],
   "source": [
    "with open('travel-price.json','w') as f:\n",
    "    f.write(model.to_json())\n",
    "    f.close()"
   ]
  }
 ],
 "metadata": {
  "kernelspec": {
   "display_name": "Python 3",
   "language": "python",
   "name": "python3"
  },
  "language_info": {
   "codemirror_mode": {
    "name": "ipython",
    "version": 3
   },
   "file_extension": ".py",
   "mimetype": "text/x-python",
   "name": "python",
   "nbconvert_exporter": "python",
   "pygments_lexer": "ipython3",
   "version": "3.6.4"
  }
 },
 "nbformat": 4,
 "nbformat_minor": 2
}
