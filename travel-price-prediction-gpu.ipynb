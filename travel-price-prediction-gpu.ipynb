{
 "cells": [
  {
   "cell_type": "code",
   "execution_count": 1,
   "metadata": {},
   "outputs": [],
   "source": [
    "import warnings; warnings.simplefilter('ignore')"
   ]
  },
  {
   "cell_type": "code",
   "execution_count": 2,
   "metadata": {},
   "outputs": [],
   "source": [
    "import pandas as pd"
   ]
  },
  {
   "cell_type": "code",
   "execution_count": 3,
   "metadata": {},
   "outputs": [],
   "source": [
    "import numpy as np"
   ]
  },
  {
   "cell_type": "code",
   "execution_count": 4,
   "metadata": {},
   "outputs": [
    {
     "name": "stderr",
     "output_type": "stream",
     "text": [
      "Using TensorFlow backend.\n"
     ]
    }
   ],
   "source": [
    "import keras"
   ]
  },
  {
   "cell_type": "code",
   "execution_count": 5,
   "metadata": {},
   "outputs": [],
   "source": [
    "from keras import backend as K"
   ]
  },
  {
   "cell_type": "code",
   "execution_count": 6,
   "metadata": {},
   "outputs": [],
   "source": [
    "from keras.models import Sequential"
   ]
  },
  {
   "cell_type": "code",
   "execution_count": 7,
   "metadata": {},
   "outputs": [],
   "source": [
    "from keras.layers import Dense"
   ]
  },
  {
   "cell_type": "code",
   "execution_count": 8,
   "metadata": {},
   "outputs": [],
   "source": [
    "from sklearn import model_selection"
   ]
  },
  {
   "cell_type": "code",
   "execution_count": 9,
   "metadata": {},
   "outputs": [],
   "source": [
    "import math"
   ]
  },
  {
   "cell_type": "code",
   "execution_count": 10,
   "metadata": {},
   "outputs": [],
   "source": [
    "import tensorflow as tf"
   ]
  },
  {
   "cell_type": "code",
   "execution_count": 11,
   "metadata": {},
   "outputs": [],
   "source": [
    "import horovod.keras as hvd"
   ]
  },
  {
   "cell_type": "code",
   "execution_count": 12,
   "metadata": {},
   "outputs": [],
   "source": [
    "df = pd.DataFrame()"
   ]
  },
  {
   "cell_type": "code",
   "execution_count": 13,
   "metadata": {},
   "outputs": [],
   "source": [
    "df['distances'] = np.array([np.random.randint(1,1000) for _ in range(10**5)])"
   ]
  },
  {
   "cell_type": "code",
   "execution_count": 14,
   "metadata": {},
   "outputs": [],
   "source": [
    "df['weights'] = np.array([np.random.randint(60,500) for _ in range(10**5)])"
   ]
  },
  {
   "cell_type": "code",
   "execution_count": 15,
   "metadata": {},
   "outputs": [
    {
     "data": {
      "text/plain": [
       "distances    100000\n",
       "weights      100000\n",
       "dtype: int64"
      ]
     },
     "execution_count": 15,
     "metadata": {},
     "output_type": "execute_result"
    }
   ],
   "source": [
    "df[['distances','weights']].count()"
   ]
  },
  {
   "cell_type": "code",
   "execution_count": 16,
   "metadata": {},
   "outputs": [],
   "source": [
    "df['prices'] = np.array([((df['distances'][i] * df['weights'][i])/100) for i in range(len(df['distances']))])"
   ]
  },
  {
   "cell_type": "code",
   "execution_count": 17,
   "metadata": {},
   "outputs": [
    {
     "data": {
      "text/html": [
       "<div>\n",
       "<style scoped>\n",
       "    .dataframe tbody tr th:only-of-type {\n",
       "        vertical-align: middle;\n",
       "    }\n",
       "\n",
       "    .dataframe tbody tr th {\n",
       "        vertical-align: top;\n",
       "    }\n",
       "\n",
       "    .dataframe thead th {\n",
       "        text-align: right;\n",
       "    }\n",
       "</style>\n",
       "<table border=\"1\" class=\"dataframe\">\n",
       "  <thead>\n",
       "    <tr style=\"text-align: right;\">\n",
       "      <th></th>\n",
       "      <th>distances</th>\n",
       "      <th>weights</th>\n",
       "      <th>prices</th>\n",
       "    </tr>\n",
       "  </thead>\n",
       "  <tbody>\n",
       "    <tr>\n",
       "      <th>0</th>\n",
       "      <td>869</td>\n",
       "      <td>258</td>\n",
       "      <td>2242.02</td>\n",
       "    </tr>\n",
       "    <tr>\n",
       "      <th>1</th>\n",
       "      <td>499</td>\n",
       "      <td>339</td>\n",
       "      <td>1691.61</td>\n",
       "    </tr>\n",
       "    <tr>\n",
       "      <th>2</th>\n",
       "      <td>684</td>\n",
       "      <td>287</td>\n",
       "      <td>1963.08</td>\n",
       "    </tr>\n",
       "    <tr>\n",
       "      <th>3</th>\n",
       "      <td>937</td>\n",
       "      <td>162</td>\n",
       "      <td>1517.94</td>\n",
       "    </tr>\n",
       "    <tr>\n",
       "      <th>4</th>\n",
       "      <td>982</td>\n",
       "      <td>378</td>\n",
       "      <td>3711.96</td>\n",
       "    </tr>\n",
       "  </tbody>\n",
       "</table>\n",
       "</div>"
      ],
      "text/plain": [
       "   distances  weights   prices\n",
       "0        869      258  2242.02\n",
       "1        499      339  1691.61\n",
       "2        684      287  1963.08\n",
       "3        937      162  1517.94\n",
       "4        982      378  3711.96"
      ]
     },
     "execution_count": 17,
     "metadata": {},
     "output_type": "execute_result"
    }
   ],
   "source": [
    "df.head()"
   ]
  },
  {
   "cell_type": "code",
   "execution_count": 18,
   "metadata": {},
   "outputs": [
    {
     "data": {
      "text/plain": [
       "0"
      ]
     },
     "execution_count": 18,
     "metadata": {},
     "output_type": "execute_result"
    }
   ],
   "source": [
    "hvd.init()"
   ]
  },
  {
   "cell_type": "code",
   "execution_count": 19,
   "metadata": {},
   "outputs": [],
   "source": [
    "config = tf.ConfigProto()"
   ]
  },
  {
   "cell_type": "code",
   "execution_count": 20,
   "metadata": {},
   "outputs": [],
   "source": [
    "config.gpu_options.allow_growth = True"
   ]
  },
  {
   "cell_type": "code",
   "execution_count": 21,
   "metadata": {},
   "outputs": [],
   "source": [
    "config.gpu_options.visible_device_list = str(hvd.local_rank())"
   ]
  },
  {
   "cell_type": "code",
   "execution_count": 22,
   "metadata": {},
   "outputs": [],
   "source": [
    "K.set_session(tf.Session(config=config))"
   ]
  },
  {
   "cell_type": "code",
   "execution_count": 23,
   "metadata": {},
   "outputs": [],
   "source": [
    "batch_size = 128"
   ]
  },
  {
   "cell_type": "code",
   "execution_count": 24,
   "metadata": {},
   "outputs": [],
   "source": [
    "num_classes = 10"
   ]
  },
  {
   "cell_type": "code",
   "execution_count": 25,
   "metadata": {},
   "outputs": [],
   "source": [
    "epochs = int(math.ceil(120.0) / hvd.size())"
   ]
  },
  {
   "cell_type": "code",
   "execution_count": 26,
   "metadata": {},
   "outputs": [],
   "source": [
    "x, x_val, y, y_val = model_selection.train_test_split(df['prices'], df['distances'], test_size=0.2, random_state=42)"
   ]
  },
  {
   "cell_type": "code",
   "execution_count": 27,
   "metadata": {},
   "outputs": [],
   "source": [
    "dlce = lambda l: [v for v in l if v >= 0]"
   ]
  },
  {
   "cell_type": "code",
   "execution_count": 28,
   "metadata": {},
   "outputs": [],
   "source": [
    "x = np.array(dlce(x))\n",
    "x_val = np.array(dlce(x_val))"
   ]
  },
  {
   "cell_type": "code",
   "execution_count": 29,
   "metadata": {},
   "outputs": [],
   "source": [
    "y = np.array(dlce(y))\n",
    "y_val = np.array(dlce(y_val))"
   ]
  },
  {
   "cell_type": "code",
   "execution_count": 30,
   "metadata": {},
   "outputs": [],
   "source": [
    "opt = keras.optimizers.RMSprop(1.0 * hvd.size())"
   ]
  },
  {
   "cell_type": "code",
   "execution_count": 31,
   "metadata": {},
   "outputs": [],
   "source": [
    "opt = hvd.DistributedOptimizer(opt)"
   ]
  },
  {
   "cell_type": "code",
   "execution_count": 32,
   "metadata": {},
   "outputs": [],
   "source": [
    "model = Sequential()"
   ]
  },
  {
   "cell_type": "code",
   "execution_count": 33,
   "metadata": {},
   "outputs": [],
   "source": [
    "model.add(Dense(1, input_dim=1))"
   ]
  },
  {
   "cell_type": "code",
   "execution_count": 34,
   "metadata": {},
   "outputs": [],
   "source": [
    "model.compile(optimizer=opt, loss=keras.losses.mse,metrics=['accuracy'])"
   ]
  },
  {
   "cell_type": "code",
   "execution_count": 35,
   "metadata": {},
   "outputs": [],
   "source": [
    "callbacks = [hvd.callbacks.BroadcastGlobalVariablesCallback(0)]"
   ]
  },
  {
   "cell_type": "code",
   "execution_count": 36,
   "metadata": {},
   "outputs": [],
   "source": [
    "if hvd.rank() == 0:\n",
    "    callbacks.append(keras.callbacks.ModelCheckpoint('./checkpoint-{epoch}.h5'))"
   ]
  },
  {
   "cell_type": "code",
   "execution_count": 37,
   "metadata": {},
   "outputs": [
    {
     "name": "stdout",
     "output_type": "stream",
     "text": [
      "Train on 80000 samples, validate on 20000 samples\n",
      "Epoch 1/120\n",
      "80000/80000 [==============================] - 1s 7us/step - loss: 824394.2524 - acc: 0.0014 - val_loss: 1603402.1048 - val_acc: 4.0000e-04\n",
      "Epoch 2/120\n",
      "80000/80000 [==============================] - 1s 7us/step - loss: 814417.5939 - acc: 9.1250e-04 - val_loss: 1753634.0944 - val_acc: 3.0000e-04\n",
      "Epoch 3/120\n",
      "80000/80000 [==============================] - 1s 7us/step - loss: 810519.6901 - acc: 5.7500e-04 - val_loss: 1427224.4748 - val_acc: 6.5000e-04\n",
      "Epoch 4/120\n",
      "80000/80000 [==============================] - 1s 7us/step - loss: 801345.9573 - acc: 8.2500e-04 - val_loss: 685139.4542 - val_acc: 4.0000e-04\n",
      "Epoch 5/120\n",
      "80000/80000 [==============================] - 1s 7us/step - loss: 809658.1291 - acc: 6.6250e-04 - val_loss: 422500.4696 - val_acc: 6.5000e-04\n",
      "Epoch 6/120\n",
      "80000/80000 [==============================] - 1s 7us/step - loss: 794994.8113 - acc: 6.0000e-04 - val_loss: 1452566.1584 - val_acc: 4.0000e-04\n",
      "Epoch 7/120\n",
      "80000/80000 [==============================] - 0s 6us/step - loss: 803156.0901 - acc: 5.0000e-04 - val_loss: 905296.9962 - val_acc: 3.0000e-04\n",
      "Epoch 8/120\n",
      "80000/80000 [==============================] - 1s 6us/step - loss: 811124.9711 - acc: 7.1250e-04 - val_loss: 847370.5770 - val_acc: 5.5000e-04\n",
      "Epoch 9/120\n",
      "80000/80000 [==============================] - 1s 7us/step - loss: 807529.7855 - acc: 5.8750e-04 - val_loss: 49386.6228 - val_acc: 0.0015\n",
      "Epoch 10/120\n",
      "80000/80000 [==============================] - 1s 7us/step - loss: 802879.6946 - acc: 5.7500e-04 - val_loss: 441340.2959 - val_acc: 3.0000e-04\n",
      "Epoch 11/120\n",
      "80000/80000 [==============================] - 1s 7us/step - loss: 813569.9947 - acc: 5.0000e-04 - val_loss: 2160784.8970 - val_acc: 5.0000e-05\n",
      "Epoch 12/120\n",
      "80000/80000 [==============================] - 1s 7us/step - loss: 796596.0541 - acc: 7.3750e-04 - val_loss: 2825265.1040 - val_acc: 3.5000e-04\n",
      "Epoch 13/120\n",
      "80000/80000 [==============================] - 1s 7us/step - loss: 807205.0648 - acc: 5.5000e-04 - val_loss: 937963.1588 - val_acc: 5.0000e-04\n",
      "Epoch 14/120\n",
      "80000/80000 [==============================] - 1s 7us/step - loss: 799924.3962 - acc: 7.6250e-04 - val_loss: 775539.1934 - val_acc: 2.0000e-04\n",
      "Epoch 15/120\n",
      "80000/80000 [==============================] - 1s 7us/step - loss: 808822.3520 - acc: 5.6250e-04 - val_loss: 383461.3756 - val_acc: 4.5000e-04\n",
      "Epoch 16/120\n",
      "80000/80000 [==============================] - 1s 7us/step - loss: 809547.3965 - acc: 6.1250e-04 - val_loss: 107672.3426 - val_acc: 0.0011\n",
      "Epoch 17/120\n",
      "80000/80000 [==============================] - 1s 7us/step - loss: 804742.2156 - acc: 6.5000e-04 - val_loss: 2230699.6692 - val_acc: 4.0000e-04\n",
      "Epoch 18/120\n",
      "80000/80000 [==============================] - 1s 7us/step - loss: 802864.1446 - acc: 6.7500e-04 - val_loss: 108625.4654 - val_acc: 0.0018\n",
      "Epoch 19/120\n",
      "80000/80000 [==============================] - 1s 7us/step - loss: 804458.2572 - acc: 5.7500e-04 - val_loss: 480149.7395 - val_acc: 7.5000e-04\n",
      "Epoch 20/120\n",
      "80000/80000 [==============================] - 1s 7us/step - loss: 802416.9374 - acc: 6.1250e-04 - val_loss: 1265106.6148 - val_acc: 3.0000e-04\n",
      "Epoch 21/120\n",
      "80000/80000 [==============================] - 1s 7us/step - loss: 803315.3720 - acc: 6.8750e-04 - val_loss: 112737.5174 - val_acc: 8.5000e-04\n",
      "Epoch 22/120\n",
      "80000/80000 [==============================] - 1s 7us/step - loss: 807391.3180 - acc: 6.2500e-04 - val_loss: 2127604.4340 - val_acc: 1.5000e-04\n",
      "Epoch 23/120\n",
      "80000/80000 [==============================] - 1s 7us/step - loss: 799927.8662 - acc: 5.0000e-04 - val_loss: 672414.7034 - val_acc: 4.0000e-04\n",
      "Epoch 24/120\n",
      "80000/80000 [==============================] - 1s 7us/step - loss: 809358.8060 - acc: 4.2500e-04 - val_loss: 253892.2688 - val_acc: 5.0000e-04\n",
      "Epoch 25/120\n",
      "80000/80000 [==============================] - 1s 8us/step - loss: 802906.2325 - acc: 6.1250e-04 - val_loss: 480863.3608 - val_acc: 7.0000e-04\n",
      "Epoch 26/120\n",
      "80000/80000 [==============================] - 1s 7us/step - loss: 804219.0449 - acc: 5.5000e-04 - val_loss: 896258.8770 - val_acc: 4.0000e-04\n",
      "Epoch 27/120\n",
      "80000/80000 [==============================] - 1s 7us/step - loss: 809377.1347 - acc: 6.8750e-04 - val_loss: 547306.2806 - val_acc: 5.0000e-04\n",
      "Epoch 28/120\n",
      "80000/80000 [==============================] - 1s 7us/step - loss: 806036.3969 - acc: 5.1250e-04 - val_loss: 1693587.4932 - val_acc: 2.5000e-04\n",
      "Epoch 29/120\n",
      "80000/80000 [==============================] - 1s 7us/step - loss: 801250.0462 - acc: 4.6250e-04 - val_loss: 584779.6950 - val_acc: 7.5000e-04\n",
      "Epoch 30/120\n",
      "80000/80000 [==============================] - 1s 7us/step - loss: 804613.3712 - acc: 6.1250e-04 - val_loss: 74179.9429 - val_acc: 0.0014\n",
      "Epoch 31/120\n",
      "80000/80000 [==============================] - 1s 7us/step - loss: 800546.7652 - acc: 6.6250e-04 - val_loss: 200487.5000 - val_acc: 7.5000e-04\n",
      "Epoch 32/120\n",
      "80000/80000 [==============================] - 1s 7us/step - loss: 808018.9299 - acc: 5.1250e-04 - val_loss: 1482789.8064 - val_acc: 4.0000e-04\n",
      "Epoch 33/120\n",
      "80000/80000 [==============================] - 1s 7us/step - loss: 798248.7902 - acc: 7.2500e-04 - val_loss: 756577.1736 - val_acc: 9.0000e-04\n",
      "Epoch 34/120\n",
      "80000/80000 [==============================] - 1s 7us/step - loss: 812091.9304 - acc: 6.8750e-04 - val_loss: 94545.4845 - val_acc: 6.5000e-04\n",
      "Epoch 35/120\n",
      "80000/80000 [==============================] - 1s 7us/step - loss: 801495.2038 - acc: 6.0000e-04 - val_loss: 798533.0750 - val_acc: 7.5000e-04\n",
      "Epoch 36/120\n",
      "80000/80000 [==============================] - 1s 8us/step - loss: 799595.9632 - acc: 6.0000e-04 - val_loss: 1210438.8187 - val_acc: 3.0000e-04\n",
      "Epoch 37/120\n",
      "80000/80000 [==============================] - 1s 8us/step - loss: 806001.5097 - acc: 7.0000e-04 - val_loss: 96743.7330 - val_acc: 0.0015\n",
      "Epoch 38/120\n",
      "80000/80000 [==============================] - 1s 7us/step - loss: 796005.4269 - acc: 6.6250e-04 - val_loss: 113509.8437 - val_acc: 0.0011\n",
      "Epoch 39/120\n",
      "80000/80000 [==============================] - 1s 8us/step - loss: 805428.9983 - acc: 7.5000e-04 - val_loss: 830214.2204 - val_acc: 8.5000e-04\n",
      "Epoch 40/120\n",
      "80000/80000 [==============================] - 1s 8us/step - loss: 814974.5226 - acc: 5.6250e-04 - val_loss: 253507.2466 - val_acc: 8.5000e-04\n",
      "Epoch 41/120\n",
      "80000/80000 [==============================] - 1s 7us/step - loss: 791477.1140 - acc: 5.6250e-04 - val_loss: 270526.3091 - val_acc: 0.0014\n",
      "Epoch 42/120\n",
      "80000/80000 [==============================] - 1s 7us/step - loss: 803028.6656 - acc: 6.5000e-04 - val_loss: 87166.3709 - val_acc: 0.0013\n",
      "Epoch 43/120\n",
      "80000/80000 [==============================] - 1s 7us/step - loss: 808566.1362 - acc: 7.6250e-04 - val_loss: 639846.0042 - val_acc: 4.0000e-04\n",
      "Epoch 44/120\n",
      "80000/80000 [==============================] - 1s 7us/step - loss: 801201.5573 - acc: 5.1250e-04 - val_loss: 403669.0588 - val_acc: 4.0000e-04\n",
      "Epoch 45/120\n",
      "80000/80000 [==============================] - 1s 7us/step - loss: 807723.2486 - acc: 7.7500e-04 - val_loss: 1989658.1808 - val_acc: 2.5000e-04\n",
      "Epoch 46/120\n",
      "80000/80000 [==============================] - 1s 7us/step - loss: 805515.3060 - acc: 5.3750e-04 - val_loss: 54517.7090 - val_acc: 0.0011\n",
      "Epoch 47/120\n",
      "80000/80000 [==============================] - 1s 7us/step - loss: 799030.3987 - acc: 5.5000e-04 - val_loss: 2512669.3164 - val_acc: 3.0000e-04\n",
      "Epoch 48/120\n",
      "80000/80000 [==============================] - 1s 8us/step - loss: 810689.3323 - acc: 7.6250e-04 - val_loss: 960850.7084 - val_acc: 3.5000e-04\n",
      "Epoch 49/120\n",
      "80000/80000 [==============================] - 1s 7us/step - loss: 805021.0707 - acc: 5.6250e-04 - val_loss: 284622.0399 - val_acc: 4.0000e-04\n",
      "Epoch 50/120\n",
      "80000/80000 [==============================] - 1s 7us/step - loss: 805110.5311 - acc: 7.1250e-04 - val_loss: 579612.7840 - val_acc: 3.5000e-04\n",
      "Epoch 51/120\n",
      "80000/80000 [==============================] - 1s 7us/step - loss: 802542.8334 - acc: 7.7500e-04 - val_loss: 727674.1666 - val_acc: 3.5000e-04\n",
      "Epoch 52/120\n",
      "80000/80000 [==============================] - 1s 8us/step - loss: 804708.9863 - acc: 5.3750e-04 - val_loss: 536231.6825 - val_acc: 5.5000e-04\n",
      "Epoch 53/120\n"
     ]
    },
    {
     "name": "stdout",
     "output_type": "stream",
     "text": [
      "80000/80000 [==============================] - 1s 8us/step - loss: 808572.5777 - acc: 6.2500e-04 - val_loss: 524245.2173 - val_acc: 3.5000e-04\n",
      "Epoch 54/120\n",
      "80000/80000 [==============================] - 1s 6us/step - loss: 801458.4394 - acc: 6.2500e-04 - val_loss: 1351536.5432 - val_acc: 3.0000e-04\n",
      "Epoch 55/120\n",
      "80000/80000 [==============================] - 1s 7us/step - loss: 808087.9088 - acc: 5.1250e-04 - val_loss: 135429.2045 - val_acc: 0.0014\n",
      "Epoch 56/120\n",
      "80000/80000 [==============================] - 0s 6us/step - loss: 793869.2696 - acc: 7.5000e-04 - val_loss: 445909.7394 - val_acc: 6.0000e-04\n",
      "Epoch 57/120\n",
      "80000/80000 [==============================] - 1s 6us/step - loss: 789038.1195 - acc: 6.5000e-04 - val_loss: 607166.2219 - val_acc: 3.0000e-04\n",
      "Epoch 58/120\n",
      "80000/80000 [==============================] - 1s 6us/step - loss: 804091.8019 - acc: 6.2500e-04 - val_loss: 113801.5264 - val_acc: 9.5000e-04\n",
      "Epoch 59/120\n",
      "80000/80000 [==============================] - 1s 7us/step - loss: 805277.3411 - acc: 6.6250e-04 - val_loss: 594607.8448 - val_acc: 6.0000e-04\n",
      "Epoch 60/120\n",
      "80000/80000 [==============================] - 1s 6us/step - loss: 803339.3765 - acc: 4.2500e-04 - val_loss: 51392.9920 - val_acc: 0.0015\n",
      "Epoch 61/120\n",
      "80000/80000 [==============================] - 1s 7us/step - loss: 804645.8648 - acc: 4.2500e-04 - val_loss: 894001.7130 - val_acc: 6.0000e-04\n",
      "Epoch 62/120\n",
      "80000/80000 [==============================] - 1s 7us/step - loss: 806199.2417 - acc: 5.1250e-04 - val_loss: 1092693.2540 - val_acc: 1.0000e-04\n",
      "Epoch 63/120\n",
      "80000/80000 [==============================] - 1s 7us/step - loss: 807526.5681 - acc: 6.8750e-04 - val_loss: 1458066.2124 - val_acc: 2.5000e-04\n",
      "Epoch 64/120\n",
      "80000/80000 [==============================] - 1s 6us/step - loss: 809809.2329 - acc: 5.3750e-04 - val_loss: 2304096.8184 - val_acc: 4.0000e-04\n",
      "Epoch 65/120\n",
      "80000/80000 [==============================] - 1s 7us/step - loss: 800662.4277 - acc: 6.7500e-04 - val_loss: 146653.9468 - val_acc: 9.0000e-04\n",
      "Epoch 66/120\n",
      "80000/80000 [==============================] - 1s 7us/step - loss: 798429.0522 - acc: 6.7500e-04 - val_loss: 1309896.2244 - val_acc: 4.0000e-04\n",
      "Epoch 67/120\n",
      "80000/80000 [==============================] - 1s 6us/step - loss: 811701.9005 - acc: 6.0000e-04 - val_loss: 318655.5669 - val_acc: 6.5000e-04\n",
      "Epoch 68/120\n",
      "80000/80000 [==============================] - 1s 8us/step - loss: 804383.0664 - acc: 3.7500e-04 - val_loss: 690872.9004 - val_acc: 5.0000e-04\n",
      "Epoch 69/120\n",
      "80000/80000 [==============================] - 1s 8us/step - loss: 809296.0681 - acc: 4.8750e-04 - val_loss: 395035.1420 - val_acc: 9.5000e-04\n",
      "Epoch 70/120\n",
      "80000/80000 [==============================] - 1s 7us/step - loss: 803997.1526 - acc: 5.3750e-04 - val_loss: 58456.9987 - val_acc: 1.0000e-03\n",
      "Epoch 71/120\n",
      "80000/80000 [==============================] - 1s 6us/step - loss: 796353.9737 - acc: 6.3750e-04 - val_loss: 1055108.9798 - val_acc: 4.5000e-04\n",
      "Epoch 72/120\n",
      "80000/80000 [==============================] - 1s 7us/step - loss: 795435.0452 - acc: 5.6250e-04 - val_loss: 107047.7744 - val_acc: 0.0011\n",
      "Epoch 73/120\n",
      "80000/80000 [==============================] - 1s 7us/step - loss: 802434.4797 - acc: 5.3750e-04 - val_loss: 262837.4668 - val_acc: 3.0000e-04\n",
      "Epoch 74/120\n",
      "80000/80000 [==============================] - 1s 7us/step - loss: 807612.4230 - acc: 6.0000e-04 - val_loss: 37855.2160 - val_acc: 0.0022\n",
      "Epoch 75/120\n",
      "80000/80000 [==============================] - 1s 9us/step - loss: 798453.2286 - acc: 7.7500e-04 - val_loss: 613577.0930 - val_acc: 6.0000e-04\n",
      "Epoch 76/120\n",
      "80000/80000 [==============================] - 1s 7us/step - loss: 806600.6386 - acc: 4.7500e-04 - val_loss: 1608626.4048 - val_acc: 4.5000e-04\n",
      "Epoch 77/120\n",
      "80000/80000 [==============================] - 1s 7us/step - loss: 801037.7017 - acc: 5.7500e-04 - val_loss: 1832263.7520 - val_acc: 3.5000e-04\n",
      "Epoch 78/120\n",
      "80000/80000 [==============================] - 1s 7us/step - loss: 808331.2771 - acc: 5.6250e-04 - val_loss: 895731.3186 - val_acc: 2.0000e-04\n",
      "Epoch 79/120\n",
      "80000/80000 [==============================] - 1s 7us/step - loss: 798047.0716 - acc: 5.3750e-04 - val_loss: 1119785.7508 - val_acc: 2.5000e-04\n",
      "Epoch 80/120\n",
      "80000/80000 [==============================] - 1s 7us/step - loss: 806151.4799 - acc: 6.0000e-04 - val_loss: 262937.0884 - val_acc: 7.0000e-04\n",
      "Epoch 81/120\n",
      "80000/80000 [==============================] - 1s 7us/step - loss: 802059.4649 - acc: 5.0000e-04 - val_loss: 941794.6854 - val_acc: 5.5000e-04\n",
      "Epoch 82/120\n",
      "80000/80000 [==============================] - 1s 7us/step - loss: 810965.8090 - acc: 6.6250e-04 - val_loss: 901575.6444 - val_acc: 3.5000e-04\n",
      "Epoch 83/120\n",
      "80000/80000 [==============================] - 1s 8us/step - loss: 803090.8692 - acc: 5.2500e-04 - val_loss: 2639529.9694 - val_acc: 1.0000e-04\n",
      "Epoch 84/120\n",
      "80000/80000 [==============================] - 1s 7us/step - loss: 813879.7938 - acc: 4.7500e-04 - val_loss: 987303.0852 - val_acc: 1.5000e-04\n",
      "Epoch 85/120\n",
      "80000/80000 [==============================] - 1s 7us/step - loss: 799217.4328 - acc: 7.0000e-04 - val_loss: 1327911.7172 - val_acc: 3.5000e-04\n",
      "Epoch 86/120\n",
      "80000/80000 [==============================] - 1s 7us/step - loss: 805002.5289 - acc: 7.8750e-04 - val_loss: 193368.1419 - val_acc: 7.0000e-04\n",
      "Epoch 87/120\n",
      "80000/80000 [==============================] - 1s 7us/step - loss: 807135.7022 - acc: 5.8750e-04 - val_loss: 3482676.0424 - val_acc: 5.0000e-04\n",
      "Epoch 88/120\n",
      "80000/80000 [==============================] - 1s 7us/step - loss: 807461.1731 - acc: 6.5000e-04 - val_loss: 2832663.1800 - val_acc: 5.0000e-04\n",
      "Epoch 89/120\n",
      "80000/80000 [==============================] - 1s 7us/step - loss: 806447.2913 - acc: 5.2500e-04 - val_loss: 941792.5120 - val_acc: 2.0000e-04\n",
      "Epoch 90/120\n",
      "80000/80000 [==============================] - 1s 7us/step - loss: 801850.7287 - acc: 7.0000e-04 - val_loss: 254970.0902 - val_acc: 1.0000e-03\n",
      "Epoch 91/120\n",
      "80000/80000 [==============================] - 1s 8us/step - loss: 807981.1218 - acc: 6.5000e-04 - val_loss: 37852.2994 - val_acc: 0.0015\n",
      "Epoch 92/120\n",
      "80000/80000 [==============================] - 1s 7us/step - loss: 797654.2887 - acc: 5.7500e-04 - val_loss: 709168.8058 - val_acc: 2.0000e-04\n",
      "Epoch 93/120\n",
      "80000/80000 [==============================] - 1s 7us/step - loss: 810554.2837 - acc: 5.3750e-04 - val_loss: 283175.3540 - val_acc: 0.0014\n",
      "Epoch 94/120\n",
      "80000/80000 [==============================] - 1s 7us/step - loss: 807016.2517 - acc: 6.0000e-04 - val_loss: 82617.0574 - val_acc: 1.0000e-03\n",
      "Epoch 95/120\n",
      "80000/80000 [==============================] - 1s 7us/step - loss: 803817.4101 - acc: 7.5000e-04 - val_loss: 1309919.6252 - val_acc: 2.5000e-04\n",
      "Epoch 96/120\n",
      "80000/80000 [==============================] - 1s 7us/step - loss: 810200.7913 - acc: 3.7500e-04 - val_loss: 370514.1080 - val_acc: 6.5000e-04\n",
      "Epoch 97/120\n",
      "80000/80000 [==============================] - 1s 8us/step - loss: 800776.1517 - acc: 5.7500e-04 - val_loss: 1112424.8204 - val_acc: 5.5000e-04\n",
      "Epoch 98/120\n",
      "80000/80000 [==============================] - 1s 7us/step - loss: 799378.1907 - acc: 7.3750e-04 - val_loss: 225814.3941 - val_acc: 7.0000e-04\n",
      "Epoch 99/120\n",
      "80000/80000 [==============================] - 1s 7us/step - loss: 800507.1054 - acc: 6.7500e-04 - val_loss: 1014427.8310 - val_acc: 3.0000e-04\n",
      "Epoch 100/120\n",
      "80000/80000 [==============================] - 1s 7us/step - loss: 803616.3238 - acc: 5.7500e-04 - val_loss: 43993.1523 - val_acc: 0.0023\n",
      "Epoch 101/120\n",
      "80000/80000 [==============================] - 1s 7us/step - loss: 804102.8031 - acc: 7.8750e-04 - val_loss: 607590.0247 - val_acc: 7.0000e-04\n",
      "Epoch 102/120\n",
      "80000/80000 [==============================] - 1s 7us/step - loss: 800402.0813 - acc: 7.0000e-04 - val_loss: 386536.7278 - val_acc: 4.5000e-04\n",
      "Epoch 103/120\n",
      "80000/80000 [==============================] - 1s 7us/step - loss: 800084.7976 - acc: 7.0000e-04 - val_loss: 687283.8166 - val_acc: 4.0000e-04\n",
      "Epoch 104/120\n",
      "80000/80000 [==============================] - 1s 7us/step - loss: 811249.8314 - acc: 6.0000e-04 - val_loss: 1082493.9132 - val_acc: 4.5000e-04\n",
      "Epoch 105/120\n"
     ]
    },
    {
     "name": "stdout",
     "output_type": "stream",
     "text": [
      "80000/80000 [==============================] - 1s 7us/step - loss: 806379.6972 - acc: 5.1250e-04 - val_loss: 266826.1553 - val_acc: 7.0000e-04\n",
      "Epoch 106/120\n",
      "80000/80000 [==============================] - 1s 7us/step - loss: 811273.3656 - acc: 5.1250e-04 - val_loss: 347898.1478 - val_acc: 3.5000e-04\n",
      "Epoch 107/120\n",
      "80000/80000 [==============================] - 1s 7us/step - loss: 801808.9733 - acc: 7.5000e-04 - val_loss: 740618.0483 - val_acc: 3.0000e-04\n",
      "Epoch 108/120\n",
      "80000/80000 [==============================] - 1s 7us/step - loss: 798192.7549 - acc: 7.7500e-04 - val_loss: 964829.1599 - val_acc: 6.0000e-04\n",
      "Epoch 109/120\n",
      "80000/80000 [==============================] - 1s 7us/step - loss: 804560.4711 - acc: 7.7500e-04 - val_loss: 573217.8133 - val_acc: 7.5000e-04\n",
      "Epoch 110/120\n",
      "80000/80000 [==============================] - 1s 7us/step - loss: 803573.1071 - acc: 6.5000e-04 - val_loss: 916490.9462 - val_acc: 2.5000e-04\n",
      "Epoch 111/120\n",
      "80000/80000 [==============================] - 1s 7us/step - loss: 808471.2954 - acc: 6.6250e-04 - val_loss: 611083.5101 - val_acc: 2.5000e-04\n",
      "Epoch 112/120\n",
      "80000/80000 [==============================] - 1s 8us/step - loss: 807089.5807 - acc: 7.0000e-04 - val_loss: 63432.7584 - val_acc: 0.0014\n",
      "Epoch 113/120\n",
      "80000/80000 [==============================] - 1s 7us/step - loss: 799611.1075 - acc: 7.6250e-04 - val_loss: 166993.6523 - val_acc: 8.0000e-04\n",
      "Epoch 114/120\n",
      "80000/80000 [==============================] - 1s 7us/step - loss: 793561.7617 - acc: 5.8750e-04 - val_loss: 501335.5299 - val_acc: 6.5000e-04\n",
      "Epoch 115/120\n",
      "80000/80000 [==============================] - 1s 7us/step - loss: 804548.0823 - acc: 6.0000e-04 - val_loss: 2436774.5544 - val_acc: 5.0000e-05\n",
      "Epoch 116/120\n",
      "80000/80000 [==============================] - 1s 7us/step - loss: 802175.5462 - acc: 7.1250e-04 - val_loss: 479255.6024 - val_acc: 9.0000e-04\n",
      "Epoch 117/120\n",
      "80000/80000 [==============================] - 1s 7us/step - loss: 810429.2109 - acc: 5.1250e-04 - val_loss: 267148.8862 - val_acc: 5.0000e-04\n",
      "Epoch 118/120\n",
      "80000/80000 [==============================] - 1s 7us/step - loss: 792001.3651 - acc: 7.5000e-04 - val_loss: 49039.5630 - val_acc: 0.0014\n",
      "Epoch 119/120\n",
      "80000/80000 [==============================] - 1s 7us/step - loss: 802581.7289 - acc: 5.5000e-04 - val_loss: 817578.7288 - val_acc: 3.0000e-04\n",
      "Epoch 120/120\n",
      "80000/80000 [==============================] - 1s 7us/step - loss: 808409.6929 - acc: 4.5000e-04 - val_loss: 1943180.7480 - val_acc: 6.5000e-04\n"
     ]
    },
    {
     "data": {
      "text/plain": [
       "<keras.callbacks.History at 0x7f518f007dd8>"
      ]
     },
     "execution_count": 37,
     "metadata": {},
     "output_type": "execute_result"
    }
   ],
   "source": [
    "model.fit(x, y, batch_size=batch_size, callbacks=callbacks, epochs=epochs, verbose=1, validation_data=(x_val, y_val))"
   ]
  },
  {
   "cell_type": "code",
   "execution_count": 38,
   "metadata": {},
   "outputs": [],
   "source": [
    "score = model.evaluate(x_val, y_val, verbose=0)"
   ]
  },
  {
   "cell_type": "code",
   "execution_count": 39,
   "metadata": {},
   "outputs": [
    {
     "name": "stdout",
     "output_type": "stream",
     "text": [
      "Test loss: 1943180.767\n"
     ]
    }
   ],
   "source": [
    "print('Test loss:', score[0])"
   ]
  },
  {
   "cell_type": "code",
   "execution_count": 40,
   "metadata": {},
   "outputs": [
    {
     "name": "stdout",
     "output_type": "stream",
     "text": [
      "Test accuracy: 0.00065\n"
     ]
    }
   ],
   "source": [
    "print('Test accuracy:', score[1])"
   ]
  },
  {
   "cell_type": "code",
   "execution_count": 41,
   "metadata": {},
   "outputs": [
    {
     "name": "stdout",
     "output_type": "stream",
     "text": [
      "[[ 205.49256897]\n",
      " [ 217.12568665]\n",
      " [ 207.23753357]\n",
      " [ 172.33816528]\n",
      " [ 172.33816528]]\n"
     ]
    }
   ],
   "source": [
    "print(model.predict(np.array([np.random.randint(10,100) for _ in range(5)])))"
   ]
  },
  {
   "cell_type": "code",
   "execution_count": 42,
   "metadata": {},
   "outputs": [],
   "source": [
    "model.save_weights('travel-price.hdf5')"
   ]
  },
  {
   "cell_type": "code",
   "execution_count": 43,
   "metadata": {},
   "outputs": [],
   "source": [
    "with open('travel-price.json','w') as f:\n",
    "    f.write(model.to_json())\n",
    "    f.close()"
   ]
  }
 ],
 "metadata": {
  "kernelspec": {
   "display_name": "Python 3",
   "language": "python",
   "name": "python3"
  },
  "language_info": {
   "codemirror_mode": {
    "name": "ipython",
    "version": 3
   },
   "file_extension": ".py",
   "mimetype": "text/x-python",
   "name": "python",
   "nbconvert_exporter": "python",
   "pygments_lexer": "ipython3",
   "version": "3.6.3"
  }
 },
 "nbformat": 4,
 "nbformat_minor": 2
}
