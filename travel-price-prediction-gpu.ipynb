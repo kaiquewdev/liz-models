{
 "cells": [
  {
   "cell_type": "code",
   "execution_count": 1,
   "metadata": {},
   "outputs": [],
   "source": [
    "import warnings; warnings.simplefilter('ignore')"
   ]
  },
  {
   "cell_type": "code",
   "execution_count": 2,
   "metadata": {},
   "outputs": [],
   "source": [
    "import pandas as pd"
   ]
  },
  {
   "cell_type": "code",
   "execution_count": 3,
   "metadata": {},
   "outputs": [],
   "source": [
    "import numpy as np"
   ]
  },
  {
   "cell_type": "code",
   "execution_count": 4,
   "metadata": {},
   "outputs": [
    {
     "name": "stderr",
     "output_type": "stream",
     "text": [
      "Using TensorFlow backend.\n"
     ]
    }
   ],
   "source": [
    "import keras"
   ]
  },
  {
   "cell_type": "code",
   "execution_count": 5,
   "metadata": {},
   "outputs": [],
   "source": [
    "from keras import backend as K"
   ]
  },
  {
   "cell_type": "code",
   "execution_count": 6,
   "metadata": {},
   "outputs": [],
   "source": [
    "from keras.models import Sequential"
   ]
  },
  {
   "cell_type": "code",
   "execution_count": 7,
   "metadata": {},
   "outputs": [],
   "source": [
    "from keras.layers import Dense"
   ]
  },
  {
   "cell_type": "code",
   "execution_count": 8,
   "metadata": {},
   "outputs": [],
   "source": [
    "from sklearn import model_selection"
   ]
  },
  {
   "cell_type": "code",
   "execution_count": 9,
   "metadata": {},
   "outputs": [],
   "source": [
    "import math"
   ]
  },
  {
   "cell_type": "code",
   "execution_count": 10,
   "metadata": {},
   "outputs": [],
   "source": [
    "import tensorflow as tf"
   ]
  },
  {
   "cell_type": "code",
   "execution_count": 11,
   "metadata": {},
   "outputs": [],
   "source": [
    "import horovod.keras as hvd"
   ]
  },
  {
   "cell_type": "code",
   "execution_count": 12,
   "metadata": {},
   "outputs": [],
   "source": [
    "df = pd.DataFrame()"
   ]
  },
  {
   "cell_type": "code",
   "execution_count": 13,
   "metadata": {},
   "outputs": [],
   "source": [
    "df['distances'] = np.array([np.random.randint(1,1000) for _ in range(10**5)])"
   ]
  },
  {
   "cell_type": "code",
   "execution_count": 14,
   "metadata": {},
   "outputs": [],
   "source": [
    "df['weights'] = np.array([np.random.randint(60,500) for _ in range(10**5)])"
   ]
  },
  {
   "cell_type": "code",
   "execution_count": 15,
   "metadata": {},
   "outputs": [
    {
     "data": {
      "text/plain": [
       "distances    100000\n",
       "weights      100000\n",
       "dtype: int64"
      ]
     },
     "execution_count": 15,
     "metadata": {},
     "output_type": "execute_result"
    }
   ],
   "source": [
    "df[['distances','weights']].count()"
   ]
  },
  {
   "cell_type": "code",
   "execution_count": 16,
   "metadata": {},
   "outputs": [],
   "source": [
    "df['prices'] = np.array([((df['distances'][i] * df['weights'][i])/100) for i in range(len(df['distances']))])"
   ]
  },
  {
   "cell_type": "code",
   "execution_count": 17,
   "metadata": {},
   "outputs": [
    {
     "data": {
      "text/html": [
       "<div>\n",
       "<style scoped>\n",
       "    .dataframe tbody tr th:only-of-type {\n",
       "        vertical-align: middle;\n",
       "    }\n",
       "\n",
       "    .dataframe tbody tr th {\n",
       "        vertical-align: top;\n",
       "    }\n",
       "\n",
       "    .dataframe thead th {\n",
       "        text-align: right;\n",
       "    }\n",
       "</style>\n",
       "<table border=\"1\" class=\"dataframe\">\n",
       "  <thead>\n",
       "    <tr style=\"text-align: right;\">\n",
       "      <th></th>\n",
       "      <th>distances</th>\n",
       "      <th>weights</th>\n",
       "      <th>prices</th>\n",
       "    </tr>\n",
       "  </thead>\n",
       "  <tbody>\n",
       "    <tr>\n",
       "      <th>0</th>\n",
       "      <td>494</td>\n",
       "      <td>410</td>\n",
       "      <td>2025.40</td>\n",
       "    </tr>\n",
       "    <tr>\n",
       "      <th>1</th>\n",
       "      <td>378</td>\n",
       "      <td>140</td>\n",
       "      <td>529.20</td>\n",
       "    </tr>\n",
       "    <tr>\n",
       "      <th>2</th>\n",
       "      <td>768</td>\n",
       "      <td>361</td>\n",
       "      <td>2772.48</td>\n",
       "    </tr>\n",
       "    <tr>\n",
       "      <th>3</th>\n",
       "      <td>534</td>\n",
       "      <td>222</td>\n",
       "      <td>1185.48</td>\n",
       "    </tr>\n",
       "    <tr>\n",
       "      <th>4</th>\n",
       "      <td>610</td>\n",
       "      <td>293</td>\n",
       "      <td>1787.30</td>\n",
       "    </tr>\n",
       "  </tbody>\n",
       "</table>\n",
       "</div>"
      ],
      "text/plain": [
       "   distances  weights   prices\n",
       "0        494      410  2025.40\n",
       "1        378      140   529.20\n",
       "2        768      361  2772.48\n",
       "3        534      222  1185.48\n",
       "4        610      293  1787.30"
      ]
     },
     "execution_count": 17,
     "metadata": {},
     "output_type": "execute_result"
    }
   ],
   "source": [
    "df.head()"
   ]
  },
  {
   "cell_type": "code",
   "execution_count": 18,
   "metadata": {},
   "outputs": [
    {
     "data": {
      "text/plain": [
       "0"
      ]
     },
     "execution_count": 18,
     "metadata": {},
     "output_type": "execute_result"
    }
   ],
   "source": [
    "hvd.init()"
   ]
  },
  {
   "cell_type": "code",
   "execution_count": 19,
   "metadata": {},
   "outputs": [],
   "source": [
    "config = tf.ConfigProto()"
   ]
  },
  {
   "cell_type": "code",
   "execution_count": 20,
   "metadata": {},
   "outputs": [],
   "source": [
    "config.gpu_options.allow_growth = True"
   ]
  },
  {
   "cell_type": "code",
   "execution_count": 21,
   "metadata": {},
   "outputs": [],
   "source": [
    "config.gpu_options.visible_device_list = str(hvd.local_rank())"
   ]
  },
  {
   "cell_type": "code",
   "execution_count": 22,
   "metadata": {},
   "outputs": [],
   "source": [
    "K.set_session(tf.Session(config=config))"
   ]
  },
  {
   "cell_type": "code",
   "execution_count": 23,
   "metadata": {},
   "outputs": [],
   "source": [
    "batch_size = 128"
   ]
  },
  {
   "cell_type": "code",
   "execution_count": 24,
   "metadata": {},
   "outputs": [],
   "source": [
    "num_classes = 10"
   ]
  },
  {
   "cell_type": "code",
   "execution_count": 25,
   "metadata": {},
   "outputs": [],
   "source": [
    "epochs = int(math.ceil(100.0) / hvd.size())"
   ]
  },
  {
   "cell_type": "code",
   "execution_count": 26,
   "metadata": {},
   "outputs": [],
   "source": [
    "x, x_val, y, y_val = model_selection.train_test_split(df['prices'], df['distances'], test_size=0.2, random_state=42)"
   ]
  },
  {
   "cell_type": "code",
   "execution_count": 27,
   "metadata": {},
   "outputs": [],
   "source": [
    "dlce = lambda l: [v for v in l if v >= 0]"
   ]
  },
  {
   "cell_type": "code",
   "execution_count": 28,
   "metadata": {},
   "outputs": [],
   "source": [
    "x = np.array(dlce(x))\n",
    "x_val = np.array(dlce(x_val))"
   ]
  },
  {
   "cell_type": "code",
   "execution_count": 29,
   "metadata": {},
   "outputs": [],
   "source": [
    "y = np.array(dlce(y))\n",
    "y_val = np.array(dlce(y_val))"
   ]
  },
  {
   "cell_type": "code",
   "execution_count": 30,
   "metadata": {},
   "outputs": [],
   "source": [
    "opt = keras.optimizers.RMSprop(1.0 * hvd.size())"
   ]
  },
  {
   "cell_type": "code",
   "execution_count": 31,
   "metadata": {},
   "outputs": [],
   "source": [
    "opt = hvd.DistributedOptimizer(opt)"
   ]
  },
  {
   "cell_type": "code",
   "execution_count": 32,
   "metadata": {},
   "outputs": [],
   "source": [
    "model = Sequential()"
   ]
  },
  {
   "cell_type": "code",
   "execution_count": 33,
   "metadata": {},
   "outputs": [],
   "source": [
    "model.add(Dense(1, input_dim=1))"
   ]
  },
  {
   "cell_type": "code",
   "execution_count": 34,
   "metadata": {},
   "outputs": [],
   "source": [
    "model.compile(optimizer=opt, loss=keras.losses.mse,metrics=['accuracy'])"
   ]
  },
  {
   "cell_type": "code",
   "execution_count": 35,
   "metadata": {},
   "outputs": [],
   "source": [
    "callbacks = [hvd.callbacks.BroadcastGlobalVariablesCallback(0)]"
   ]
  },
  {
   "cell_type": "code",
   "execution_count": null,
   "metadata": {},
   "outputs": [],
   "source": [
    "if hvd.rank() == 0:\n",
    "    callbacks.append(keras.callbacks.ModelCheckpoint('./checkpoint-{epoch}.h5'))"
   ]
  },
  {
   "cell_type": "code",
   "execution_count": null,
   "metadata": {},
   "outputs": [
    {
     "name": "stdout",
     "output_type": "stream",
     "text": [
      "Train on 80000 samples, validate on 20000 samples\n",
      "Epoch 1/100\n",
      "80000/80000 [==============================] - 1s 7us/step - loss: 822385.8785 - acc: 0.0012 - val_loss: 66478.1534 - val_acc: 0.0031\n",
      "Epoch 2/100\n",
      "80000/80000 [==============================] - 1s 7us/step - loss: 806710.5962 - acc: 8.0000e-04 - val_loss: 216395.0884 - val_acc: 0.0011\n",
      "Epoch 3/100\n",
      "80000/80000 [==============================] - 1s 7us/step - loss: 808642.8604 - acc: 9.1250e-04 - val_loss: 731877.2580 - val_acc: 3.5000e-04\n",
      "Epoch 4/100\n",
      "80000/80000 [==============================] - 1s 7us/step - loss: 796000.7692 - acc: 8.7500e-04 - val_loss: 259438.0246 - val_acc: 7.5000e-04\n",
      "Epoch 5/100\n",
      "80000/80000 [==============================] - 1s 7us/step - loss: 795769.7249 - acc: 7.1250e-04 - val_loss: 526123.9369 - val_acc: 6.0000e-04\n",
      "Epoch 6/100\n",
      "80000/80000 [==============================] - 1s 8us/step - loss: 809484.7026 - acc: 5.6250e-04 - val_loss: 351436.9450 - val_acc: 7.5000e-04\n",
      "Epoch 7/100\n",
      "80000/80000 [==============================] - 1s 7us/step - loss: 798529.6039 - acc: 6.2500e-04 - val_loss: 537445.6230 - val_acc: 5.0000e-04\n",
      "Epoch 8/100\n",
      "80000/80000 [==============================] - 1s 7us/step - loss: 801636.9049 - acc: 7.0000e-04 - val_loss: 359462.5917 - val_acc: 8.5000e-04\n",
      "Epoch 9/100\n",
      "80000/80000 [==============================] - 1s 9us/step - loss: 797418.6097 - acc: 4.1250e-04 - val_loss: 420629.3907 - val_acc: 4.0000e-04\n",
      "Epoch 10/100\n",
      "80000/80000 [==============================] - 1s 7us/step - loss: 793423.6013 - acc: 4.8750e-04 - val_loss: 1261112.3728 - val_acc: 5.5000e-04\n",
      "Epoch 11/100\n",
      "80000/80000 [==============================] - 1s 7us/step - loss: 806901.6128 - acc: 4.8750e-04 - val_loss: 522880.4137 - val_acc: 8.5000e-04\n",
      "Epoch 12/100\n",
      "80000/80000 [==============================] - 1s 8us/step - loss: 792500.0920 - acc: 7.5000e-04 - val_loss: 1916349.8036 - val_acc: 8.0000e-04\n",
      "Epoch 13/100\n",
      "80000/80000 [==============================] - 1s 7us/step - loss: 802681.9550 - acc: 6.1250e-04 - val_loss: 152142.9256 - val_acc: 1.0000e-03\n",
      "Epoch 14/100\n",
      "80000/80000 [==============================] - 1s 10us/step - loss: 793929.7094 - acc: 4.7500e-04 - val_loss: 477005.3248 - val_acc: 0.0010\n",
      "Epoch 15/100\n",
      "80000/80000 [==============================] - 1s 7us/step - loss: 791923.5128 - acc: 6.8750e-04 - val_loss: 1481233.7288 - val_acc: 7.5000e-04\n",
      "Epoch 16/100\n",
      "80000/80000 [==============================] - 1s 7us/step - loss: 801336.0040 - acc: 5.1250e-04 - val_loss: 597057.3492 - val_acc: 6.5000e-04\n",
      "Epoch 17/100\n",
      "80000/80000 [==============================] - 1s 7us/step - loss: 798317.9770 - acc: 6.1250e-04 - val_loss: 572260.9218 - val_acc: 5.5000e-04\n",
      "Epoch 18/100\n",
      "80000/80000 [==============================] - 1s 7us/step - loss: 800732.9188 - acc: 6.3750e-04 - val_loss: 597679.4663 - val_acc: 3.5000e-04\n",
      "Epoch 19/100\n",
      "80000/80000 [==============================] - 1s 7us/step - loss: 794189.2004 - acc: 5.2500e-04 - val_loss: 1121636.5584 - val_acc: 7.5000e-04\n",
      "Epoch 20/100\n",
      "80000/80000 [==============================] - 1s 7us/step - loss: 785489.4145 - acc: 7.6250e-04 - val_loss: 56370.8781 - val_acc: 0.0011\n",
      "Epoch 21/100\n",
      "80000/80000 [==============================] - 1s 7us/step - loss: 800729.6337 - acc: 5.3750e-04 - val_loss: 239482.1908 - val_acc: 0.0011\n",
      "Epoch 22/100\n",
      "80000/80000 [==============================] - 1s 7us/step - loss: 806233.2914 - acc: 7.2500e-04 - val_loss: 1352526.9878 - val_acc: 2.0000e-04\n",
      "Epoch 23/100\n",
      "80000/80000 [==============================] - 1s 7us/step - loss: 797920.9897 - acc: 5.8750e-04 - val_loss: 778689.3536 - val_acc: 4.0000e-04\n",
      "Epoch 24/100\n",
      "80000/80000 [==============================] - 1s 7us/step - loss: 790254.2596 - acc: 6.5000e-04 - val_loss: 2493143.8744 - val_acc: 6.0000e-04\n",
      "Epoch 25/100\n",
      "80000/80000 [==============================] - 1s 7us/step - loss: 803258.2124 - acc: 4.6250e-04 - val_loss: 530948.6908 - val_acc: 1.5000e-04\n",
      "Epoch 26/100\n",
      "80000/80000 [==============================] - 1s 10us/step - loss: 794250.5087 - acc: 6.2500e-04 - val_loss: 855872.1496 - val_acc: 8.5000e-04\n",
      "Epoch 27/100\n",
      "80000/80000 [==============================] - 1s 7us/step - loss: 794605.8239 - acc: 6.8750e-04 - val_loss: 4008604.8320 - val_acc: 0.0000e+00\n",
      "Epoch 28/100\n",
      "80000/80000 [==============================] - 1s 7us/step - loss: 806626.7281 - acc: 7.2500e-04 - val_loss: 484065.9442 - val_acc: 6.0000e-04\n",
      "Epoch 29/100\n",
      "80000/80000 [==============================] - 1s 7us/step - loss: 804342.6708 - acc: 6.8750e-04 - val_loss: 124621.5255 - val_acc: 8.0000e-04\n",
      "Epoch 30/100\n",
      "80000/80000 [==============================] - 1s 7us/step - loss: 796758.3605 - acc: 6.3750e-04 - val_loss: 127573.4427 - val_acc: 0.0014\n",
      "Epoch 31/100\n",
      "80000/80000 [==============================] - 1s 7us/step - loss: 789735.5782 - acc: 8.0000e-04 - val_loss: 54199.8011 - val_acc: 0.0015\n",
      "Epoch 32/100\n",
      "80000/80000 [==============================] - 1s 8us/step - loss: 794500.1137 - acc: 6.5000e-04 - val_loss: 352494.8742 - val_acc: 6.0000e-04\n",
      "Epoch 33/100\n",
      "80000/80000 [==============================] - 1s 8us/step - loss: 792357.2657 - acc: 6.5000e-04 - val_loss: 2337918.1948 - val_acc: 4.0000e-04\n",
      "Epoch 34/100\n",
      "80000/80000 [==============================] - 1s 9us/step - loss: 798729.5619 - acc: 6.8750e-04 - val_loss: 71503.3118 - val_acc: 8.0000e-04\n",
      "Epoch 35/100\n",
      "80000/80000 [==============================] - 1s 7us/step - loss: 797821.5755 - acc: 6.6250e-04 - val_loss: 996261.2308 - val_acc: 3.5000e-04\n",
      "Epoch 36/100\n",
      "80000/80000 [==============================] - 1s 7us/step - loss: 800403.5765 - acc: 6.3750e-04 - val_loss: 862327.4608 - val_acc: 3.0000e-04\n",
      "Epoch 37/100\n",
      "80000/80000 [==============================] - 1s 8us/step - loss: 798062.6551 - acc: 4.3750e-04 - val_loss: 599737.7798 - val_acc: 4.0000e-04\n",
      "Epoch 38/100\n",
      "80000/80000 [==============================] - 1s 9us/step - loss: 798211.0012 - acc: 6.1250e-04 - val_loss: 54699.8896 - val_acc: 0.0012\n",
      "Epoch 39/100\n",
      "80000/80000 [==============================] - 1s 11us/step - loss: 797443.9281 - acc: 7.0000e-04 - val_loss: 1711372.9456 - val_acc: 4.0000e-04\n",
      "Epoch 40/100\n",
      "80000/80000 [==============================] - 1s 9us/step - loss: 803928.2867 - acc: 6.1250e-04 - val_loss: 122804.7153 - val_acc: 7.0000e-04\n",
      "Epoch 41/100\n",
      "80000/80000 [==============================] - 1s 8us/step - loss: 795076.2535 - acc: 6.2500e-04 - val_loss: 217983.1688 - val_acc: 5.5000e-04\n",
      "Epoch 42/100\n",
      "80000/80000 [==============================] - 1s 8us/step - loss: 806635.7029 - acc: 7.7500e-04 - val_loss: 106816.1223 - val_acc: 8.5000e-04\n",
      "Epoch 43/100\n",
      "80000/80000 [==============================] - 1s 7us/step - loss: 793315.5553 - acc: 7.5000e-04 - val_loss: 692173.6812 - val_acc: 3.5000e-04\n",
      "Epoch 44/100\n",
      "80000/80000 [==============================] - 1s 9us/step - loss: 799238.5313 - acc: 6.2500e-04 - val_loss: 334591.6791 - val_acc: 7.0000e-04\n",
      "Epoch 45/100\n",
      "80000/80000 [==============================] - 1s 8us/step - loss: 798875.2222 - acc: 6.7500e-04 - val_loss: 172706.0526 - val_acc: 0.0013\n",
      "Epoch 46/100\n",
      "80000/80000 [==============================] - 1s 8us/step - loss: 800068.3807 - acc: 6.0000e-04 - val_loss: 833924.7200 - val_acc: 3.0000e-04\n",
      "Epoch 47/100\n",
      "80000/80000 [==============================] - 1s 7us/step - loss: 802873.6135 - acc: 8.8750e-04 - val_loss: 44715.0540 - val_acc: 0.0019\n",
      "Epoch 48/100\n",
      "80000/80000 [==============================] - 1s 8us/step - loss: 790397.6046 - acc: 5.0000e-04 - val_loss: 664865.0340 - val_acc: 4.5000e-04\n",
      "Epoch 49/100\n",
      "80000/80000 [==============================] - 1s 8us/step - loss: 805132.9755 - acc: 5.2500e-04 - val_loss: 1681915.0952 - val_acc: 3.0000e-04\n",
      "Epoch 50/100\n",
      "80000/80000 [==============================] - 1s 8us/step - loss: 798591.2625 - acc: 5.8750e-04 - val_loss: 372123.6359 - val_acc: 8.0000e-04\n",
      "Epoch 51/100\n",
      "80000/80000 [==============================] - 1s 9us/step - loss: 805097.5641 - acc: 7.7500e-04 - val_loss: 685375.4020 - val_acc: 2.5000e-04\n",
      "Epoch 52/100\n",
      "80000/80000 [==============================] - 1s 9us/step - loss: 797135.2468 - acc: 7.3750e-04 - val_loss: 80498.3053 - val_acc: 0.0019\n",
      "Epoch 53/100\n"
     ]
    },
    {
     "name": "stdout",
     "output_type": "stream",
     "text": [
      "80000/80000 [==============================] - 1s 7us/step - loss: 798058.8412 - acc: 7.0000e-04 - val_loss: 164559.8771 - val_acc: 5.5000e-04\n",
      "Epoch 54/100\n",
      "80000/80000 [==============================] - 1s 8us/step - loss: 792952.7757 - acc: 5.5000e-04 - val_loss: 2120055.4472 - val_acc: 3.0000e-04\n",
      "Epoch 55/100\n",
      "80000/80000 [==============================] - 1s 8us/step - loss: 813691.4412 - acc: 5.5000e-04 - val_loss: 488700.2658 - val_acc: 7.0000e-04\n",
      "Epoch 56/100\n",
      "80000/80000 [==============================] - 1s 8us/step - loss: 794372.5686 - acc: 6.2500e-04 - val_loss: 573928.4403 - val_acc: 0.0010\n",
      "Epoch 57/100\n",
      "80000/80000 [==============================] - 1s 8us/step - loss: 798444.5675 - acc: 5.2500e-04 - val_loss: 906252.3244 - val_acc: 4.0000e-04\n",
      "Epoch 58/100\n",
      "80000/80000 [==============================] - 1s 8us/step - loss: 803538.4639 - acc: 6.2500e-04 - val_loss: 564356.7012 - val_acc: 5.0000e-04\n",
      "Epoch 59/100\n",
      "80000/80000 [==============================] - 1s 8us/step - loss: 803137.1563 - acc: 6.2500e-04 - val_loss: 72552.9077 - val_acc: 0.0013\n",
      "Epoch 60/100\n",
      "80000/80000 [==============================] - 1s 8us/step - loss: 793091.9542 - acc: 5.5000e-04 - val_loss: 165567.1836 - val_acc: 0.0011\n",
      "Epoch 61/100\n",
      "80000/80000 [==============================] - 1s 8us/step - loss: 791884.6088 - acc: 4.5000e-04 - val_loss: 41360.2218 - val_acc: 0.0016\n",
      "Epoch 62/100\n",
      "80000/80000 [==============================] - 1s 8us/step - loss: 801322.3912 - acc: 5.0000e-04 - val_loss: 316382.3581 - val_acc: 6.5000e-04\n",
      "Epoch 63/100\n",
      "80000/80000 [==============================] - 1s 8us/step - loss: 794110.1906 - acc: 6.8750e-04 - val_loss: 584042.1213 - val_acc: 6.0000e-04\n",
      "Epoch 64/100\n",
      "80000/80000 [==============================] - 1s 9us/step - loss: 800246.4555 - acc: 7.7500e-04 - val_loss: 562958.8773 - val_acc: 9.0000e-04\n",
      "Epoch 65/100\n",
      "78336/80000 [============================>.] - ETA: 0s - loss: 797364.9634 - acc: 5.8721e-04"
     ]
    }
   ],
   "source": [
    "model.fit(x, y, batch_size=batch_size, callbacks=callbacks, epochs=epochs, verbose=1, validation_data=(x_val, y_val))"
   ]
  },
  {
   "cell_type": "code",
   "execution_count": null,
   "metadata": {},
   "outputs": [],
   "source": [
    "score = model.evaluate(x_val, y_val, verbose=0)"
   ]
  },
  {
   "cell_type": "code",
   "execution_count": null,
   "metadata": {},
   "outputs": [],
   "source": [
    "print('Test loss:', score[0])"
   ]
  },
  {
   "cell_type": "code",
   "execution_count": null,
   "metadata": {},
   "outputs": [],
   "source": [
    "print('Test accuracy:', score[1])"
   ]
  },
  {
   "cell_type": "code",
   "execution_count": null,
   "metadata": {},
   "outputs": [],
   "source": [
    "print(model.predict(np.array([np.random.randint(10,100) for _ in range(5)])))"
   ]
  },
  {
   "cell_type": "code",
   "execution_count": null,
   "metadata": {},
   "outputs": [],
   "source": [
    "model.save_weights('travel-price.hdf5')"
   ]
  },
  {
   "cell_type": "code",
   "execution_count": null,
   "metadata": {},
   "outputs": [],
   "source": [
    "with open('travel-price.json','w') as f:\n",
    "    f.write(model.to_json())\n",
    "    f.close()"
   ]
  }
 ],
 "metadata": {
  "kernelspec": {
   "display_name": "Python 3",
   "language": "python",
   "name": "python3"
  },
  "language_info": {
   "codemirror_mode": {
    "name": "ipython",
    "version": 3
   },
   "file_extension": ".py",
   "mimetype": "text/x-python",
   "name": "python",
   "nbconvert_exporter": "python",
   "pygments_lexer": "ipython3",
   "version": "3.6.3"
  }
 },
 "nbformat": 4,
 "nbformat_minor": 2
}
