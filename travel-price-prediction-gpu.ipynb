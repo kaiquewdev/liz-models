{
 "cells": [
  {
   "cell_type": "code",
   "execution_count": 1,
   "metadata": {},
   "outputs": [],
   "source": [
    "import warnings; warnings.simplefilter('ignore')"
   ]
  },
  {
   "cell_type": "code",
   "execution_count": 2,
   "metadata": {},
   "outputs": [],
   "source": [
    "import pandas as pd"
   ]
  },
  {
   "cell_type": "code",
   "execution_count": 3,
   "metadata": {},
   "outputs": [],
   "source": [
    "import numpy as np"
   ]
  },
  {
   "cell_type": "code",
   "execution_count": 4,
   "metadata": {},
   "outputs": [
    {
     "name": "stderr",
     "output_type": "stream",
     "text": [
      "Using TensorFlow backend.\n"
     ]
    }
   ],
   "source": [
    "import keras"
   ]
  },
  {
   "cell_type": "code",
   "execution_count": 5,
   "metadata": {},
   "outputs": [],
   "source": [
    "from keras import backend as K"
   ]
  },
  {
   "cell_type": "code",
   "execution_count": 6,
   "metadata": {},
   "outputs": [],
   "source": [
    "from keras.models import Sequential"
   ]
  },
  {
   "cell_type": "code",
   "execution_count": 7,
   "metadata": {},
   "outputs": [],
   "source": [
    "from keras.layers import Dense"
   ]
  },
  {
   "cell_type": "code",
   "execution_count": 8,
   "metadata": {},
   "outputs": [],
   "source": [
    "from sklearn import model_selection"
   ]
  },
  {
   "cell_type": "code",
   "execution_count": 9,
   "metadata": {},
   "outputs": [],
   "source": [
    "import math"
   ]
  },
  {
   "cell_type": "code",
   "execution_count": 10,
   "metadata": {},
   "outputs": [],
   "source": [
    "import tensorflow as tf"
   ]
  },
  {
   "cell_type": "code",
   "execution_count": 11,
   "metadata": {},
   "outputs": [],
   "source": [
    "import horovod.keras as hvd"
   ]
  },
  {
   "cell_type": "code",
   "execution_count": 12,
   "metadata": {},
   "outputs": [],
   "source": [
    "from liz_models import distance_generation"
   ]
  },
  {
   "cell_type": "code",
   "execution_count": 13,
   "metadata": {},
   "outputs": [],
   "source": [
    "from liz_models import weights_generation"
   ]
  },
  {
   "cell_type": "code",
   "execution_count": 14,
   "metadata": {},
   "outputs": [],
   "source": [
    "df = pd.DataFrame()"
   ]
  },
  {
   "cell_type": "code",
   "execution_count": 15,
   "metadata": {},
   "outputs": [],
   "source": [
    "df['distances'] = distance_generation()"
   ]
  },
  {
   "cell_type": "code",
   "execution_count": 16,
   "metadata": {},
   "outputs": [],
   "source": [
    "df['weights'] = weights_generation()"
   ]
  },
  {
   "cell_type": "code",
   "execution_count": 17,
   "metadata": {},
   "outputs": [
    {
     "data": {
      "text/plain": [
       "distances    100000\n",
       "weights      100000\n",
       "dtype: int64"
      ]
     },
     "execution_count": 17,
     "metadata": {},
     "output_type": "execute_result"
    }
   ],
   "source": [
    "df[['distances','weights']].count()"
   ]
  },
  {
   "cell_type": "code",
   "execution_count": 18,
   "metadata": {},
   "outputs": [],
   "source": [
    "df['prices'] = np.array([((df['distances'][i] * df['weights'][i])/100) for i in range(len(df['distances']))])"
   ]
  },
  {
   "cell_type": "code",
   "execution_count": 19,
   "metadata": {},
   "outputs": [
    {
     "data": {
      "text/html": [
       "<div>\n",
       "<style scoped>\n",
       "    .dataframe tbody tr th:only-of-type {\n",
       "        vertical-align: middle;\n",
       "    }\n",
       "\n",
       "    .dataframe tbody tr th {\n",
       "        vertical-align: top;\n",
       "    }\n",
       "\n",
       "    .dataframe thead th {\n",
       "        text-align: right;\n",
       "    }\n",
       "</style>\n",
       "<table border=\"1\" class=\"dataframe\">\n",
       "  <thead>\n",
       "    <tr style=\"text-align: right;\">\n",
       "      <th></th>\n",
       "      <th>distances</th>\n",
       "      <th>weights</th>\n",
       "      <th>prices</th>\n",
       "    </tr>\n",
       "  </thead>\n",
       "  <tbody>\n",
       "    <tr>\n",
       "      <th>0</th>\n",
       "      <td>120</td>\n",
       "      <td>483</td>\n",
       "      <td>579.60</td>\n",
       "    </tr>\n",
       "    <tr>\n",
       "      <th>1</th>\n",
       "      <td>466</td>\n",
       "      <td>457</td>\n",
       "      <td>2129.62</td>\n",
       "    </tr>\n",
       "    <tr>\n",
       "      <th>2</th>\n",
       "      <td>746</td>\n",
       "      <td>92</td>\n",
       "      <td>686.32</td>\n",
       "    </tr>\n",
       "    <tr>\n",
       "      <th>3</th>\n",
       "      <td>846</td>\n",
       "      <td>209</td>\n",
       "      <td>1768.14</td>\n",
       "    </tr>\n",
       "    <tr>\n",
       "      <th>4</th>\n",
       "      <td>810</td>\n",
       "      <td>218</td>\n",
       "      <td>1765.80</td>\n",
       "    </tr>\n",
       "  </tbody>\n",
       "</table>\n",
       "</div>"
      ],
      "text/plain": [
       "   distances  weights   prices\n",
       "0        120      483   579.60\n",
       "1        466      457  2129.62\n",
       "2        746       92   686.32\n",
       "3        846      209  1768.14\n",
       "4        810      218  1765.80"
      ]
     },
     "execution_count": 19,
     "metadata": {},
     "output_type": "execute_result"
    }
   ],
   "source": [
    "df.head()"
   ]
  },
  {
   "cell_type": "code",
   "execution_count": 20,
   "metadata": {},
   "outputs": [
    {
     "data": {
      "text/plain": [
       "0"
      ]
     },
     "execution_count": 20,
     "metadata": {},
     "output_type": "execute_result"
    }
   ],
   "source": [
    "hvd.init()"
   ]
  },
  {
   "cell_type": "code",
   "execution_count": 21,
   "metadata": {},
   "outputs": [],
   "source": [
    "config = tf.ConfigProto()"
   ]
  },
  {
   "cell_type": "code",
   "execution_count": 22,
   "metadata": {},
   "outputs": [],
   "source": [
    "config.gpu_options.allow_growth = True"
   ]
  },
  {
   "cell_type": "code",
   "execution_count": 23,
   "metadata": {},
   "outputs": [],
   "source": [
    "config.gpu_options.visible_device_list = str(hvd.local_rank())"
   ]
  },
  {
   "cell_type": "code",
   "execution_count": 24,
   "metadata": {},
   "outputs": [],
   "source": [
    "K.set_session(tf.Session(config=config))"
   ]
  },
  {
   "cell_type": "code",
   "execution_count": 25,
   "metadata": {},
   "outputs": [],
   "source": [
    "batch_size = 128"
   ]
  },
  {
   "cell_type": "code",
   "execution_count": 26,
   "metadata": {},
   "outputs": [],
   "source": [
    "num_classes = 10"
   ]
  },
  {
   "cell_type": "code",
   "execution_count": 27,
   "metadata": {},
   "outputs": [],
   "source": [
    "epochs = int(math.ceil(120.0) / hvd.size())"
   ]
  },
  {
   "cell_type": "code",
   "execution_count": 28,
   "metadata": {},
   "outputs": [],
   "source": [
    "x, x_val, y, y_val = model_selection.train_test_split(df['prices'], df['distances'], test_size=0.2, random_state=42)"
   ]
  },
  {
   "cell_type": "code",
   "execution_count": 29,
   "metadata": {},
   "outputs": [],
   "source": [
    "dlce = lambda l: [v for v in l if v >= 0]"
   ]
  },
  {
   "cell_type": "code",
   "execution_count": 30,
   "metadata": {},
   "outputs": [],
   "source": [
    "x = np.array(dlce(x))\n",
    "x_val = np.array(dlce(x_val))"
   ]
  },
  {
   "cell_type": "code",
   "execution_count": 31,
   "metadata": {},
   "outputs": [],
   "source": [
    "y = np.array(dlce(y))\n",
    "y_val = np.array(dlce(y_val))"
   ]
  },
  {
   "cell_type": "code",
   "execution_count": 32,
   "metadata": {},
   "outputs": [],
   "source": [
    "opt = keras.optimizers.RMSprop(1.0 * hvd.size())"
   ]
  },
  {
   "cell_type": "code",
   "execution_count": 33,
   "metadata": {},
   "outputs": [],
   "source": [
    "opt = hvd.DistributedOptimizer(opt)"
   ]
  },
  {
   "cell_type": "code",
   "execution_count": 34,
   "metadata": {},
   "outputs": [],
   "source": [
    "model = Sequential()"
   ]
  },
  {
   "cell_type": "code",
   "execution_count": 35,
   "metadata": {},
   "outputs": [],
   "source": [
    "model.add(Dense(1, input_dim=1))"
   ]
  },
  {
   "cell_type": "code",
   "execution_count": 36,
   "metadata": {},
   "outputs": [],
   "source": [
    "model.compile(optimizer=opt, loss=keras.losses.mse,metrics=['accuracy'])"
   ]
  },
  {
   "cell_type": "code",
   "execution_count": 37,
   "metadata": {},
   "outputs": [],
   "source": [
    "callbacks = [hvd.callbacks.BroadcastGlobalVariablesCallback(0)]"
   ]
  },
  {
   "cell_type": "code",
   "execution_count": 38,
   "metadata": {},
   "outputs": [],
   "source": [
    "if hvd.rank() == 0:\n",
    "    callbacks.append(keras.callbacks.ModelCheckpoint('./checkpoints/checkpoint-{epoch}.h5'))"
   ]
  },
  {
   "cell_type": "code",
   "execution_count": 39,
   "metadata": {},
   "outputs": [
    {
     "name": "stdout",
     "output_type": "stream",
     "text": [
      "Train on 80000 samples, validate on 20000 samples\n",
      "Epoch 1/120\n",
      "80000/80000 [==============================] - 1s 12us/step - loss: 830986.2601 - acc: 0.0010 - val_loss: 59484.1354 - val_acc: 0.0023\n",
      "Epoch 2/120\n",
      "80000/80000 [==============================] - 1s 13us/step - loss: 804842.2723 - acc: 6.7500e-04 - val_loss: 676696.5997 - val_acc: 8.0000e-04\n",
      "Epoch 3/120\n",
      "80000/80000 [==============================] - 1s 13us/step - loss: 809121.1054 - acc: 7.6250e-04 - val_loss: 133991.1151 - val_acc: 9.5000e-04\n",
      "Epoch 4/120\n",
      "80000/80000 [==============================] - 1s 12us/step - loss: 811264.6537 - acc: 6.6250e-04 - val_loss: 901047.3252 - val_acc: 6.5000e-04\n",
      "Epoch 5/120\n",
      "80000/80000 [==============================] - 1s 13us/step - loss: 792805.2952 - acc: 7.2500e-04 - val_loss: 105007.1941 - val_acc: 1.0000e-03\n",
      "Epoch 6/120\n",
      "80000/80000 [==============================] - 1s 13us/step - loss: 797787.6206 - acc: 6.5000e-04 - val_loss: 417244.0006 - val_acc: 7.0000e-04\n",
      "Epoch 7/120\n",
      "80000/80000 [==============================] - 1s 12us/step - loss: 803596.9746 - acc: 5.6250e-04 - val_loss: 2263360.6812 - val_acc: 3.0000e-04\n",
      "Epoch 8/120\n",
      "80000/80000 [==============================] - 1s 14us/step - loss: 808920.6046 - acc: 5.3750e-04 - val_loss: 442970.0906 - val_acc: 6.0000e-04\n",
      "Epoch 9/120\n",
      "80000/80000 [==============================] - 1s 13us/step - loss: 800809.0163 - acc: 5.2500e-04 - val_loss: 49704.2807 - val_acc: 1.0000e-03\n",
      "Epoch 10/120\n",
      "80000/80000 [==============================] - 1s 16us/step - loss: 804363.0915 - acc: 5.1250e-04 - val_loss: 2113474.2280 - val_acc: 4.0000e-04\n",
      "Epoch 11/120\n",
      "80000/80000 [==============================] - 1s 12us/step - loss: 794171.4085 - acc: 6.1250e-04 - val_loss: 757634.4867 - val_acc: 7.0000e-04\n",
      "Epoch 12/120\n",
      "80000/80000 [==============================] - 1s 13us/step - loss: 790712.6270 - acc: 6.2500e-04 - val_loss: 3057845.3736 - val_acc: 5.0000e-05\n",
      "Epoch 13/120\n",
      "80000/80000 [==============================] - 1s 14us/step - loss: 806008.3874 - acc: 6.2500e-04 - val_loss: 933963.1668 - val_acc: 2.0000e-04\n",
      "Epoch 14/120\n",
      "80000/80000 [==============================] - 1s 15us/step - loss: 800824.4174 - acc: 7.0000e-04 - val_loss: 2958669.2472 - val_acc: 2.5000e-04\n",
      "Epoch 15/120\n",
      "80000/80000 [==============================] - 1s 13us/step - loss: 802631.5070 - acc: 6.2500e-04 - val_loss: 1343489.9700 - val_acc: 4.5000e-04\n",
      "Epoch 16/120\n",
      "80000/80000 [==============================] - 1s 13us/step - loss: 798523.9720 - acc: 6.8750e-04 - val_loss: 303306.4126 - val_acc: 9.5000e-04\n",
      "Epoch 17/120\n",
      "80000/80000 [==============================] - 1s 12us/step - loss: 804347.0402 - acc: 6.6250e-04 - val_loss: 568333.8017 - val_acc: 2.5000e-04\n",
      "Epoch 18/120\n",
      "80000/80000 [==============================] - 1s 13us/step - loss: 799886.7780 - acc: 5.7500e-04 - val_loss: 687818.7232 - val_acc: 5.0000e-04\n",
      "Epoch 19/120\n",
      "80000/80000 [==============================] - 1s 13us/step - loss: 797158.6153 - acc: 6.6250e-04 - val_loss: 1655451.5764 - val_acc: 2.5000e-04\n",
      "Epoch 20/120\n",
      "80000/80000 [==============================] - 1s 12us/step - loss: 798796.2926 - acc: 5.1250e-04 - val_loss: 995397.0898 - val_acc: 2.0000e-04\n",
      "Epoch 21/120\n",
      "80000/80000 [==============================] - 1s 15us/step - loss: 802760.9232 - acc: 5.5000e-04 - val_loss: 121391.0397 - val_acc: 9.0000e-04\n",
      "Epoch 22/120\n",
      "80000/80000 [==============================] - 1s 13us/step - loss: 804556.8494 - acc: 6.5000e-04 - val_loss: 153086.6516 - val_acc: 0.0015\n",
      "Epoch 23/120\n",
      "80000/80000 [==============================] - 1s 15us/step - loss: 806513.4162 - acc: 6.3750e-04 - val_loss: 2027642.6016 - val_acc: 2.5000e-04\n",
      "Epoch 24/120\n",
      "80000/80000 [==============================] - 1s 14us/step - loss: 799116.1336 - acc: 6.8750e-04 - val_loss: 802946.4254 - val_acc: 6.0000e-04\n",
      "Epoch 25/120\n",
      "80000/80000 [==============================] - 1s 14us/step - loss: 802556.3982 - acc: 7.5000e-04 - val_loss: 2592280.9928 - val_acc: 1.5000e-04\n",
      "Epoch 26/120\n",
      "80000/80000 [==============================] - 1s 13us/step - loss: 800524.1745 - acc: 6.6250e-04 - val_loss: 321956.4118 - val_acc: 9.5000e-04\n",
      "Epoch 27/120\n",
      "80000/80000 [==============================] - 1s 12us/step - loss: 793950.3990 - acc: 5.1250e-04 - val_loss: 1136585.4908 - val_acc: 9.0000e-04\n",
      "Epoch 28/120\n",
      "80000/80000 [==============================] - 1s 12us/step - loss: 789240.0572 - acc: 6.8750e-04 - val_loss: 328314.7947 - val_acc: 5.5000e-04\n",
      "Epoch 29/120\n",
      "80000/80000 [==============================] - 1s 13us/step - loss: 801801.4389 - acc: 6.8750e-04 - val_loss: 1043006.4143 - val_acc: 5.0000e-04\n",
      "Epoch 30/120\n",
      "80000/80000 [==============================] - 1s 14us/step - loss: 797886.4955 - acc: 6.7500e-04 - val_loss: 516682.0637 - val_acc: 4.0000e-04\n",
      "Epoch 31/120\n",
      "80000/80000 [==============================] - 1s 14us/step - loss: 797471.6413 - acc: 5.8750e-04 - val_loss: 3756153.8328 - val_acc: 4.0000e-04\n",
      "Epoch 32/120\n",
      "80000/80000 [==============================] - 1s 15us/step - loss: 803482.3110 - acc: 7.1250e-04 - val_loss: 379149.9697 - val_acc: 5.0000e-04\n",
      "Epoch 33/120\n",
      "80000/80000 [==============================] - 1s 15us/step - loss: 794069.0669 - acc: 6.5000e-04 - val_loss: 73851.8032 - val_acc: 0.0011\n",
      "Epoch 34/120\n",
      "80000/80000 [==============================] - 1s 17us/step - loss: 804306.9763 - acc: 5.2500e-04 - val_loss: 3229037.9824 - val_acc: 3.5000e-04\n",
      "Epoch 35/120\n",
      "80000/80000 [==============================] - 1s 16us/step - loss: 803537.4814 - acc: 5.0000e-04 - val_loss: 377443.6072 - val_acc: 8.0000e-04\n",
      "Epoch 36/120\n",
      "80000/80000 [==============================] - 1s 17us/step - loss: 805972.4717 - acc: 5.6250e-04 - val_loss: 1547590.9004 - val_acc: 3.0000e-04\n",
      "Epoch 37/120\n",
      "80000/80000 [==============================] - 1s 13us/step - loss: 800702.2064 - acc: 8.2500e-04 - val_loss: 37711.5871 - val_acc: 0.0015\n",
      "Epoch 38/120\n",
      "80000/80000 [==============================] - 1s 14us/step - loss: 800164.8256 - acc: 5.2500e-04 - val_loss: 2217073.0882 - val_acc: 2.0000e-04\n",
      "Epoch 39/120\n",
      "80000/80000 [==============================] - 1s 15us/step - loss: 794535.2308 - acc: 8.0000e-04 - val_loss: 238470.6796 - val_acc: 4.5000e-04\n",
      "Epoch 40/120\n",
      "80000/80000 [==============================] - 1s 13us/step - loss: 809411.0098 - acc: 5.6250e-04 - val_loss: 649676.7480 - val_acc: 5.5000e-04\n",
      "Epoch 41/120\n",
      "80000/80000 [==============================] - 1s 13us/step - loss: 798160.6306 - acc: 6.3750e-04 - val_loss: 2016712.3024 - val_acc: 2.0000e-04\n",
      "Epoch 42/120\n",
      "80000/80000 [==============================] - 1s 15us/step - loss: 806154.2430 - acc: 6.1250e-04 - val_loss: 185707.4098 - val_acc: 6.0000e-04\n",
      "Epoch 43/120\n",
      "80000/80000 [==============================] - 1s 14us/step - loss: 796911.7219 - acc: 6.3750e-04 - val_loss: 50953.9631 - val_acc: 0.0018\n",
      "Epoch 44/120\n",
      "80000/80000 [==============================] - 1s 12us/step - loss: 804548.3801 - acc: 6.6250e-04 - val_loss: 546560.7033 - val_acc: 4.5000e-04\n",
      "Epoch 45/120\n",
      "80000/80000 [==============================] - 1s 10us/step - loss: 796896.2455 - acc: 6.3750e-04 - val_loss: 869134.0380 - val_acc: 6.0000e-04\n",
      "Epoch 46/120\n",
      "80000/80000 [==============================] - 1s 12us/step - loss: 801270.0240 - acc: 6.3750e-04 - val_loss: 477517.4079 - val_acc: 3.5000e-04\n",
      "Epoch 47/120\n",
      "80000/80000 [==============================] - 1s 12us/step - loss: 794705.2549 - acc: 5.5000e-04 - val_loss: 3814036.5912 - val_acc: 0.0000e+00\n",
      "Epoch 48/120\n",
      "80000/80000 [==============================] - 1s 12us/step - loss: 805740.1246 - acc: 8.0000e-04 - val_loss: 1670528.4556 - val_acc: 2.5000e-04\n",
      "Epoch 49/120\n",
      "80000/80000 [==============================] - 1s 12us/step - loss: 802786.5687 - acc: 5.7500e-04 - val_loss: 61870.7221 - val_acc: 0.0017\n",
      "Epoch 50/120\n",
      "80000/80000 [==============================] - 1s 11us/step - loss: 796797.6753 - acc: 6.5000e-04 - val_loss: 1878005.5512 - val_acc: 2.0000e-04\n",
      "Epoch 51/120\n",
      "80000/80000 [==============================] - 1s 14us/step - loss: 807322.2031 - acc: 7.0000e-04 - val_loss: 261416.3414 - val_acc: 0.0011\n",
      "Epoch 52/120\n",
      "80000/80000 [==============================] - 1s 12us/step - loss: 807454.7815 - acc: 5.0000e-04 - val_loss: 764715.0941 - val_acc: 6.0000e-04\n",
      "Epoch 53/120\n"
     ]
    },
    {
     "name": "stdout",
     "output_type": "stream",
     "text": [
      "80000/80000 [==============================] - 1s 13us/step - loss: 797864.4970 - acc: 4.3750e-04 - val_loss: 222083.9217 - val_acc: 1.0000e-03\n",
      "Epoch 54/120\n",
      "80000/80000 [==============================] - 1s 12us/step - loss: 803609.6212 - acc: 4.6250e-04 - val_loss: 895972.3816 - val_acc: 6.5000e-04\n",
      "Epoch 55/120\n",
      "80000/80000 [==============================] - 1s 13us/step - loss: 801283.6728 - acc: 6.6250e-04 - val_loss: 1570675.3116 - val_acc: 3.5000e-04\n",
      "Epoch 56/120\n",
      "80000/80000 [==============================] - 1s 11us/step - loss: 801626.9940 - acc: 4.1250e-04 - val_loss: 116526.6359 - val_acc: 0.0011\n",
      "Epoch 57/120\n",
      "80000/80000 [==============================] - 1s 11us/step - loss: 799582.7240 - acc: 5.8750e-04 - val_loss: 448154.7834 - val_acc: 1.0000e-03\n",
      "Epoch 58/120\n",
      "80000/80000 [==============================] - 1s 11us/step - loss: 809440.9347 - acc: 6.6250e-04 - val_loss: 99556.2404 - val_acc: 0.0014\n",
      "Epoch 59/120\n",
      "80000/80000 [==============================] - 1s 15us/step - loss: 802293.4334 - acc: 4.5000e-04 - val_loss: 209982.8736 - val_acc: 5.5000e-04\n",
      "Epoch 60/120\n",
      "80000/80000 [==============================] - 1s 14us/step - loss: 805628.9332 - acc: 6.8750e-04 - val_loss: 195067.6498 - val_acc: 8.0000e-04\n",
      "Epoch 61/120\n",
      "80000/80000 [==============================] - 1s 12us/step - loss: 793513.4157 - acc: 6.2500e-04 - val_loss: 312417.4478 - val_acc: 4.0000e-04\n",
      "Epoch 62/120\n",
      "80000/80000 [==============================] - 1s 10us/step - loss: 796725.3538 - acc: 6.3750e-04 - val_loss: 1123653.0531 - val_acc: 2.5000e-04\n",
      "Epoch 63/120\n",
      "80000/80000 [==============================] - 1s 12us/step - loss: 808150.9734 - acc: 5.8750e-04 - val_loss: 698186.7136 - val_acc: 4.5000e-04\n",
      "Epoch 64/120\n",
      "80000/80000 [==============================] - 1s 11us/step - loss: 799819.6967 - acc: 6.1250e-04 - val_loss: 380600.1713 - val_acc: 8.0000e-04\n",
      "Epoch 65/120\n",
      "80000/80000 [==============================] - 1s 12us/step - loss: 798465.3002 - acc: 6.6250e-04 - val_loss: 967049.2630 - val_acc: 2.0000e-04\n",
      "Epoch 66/120\n",
      "80000/80000 [==============================] - 1s 13us/step - loss: 795936.8319 - acc: 5.7500e-04 - val_loss: 189246.1622 - val_acc: 8.0000e-04\n",
      "Epoch 67/120\n",
      "80000/80000 [==============================] - 1s 16us/step - loss: 802590.7435 - acc: 6.6250e-04 - val_loss: 119604.4853 - val_acc: 1.0000e-03\n",
      "Epoch 68/120\n",
      "80000/80000 [==============================] - 1s 11us/step - loss: 802435.3721 - acc: 4.5000e-04 - val_loss: 1405737.6322 - val_acc: 2.5000e-04\n",
      "Epoch 69/120\n",
      "80000/80000 [==============================] - 1s 11us/step - loss: 794674.3980 - acc: 6.1250e-04 - val_loss: 2106752.6288 - val_acc: 3.0000e-04\n",
      "Epoch 70/120\n",
      "80000/80000 [==============================] - 1s 11us/step - loss: 803667.0880 - acc: 7.0000e-04 - val_loss: 1137005.3272 - val_acc: 5.5000e-04\n",
      "Epoch 71/120\n",
      "80000/80000 [==============================] - 1s 11us/step - loss: 798736.7793 - acc: 6.3750e-04 - val_loss: 604017.1884 - val_acc: 3.0000e-04\n",
      "Epoch 72/120\n",
      "80000/80000 [==============================] - 1s 11us/step - loss: 803854.0353 - acc: 7.5000e-04 - val_loss: 273938.9463 - val_acc: 0.0012\n",
      "Epoch 73/120\n",
      "80000/80000 [==============================] - 1s 11us/step - loss: 802331.0154 - acc: 7.6250e-04 - val_loss: 105865.0816 - val_acc: 7.5000e-04\n",
      "Epoch 74/120\n",
      "80000/80000 [==============================] - 1s 10us/step - loss: 794036.8288 - acc: 5.8750e-04 - val_loss: 2406163.4380 - val_acc: 5.0000e-05\n",
      "Epoch 75/120\n",
      "80000/80000 [==============================] - 1s 10us/step - loss: 809848.0217 - acc: 4.6250e-04 - val_loss: 135863.4115 - val_acc: 0.0011\n",
      "Epoch 76/120\n",
      "80000/80000 [==============================] - 1s 11us/step - loss: 794114.5095 - acc: 5.6250e-04 - val_loss: 44724.6872 - val_acc: 0.0010\n",
      "Epoch 77/120\n",
      "80000/80000 [==============================] - 1s 11us/step - loss: 793133.7819 - acc: 7.0000e-04 - val_loss: 64134.7121 - val_acc: 0.0012\n",
      "Epoch 78/120\n",
      "80000/80000 [==============================] - 1s 11us/step - loss: 792130.2688 - acc: 7.3750e-04 - val_loss: 267335.0601 - val_acc: 7.5000e-04\n",
      "Epoch 79/120\n",
      "80000/80000 [==============================] - 1s 10us/step - loss: 808729.9419 - acc: 6.8750e-04 - val_loss: 358358.3468 - val_acc: 6.0000e-04\n",
      "Epoch 80/120\n",
      "80000/80000 [==============================] - 1s 11us/step - loss: 789546.0033 - acc: 6.0000e-04 - val_loss: 604504.6524 - val_acc: 5.5000e-04\n",
      "Epoch 81/120\n",
      "80000/80000 [==============================] - 1s 10us/step - loss: 797722.0527 - acc: 7.7500e-04 - val_loss: 509107.3810 - val_acc: 4.5000e-04\n",
      "Epoch 82/120\n",
      "80000/80000 [==============================] - 1s 11us/step - loss: 809868.6537 - acc: 5.7500e-04 - val_loss: 193922.4233 - val_acc: 0.0011\n",
      "Epoch 83/120\n",
      "80000/80000 [==============================] - 1s 11us/step - loss: 805263.1621 - acc: 6.2500e-04 - val_loss: 456445.0843 - val_acc: 6.0000e-04\n",
      "Epoch 84/120\n",
      "80000/80000 [==============================] - 1s 12us/step - loss: 800248.5089 - acc: 7.5000e-04 - val_loss: 550040.7330 - val_acc: 0.0010\n",
      "Epoch 85/120\n",
      "80000/80000 [==============================] - 1s 11us/step - loss: 794104.3016 - acc: 6.6250e-04 - val_loss: 543983.9810 - val_acc: 5.5000e-04\n",
      "Epoch 86/120\n",
      "80000/80000 [==============================] - 1s 11us/step - loss: 802117.4742 - acc: 8.2500e-04 - val_loss: 82456.6706 - val_acc: 0.0012\n",
      "Epoch 87/120\n",
      "80000/80000 [==============================] - 1s 10us/step - loss: 792808.7813 - acc: 6.3750e-04 - val_loss: 2038895.2180 - val_acc: 5.0000e-05\n",
      "Epoch 88/120\n",
      "80000/80000 [==============================] - 1s 11us/step - loss: 796967.6956 - acc: 7.3750e-04 - val_loss: 851775.4864 - val_acc: 4.5000e-04\n",
      "Epoch 89/120\n",
      "80000/80000 [==============================] - 1s 11us/step - loss: 795761.2676 - acc: 6.6250e-04 - val_loss: 725181.6568 - val_acc: 8.5000e-04\n",
      "Epoch 90/120\n",
      "80000/80000 [==============================] - 1s 11us/step - loss: 799356.5496 - acc: 6.8750e-04 - val_loss: 1273233.3926 - val_acc: 5.0000e-04\n",
      "Epoch 91/120\n",
      "80000/80000 [==============================] - 1s 11us/step - loss: 801498.1875 - acc: 8.0000e-04 - val_loss: 573376.2366 - val_acc: 4.0000e-04\n",
      "Epoch 92/120\n",
      "80000/80000 [==============================] - 1s 10us/step - loss: 802594.8017 - acc: 6.8750e-04 - val_loss: 1079830.0449 - val_acc: 6.0000e-04\n",
      "Epoch 93/120\n",
      "80000/80000 [==============================] - 1s 10us/step - loss: 805044.5999 - acc: 6.3750e-04 - val_loss: 551281.0143 - val_acc: 3.0000e-04\n",
      "Epoch 94/120\n",
      "80000/80000 [==============================] - 1s 11us/step - loss: 801465.4955 - acc: 4.8750e-04 - val_loss: 468911.5580 - val_acc: 8.0000e-04\n",
      "Epoch 95/120\n",
      "80000/80000 [==============================] - 1s 10us/step - loss: 805833.7366 - acc: 6.0000e-04 - val_loss: 968105.8510 - val_acc: 1.5000e-04\n",
      "Epoch 96/120\n",
      "80000/80000 [==============================] - 1s 12us/step - loss: 797513.6394 - acc: 4.6250e-04 - val_loss: 364994.1852 - val_acc: 7.0000e-04\n",
      "Epoch 97/120\n",
      "80000/80000 [==============================] - 1s 11us/step - loss: 795398.7947 - acc: 6.5000e-04 - val_loss: 467935.0037 - val_acc: 7.0000e-04\n",
      "Epoch 98/120\n",
      "80000/80000 [==============================] - 1s 13us/step - loss: 792466.3002 - acc: 6.2500e-04 - val_loss: 875360.2300 - val_acc: 2.0000e-04\n",
      "Epoch 99/120\n",
      "80000/80000 [==============================] - 1s 12us/step - loss: 804008.5248 - acc: 5.6250e-04 - val_loss: 146806.9159 - val_acc: 8.5000e-04\n",
      "Epoch 100/120\n",
      "80000/80000 [==============================] - 1s 11us/step - loss: 806515.2578 - acc: 6.6250e-04 - val_loss: 1091981.8032 - val_acc: 1.0000e-04\n",
      "Epoch 101/120\n",
      "80000/80000 [==============================] - 1s 10us/step - loss: 805386.7893 - acc: 7.1250e-04 - val_loss: 50496.6696 - val_acc: 0.0014\n",
      "Epoch 102/120\n",
      "80000/80000 [==============================] - 1s 11us/step - loss: 801507.5961 - acc: 6.2500e-04 - val_loss: 902446.4020 - val_acc: 2.0000e-04\n",
      "Epoch 103/120\n",
      "80000/80000 [==============================] - 1s 11us/step - loss: 798534.9623 - acc: 4.0000e-04 - val_loss: 1260121.0348 - val_acc: 5.5000e-04\n",
      "Epoch 104/120\n",
      "80000/80000 [==============================] - 1s 12us/step - loss: 800517.6225 - acc: 5.8750e-04 - val_loss: 1608109.8232 - val_acc: 1.0000e-04\n",
      "Epoch 105/120\n"
     ]
    },
    {
     "name": "stdout",
     "output_type": "stream",
     "text": [
      "80000/80000 [==============================] - 1s 11us/step - loss: 796776.4210 - acc: 8.1250e-04 - val_loss: 2604540.6016 - val_acc: 5.0000e-05\n",
      "Epoch 106/120\n",
      "80000/80000 [==============================] - 1s 11us/step - loss: 808862.4151 - acc: 5.3750e-04 - val_loss: 42414.2667 - val_acc: 0.0019\n",
      "Epoch 107/120\n",
      "80000/80000 [==============================] - 1s 11us/step - loss: 795105.5116 - acc: 5.7500e-04 - val_loss: 350558.1299 - val_acc: 6.5000e-04\n",
      "Epoch 108/120\n",
      "80000/80000 [==============================] - 1s 11us/step - loss: 798398.0369 - acc: 5.8750e-04 - val_loss: 709862.8768 - val_acc: 3.5000e-04\n",
      "Epoch 109/120\n",
      "80000/80000 [==============================] - 1s 11us/step - loss: 796605.6882 - acc: 9.1250e-04 - val_loss: 81466.3468 - val_acc: 0.0014\n",
      "Epoch 110/120\n",
      "80000/80000 [==============================] - 1s 10us/step - loss: 795932.3791 - acc: 5.3750e-04 - val_loss: 1452340.9096 - val_acc: 2.5000e-04\n",
      "Epoch 111/120\n",
      "80000/80000 [==============================] - 1s 11us/step - loss: 804132.6114 - acc: 5.7500e-04 - val_loss: 1129815.6264 - val_acc: 4.0000e-04\n",
      "Epoch 112/120\n",
      "80000/80000 [==============================] - 1s 10us/step - loss: 802256.1236 - acc: 7.5000e-04 - val_loss: 2796112.3424 - val_acc: 6.0000e-04\n",
      "Epoch 113/120\n",
      "80000/80000 [==============================] - 1s 12us/step - loss: 810239.1267 - acc: 4.6250e-04 - val_loss: 715600.4407 - val_acc: 5.0000e-04\n",
      "Epoch 114/120\n",
      "80000/80000 [==============================] - 1s 11us/step - loss: 801059.4979 - acc: 4.7500e-04 - val_loss: 1416493.7152 - val_acc: 3.5000e-04\n",
      "Epoch 115/120\n",
      "80000/80000 [==============================] - 1s 11us/step - loss: 799997.9853 - acc: 6.2500e-04 - val_loss: 575736.2059 - val_acc: 6.5000e-04\n",
      "Epoch 116/120\n",
      "80000/80000 [==============================] - 1s 12us/step - loss: 801066.3522 - acc: 5.8750e-04 - val_loss: 709107.0771 - val_acc: 4.5000e-04\n",
      "Epoch 117/120\n",
      "80000/80000 [==============================] - 1s 12us/step - loss: 806541.5997 - acc: 8.1250e-04 - val_loss: 330033.6263 - val_acc: 7.0000e-04\n",
      "Epoch 118/120\n",
      "80000/80000 [==============================] - 1s 11us/step - loss: 802368.7769 - acc: 7.5000e-04 - val_loss: 341104.9410 - val_acc: 5.0000e-04\n",
      "Epoch 119/120\n",
      "80000/80000 [==============================] - 1s 11us/step - loss: 799536.4115 - acc: 6.5000e-04 - val_loss: 189229.1669 - val_acc: 9.0000e-04\n",
      "Epoch 120/120\n",
      "80000/80000 [==============================] - 1s 11us/step - loss: 801937.5230 - acc: 5.1250e-04 - val_loss: 383646.7841 - val_acc: 8.0000e-04\n"
     ]
    },
    {
     "data": {
      "text/plain": [
       "<keras.callbacks.History at 0x7f7cd815de10>"
      ]
     },
     "execution_count": 39,
     "metadata": {},
     "output_type": "execute_result"
    }
   ],
   "source": [
    "model.fit(x, y, batch_size=batch_size, callbacks=callbacks, epochs=epochs, verbose=1, validation_data=(x_val, y_val))"
   ]
  },
  {
   "cell_type": "code",
   "execution_count": 40,
   "metadata": {},
   "outputs": [],
   "source": [
    "score = model.evaluate(x_val, y_val, verbose=0)"
   ]
  },
  {
   "cell_type": "code",
   "execution_count": 41,
   "metadata": {},
   "outputs": [
    {
     "name": "stdout",
     "output_type": "stream",
     "text": [
      "Test loss: 383646.78595\n"
     ]
    }
   ],
   "source": [
    "print('Test loss:', score[0])"
   ]
  },
  {
   "cell_type": "code",
   "execution_count": 42,
   "metadata": {},
   "outputs": [
    {
     "name": "stdout",
     "output_type": "stream",
     "text": [
      "Test accuracy: 0.0008\n"
     ]
    }
   ],
   "source": [
    "print('Test accuracy:', score[1])"
   ]
  },
  {
   "cell_type": "code",
   "execution_count": 43,
   "metadata": {},
   "outputs": [
    {
     "name": "stdout",
     "output_type": "stream",
     "text": [
      "[[211.01057]\n",
      " [220.68555]\n",
      " [214.1012 ]\n",
      " [214.1012 ]\n",
      " [211.9512 ]]\n"
     ]
    }
   ],
   "source": [
    "print(model.predict(np.array([np.random.randint(10,100) for _ in range(5)])))"
   ]
  },
  {
   "cell_type": "code",
   "execution_count": 44,
   "metadata": {},
   "outputs": [],
   "source": [
    "model.save_weights('travel-price.hdf5')"
   ]
  },
  {
   "cell_type": "code",
   "execution_count": 45,
   "metadata": {},
   "outputs": [],
   "source": [
    "with open('travel-price.json','w') as f:\n",
    "    f.write(model.to_json())\n",
    "    f.close()"
   ]
  }
 ],
 "metadata": {
  "kernelspec": {
   "display_name": "Python 3",
   "language": "python",
   "name": "python3"
  },
  "language_info": {
   "codemirror_mode": {
    "name": "ipython",
    "version": 3
   },
   "file_extension": ".py",
   "mimetype": "text/x-python",
   "name": "python",
   "nbconvert_exporter": "python",
   "pygments_lexer": "ipython3",
   "version": "3.6.4"
  }
 },
 "nbformat": 4,
 "nbformat_minor": 2
}
