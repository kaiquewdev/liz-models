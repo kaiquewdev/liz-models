{
 "cells": [
  {
   "cell_type": "code",
   "execution_count": 1,
   "metadata": {},
   "outputs": [],
   "source": [
    "from IPython.display import display, Markdown"
   ]
  },
  {
   "cell_type": "code",
   "execution_count": 2,
   "metadata": {},
   "outputs": [],
   "source": [
    "content = ''"
   ]
  },
  {
   "cell_type": "code",
   "execution_count": 3,
   "metadata": {},
   "outputs": [],
   "source": [
    "with open('./distance-prediction-api-article.md') as f:\n",
    "    content = f.read()\n",
    "    f.close()"
   ]
  },
  {
   "cell_type": "code",
   "execution_count": 4,
   "metadata": {},
   "outputs": [
    {
     "data": {
      "text/markdown": [
       "# Distance prediction API\n",
       "\n",
       "## Introduction\n",
       "\n",
       "The API was made by a composition of works involving,\n",
       "Software Engineering, Data Science and Deep Learning\n",
       "techiniques to reach a small but conciselly peace of\n",
       "computation software. We have a problem to travel in\n",
       "a way who we can calculate the price of the distance\n",
       "achieved by a car or a person, both can be better to.\n",
       "\n",
       "This work is for a small set of definiton with a dis-\n",
       "tance and weight we can calculate the price base on a\n",
       "multiplication of both field values and made a division\n",
       "by a hundred merge of the two fields.\n",
       "\n",
       "A small expression have a need to confirm this knowledge\n",
       "in a large scale definition by logic proof using a tool \n",
       "called Tensorflow or Theano based just on the high-level\n",
       "API work named as Keras. That framework for Deep Learning,\n",
       "can reproduce the content a lot of times not just based on\n",
       "the proportion of the content growth, but using the amount\n",
       "of data proportion and definition of the problem set.\n",
       "\n",
       "So we can start by the whole content who can be used on the\n",
       "model and API construction. \n",
       "\n",
       "## Sample input generation\n",
       "\n",
       "[[CONTENT]]\n",
       "\n",
       "## Definition\n",
       "\n",
       "[[CONTENT]]\n",
       "\n",
       "## Compilation\n",
       "\n",
       "[[CONTENT]]\n",
       "\n",
       "## Accuracy & Prediction\n",
       "\n",
       "[[CONTENT]]\n",
       "\n",
       "## Analysis of the problem\n",
       "\n",
       "[[CONTENT]]\n",
       "\n",
       "## Inherit the work\n",
       "\n",
       "[[CONTENT]]\n",
       "\n",
       "## Scaling the solution\n",
       "\n",
       "[[CONTENT]]\n",
       "\n",
       "## Deploying a solution\n",
       "\n",
       "[[CONTENT]]\n",
       "\n",
       "## Point of fact (Real world case of usage)\n",
       "\n",
       "[[CONTENT]]"
      ],
      "text/plain": [
       "<IPython.core.display.Markdown object>"
      ]
     },
     "metadata": {},
     "output_type": "display_data"
    }
   ],
   "source": [
    "display(Markdown(content))"
   ]
  },
  {
   "cell_type": "code",
   "execution_count": null,
   "metadata": {},
   "outputs": [],
   "source": []
  }
 ],
 "metadata": {
  "kernelspec": {
   "display_name": "Python 3",
   "language": "python",
   "name": "python3"
  },
  "language_info": {
   "codemirror_mode": {
    "name": "ipython",
    "version": 3
   },
   "file_extension": ".py",
   "mimetype": "text/x-python",
   "name": "python",
   "nbconvert_exporter": "python",
   "pygments_lexer": "ipython3",
   "version": "3.6.3"
  }
 },
 "nbformat": 4,
 "nbformat_minor": 2
}
