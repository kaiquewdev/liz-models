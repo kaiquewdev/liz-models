{
 "cells": [
  {
   "cell_type": "code",
   "execution_count": 1,
   "metadata": {},
   "outputs": [],
   "source": [
    "from IPython.display import display, Markdown"
   ]
  },
  {
   "cell_type": "code",
   "execution_count": 2,
   "metadata": {},
   "outputs": [],
   "source": [
    "content = ''"
   ]
  },
  {
   "cell_type": "code",
   "execution_count": 3,
   "metadata": {},
   "outputs": [],
   "source": [
    "with open('./distance-prediction-api-article.md') as f:\n",
    "    content = f.read()\n",
    "    f.close()"
   ]
  },
  {
   "cell_type": "code",
   "execution_count": 4,
   "metadata": {},
   "outputs": [
    {
     "data": {
      "text/markdown": [
       "# Distance prediction API\n",
       "\n",
       "## Introduction\n",
       "\n",
       "The API was made by a composition of works involving,\n",
       "Software Engineering, Data Science and Deep Learning\n",
       "techiniques to reach a small but conciselly peace of\n",
       "computation software. We have a problem to travel in\n",
       "a way who we can calculate the price of the distance\n",
       "achieved by a car or a person, both can be better to.\n",
       "\n",
       "This work is for a small set of definiton with a dis-\n",
       "tance and weight we can calculate the price base on a\n",
       "multiplication of both field values and made a division\n",
       "by a hundred merge of the two fields.\n",
       "\n",
       "A small expression have a need to confirm this knowledge\n",
       "in a large scale definition by logic proof using a tool \n",
       "called Tensorflow or Theano based just on the high-level\n",
       "API work named as Keras. That framework for Deep Learning,\n",
       "can reproduce the content a lot of times not just based on\n",
       "the proportion of the content growth, but using the amount\n",
       "of data proportion and definition of the problem set.\n",
       "\n",
       "So we can start by the whole content who can be used on the\n",
       "model and API construction. \n",
       "\n",
       "## Sample input generation\n",
       "\n",
       "The initial generation was made by a 10000 samples for (weight*distance) and\n",
       "(calculated price) using random data based on a division by 100. This can reproduce\n",
       "a simple case for a highly stocked currency. Targeting some large distances and small\n",
       "distances based on profitable patterns. \n",
       "\n",
       "## Definition\n",
       "\n",
       "Based on a basic case of rmsprop optimizer to reproduce a linear regression case,\n",
       "for one dimensional sequential model with loss produced by a mean squared error with\n",
       "validation test case set fitting for a hundred epochs to without batch size defined explicitely.\n",
       "\n",
       "## Compilation\n",
       "\n",
       "It's used the rmsprop because of problem, who have a basic understanding of the data.\n",
       "To be more precisely we need a real case data extracted from some place without hyphotesis,\n",
       "with that conquered answer from a small construction of code.\n",
       "\n",
       "## Accuracy & Prediction\n",
       "\n",
       "That part is totally important for old hardware execute and train the model in a relevant\n",
       "momentum to act and use the saved model.\n",
       "\n",
       "## Analysis of the problem\n",
       "\n",
       "This model needed to be used in another kind of techinology because of the portability and\n",
       "advancement of the further extractions. For example, it is used on an distributed archtecture\n",
       "who be activated by a small program, socket api or rest api. That piece of model can be used\n",
       "without the original source code in a large scale scenario with a life-time defined or not.\n",
       "\n",
       "All can be visualized by process in different build pipelines a part, code coring is small than\n",
       "the other interation in the source code base at once.\n",
       "\n",
       "## Inherit the work\n",
       "\n",
       "The model interface need to be the same and this is needed without any kind of transpilation because\n",
       "of the API definition of Keras and Keras js implementation. Utilize with one thing in mind, this can\n",
       "become the another project a black boxed one this is good and hard to maintain if loss the buffer.\n",
       "\n",
       "Source code versioning like git-lfs can be deal with that nice and easy or using static storage systems,\n",
       "just depends on the way you we've gonna use their combination.\n",
       "\n",
       "## Scaling the solution\n",
       "\n",
       "For a good usage of that complete solution, separate into different projects with model (modularized is better), module-model implementation,\n",
       "app calling the module and serving the api. Remember of the usage of two different kinds of languages can be confused to manage without a good\n",
       "reason and some goals described and pointed to be have a large proof-of-concept or to become a fact.\n",
       "\n",
       "## Deploying a solution\n",
       "\n",
       "After all can be done you can just delivery the API stable without versioning increased for some parts this\n",
       "can reduce a lot the complexity presente by the challenge to delivery this kind of project and have a lot\n",
       "of gains in a fast way to become a native one.\n",
       "\n",
       "## Point of fact (Real world case of usage)\n",
       "\n",
       "Large systems and distributes parallel computing without to change the market all the way down."
      ],
      "text/plain": [
       "<IPython.core.display.Markdown object>"
      ]
     },
     "metadata": {},
     "output_type": "display_data"
    }
   ],
   "source": [
    "display(Markdown(content))"
   ]
  },
  {
   "cell_type": "code",
   "execution_count": 5,
   "metadata": {},
   "outputs": [],
   "source": [
    "with open('./api-usage.md') as f:\n",
    "    content = f.read()\n",
    "    f.close()"
   ]
  },
  {
   "cell_type": "code",
   "execution_count": 6,
   "metadata": {},
   "outputs": [
    {
     "data": {
      "text/markdown": [
       "\n",
       "\n",
       "```python\n",
       "import requests\n",
       "```\n",
       "\n",
       "\n",
       "```python\n",
       "distance = requests.post('https://liz-app-fqzmytzbae.now.sh/mtravels',{\"distance\":100})\n",
       "```\n",
       "\n",
       "\n",
       "```python\n",
       "distance\n",
       "```\n",
       "\n",
       "\n",
       "\n",
       "\n",
       "    <Response [201]>\n",
       "\n",
       "\n",
       "\n",
       "\n",
       "```python\n",
       "distance.json()\n",
       "```\n",
       "\n",
       "\n",
       "\n",
       "\n",
       "    {'distance': '100', 'id': 1, 'price': 204.10183715820312, 'qty': 1}\n",
       "\n",
       "\n"
      ],
      "text/plain": [
       "<IPython.core.display.Markdown object>"
      ]
     },
     "metadata": {},
     "output_type": "display_data"
    }
   ],
   "source": [
    "display(Markdown(content))"
   ]
  }
 ],
 "metadata": {
  "kernelspec": {
   "display_name": "Python 3",
   "language": "python",
   "name": "python3"
  },
  "language_info": {
   "codemirror_mode": {
    "name": "ipython",
    "version": 3
   },
   "file_extension": ".py",
   "mimetype": "text/x-python",
   "name": "python",
   "nbconvert_exporter": "python",
   "pygments_lexer": "ipython3",
   "version": "3.6.3"
  }
 },
 "nbformat": 4,
 "nbformat_minor": 2
}
