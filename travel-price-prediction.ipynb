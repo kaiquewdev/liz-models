{
 "cells": [
  {
   "cell_type": "code",
   "execution_count": 1,
   "metadata": {},
   "outputs": [],
   "source": [
    "import warnings; warnings.simplefilter('ignore')"
   ]
  },
  {
   "cell_type": "code",
   "execution_count": 2,
   "metadata": {},
   "outputs": [],
   "source": [
    "import pandas as pd"
   ]
  },
  {
   "cell_type": "code",
   "execution_count": 3,
   "metadata": {},
   "outputs": [],
   "source": [
    "import numpy as np"
   ]
  },
  {
   "cell_type": "code",
   "execution_count": 4,
   "metadata": {},
   "outputs": [
    {
     "name": "stderr",
     "output_type": "stream",
     "text": [
      "Using TensorFlow backend.\n"
     ]
    }
   ],
   "source": [
    "import keras"
   ]
  },
  {
   "cell_type": "code",
   "execution_count": 5,
   "metadata": {},
   "outputs": [],
   "source": [
    "from keras.models import Sequential"
   ]
  },
  {
   "cell_type": "code",
   "execution_count": 6,
   "metadata": {},
   "outputs": [],
   "source": [
    "from keras.layers import Dense"
   ]
  },
  {
   "cell_type": "code",
   "execution_count": 7,
   "metadata": {},
   "outputs": [],
   "source": [
    "from sklearn import model_selection"
   ]
  },
  {
   "cell_type": "code",
   "execution_count": 8,
   "metadata": {},
   "outputs": [],
   "source": [
    "df = pd.DataFrame()"
   ]
  },
  {
   "cell_type": "code",
   "execution_count": 9,
   "metadata": {},
   "outputs": [],
   "source": [
    "df['distances'] = np.array([np.random.randint(1,1000) for _ in range(10**5)])"
   ]
  },
  {
   "cell_type": "code",
   "execution_count": 10,
   "metadata": {},
   "outputs": [],
   "source": [
    "df['weights'] = np.array([np.random.randint(60,500) for _ in range(10**5)])"
   ]
  },
  {
   "cell_type": "code",
   "execution_count": 11,
   "metadata": {},
   "outputs": [
    {
     "data": {
      "text/plain": [
       "distances    100000\n",
       "weights      100000\n",
       "dtype: int64"
      ]
     },
     "execution_count": 11,
     "metadata": {},
     "output_type": "execute_result"
    }
   ],
   "source": [
    "df[['distances','weights']].count()"
   ]
  },
  {
   "cell_type": "code",
   "execution_count": 12,
   "metadata": {},
   "outputs": [],
   "source": [
    "df['prices'] = np.array([((df['distances'][i] * df['weights'][i])/100) for i in range(len(df['distances']))])"
   ]
  },
  {
   "cell_type": "code",
   "execution_count": 13,
   "metadata": {},
   "outputs": [
    {
     "data": {
      "text/html": [
       "<div>\n",
       "<style scoped>\n",
       "    .dataframe tbody tr th:only-of-type {\n",
       "        vertical-align: middle;\n",
       "    }\n",
       "\n",
       "    .dataframe tbody tr th {\n",
       "        vertical-align: top;\n",
       "    }\n",
       "\n",
       "    .dataframe thead th {\n",
       "        text-align: right;\n",
       "    }\n",
       "</style>\n",
       "<table border=\"1\" class=\"dataframe\">\n",
       "  <thead>\n",
       "    <tr style=\"text-align: right;\">\n",
       "      <th></th>\n",
       "      <th>distances</th>\n",
       "      <th>weights</th>\n",
       "      <th>prices</th>\n",
       "    </tr>\n",
       "  </thead>\n",
       "  <tbody>\n",
       "    <tr>\n",
       "      <th>0</th>\n",
       "      <td>489</td>\n",
       "      <td>252</td>\n",
       "      <td>1232.28</td>\n",
       "    </tr>\n",
       "    <tr>\n",
       "      <th>1</th>\n",
       "      <td>154</td>\n",
       "      <td>132</td>\n",
       "      <td>203.28</td>\n",
       "    </tr>\n",
       "    <tr>\n",
       "      <th>2</th>\n",
       "      <td>162</td>\n",
       "      <td>345</td>\n",
       "      <td>558.90</td>\n",
       "    </tr>\n",
       "    <tr>\n",
       "      <th>3</th>\n",
       "      <td>671</td>\n",
       "      <td>148</td>\n",
       "      <td>993.08</td>\n",
       "    </tr>\n",
       "    <tr>\n",
       "      <th>4</th>\n",
       "      <td>835</td>\n",
       "      <td>422</td>\n",
       "      <td>3523.70</td>\n",
       "    </tr>\n",
       "  </tbody>\n",
       "</table>\n",
       "</div>"
      ],
      "text/plain": [
       "   distances  weights   prices\n",
       "0        489      252  1232.28\n",
       "1        154      132   203.28\n",
       "2        162      345   558.90\n",
       "3        671      148   993.08\n",
       "4        835      422  3523.70"
      ]
     },
     "execution_count": 13,
     "metadata": {},
     "output_type": "execute_result"
    }
   ],
   "source": [
    "df.head()"
   ]
  },
  {
   "cell_type": "code",
   "execution_count": 14,
   "metadata": {},
   "outputs": [],
   "source": [
    "x, x_val, y, y_val = model_selection.train_test_split(df['prices'], df['distances'], test_size=0.2, random_state=42)"
   ]
  },
  {
   "cell_type": "code",
   "execution_count": 15,
   "metadata": {},
   "outputs": [],
   "source": [
    "dlce = lambda l: [v for v in l if v >= 0]"
   ]
  },
  {
   "cell_type": "code",
   "execution_count": 16,
   "metadata": {},
   "outputs": [],
   "source": [
    "x = np.array(dlce(x))\n",
    "x_val = np.array(dlce(x_val))"
   ]
  },
  {
   "cell_type": "code",
   "execution_count": 17,
   "metadata": {},
   "outputs": [],
   "source": [
    "y = np.array(dlce(y))\n",
    "y_val = np.array(dlce(y_val))"
   ]
  },
  {
   "cell_type": "code",
   "execution_count": 18,
   "metadata": {},
   "outputs": [
    {
     "name": "stdout",
     "output_type": "stream",
     "text": [
      "Train on 80000 samples, validate on 20000 samples\n",
      "Epoch 1/100\n",
      "80000/80000 [==============================] - 5s 65us/step - loss: 2093298.6973 - val_loss: 57060.6968\n",
      "Epoch 2/100\n",
      "80000/80000 [==============================] - 5s 67us/step - loss: 56502.5942 - val_loss: 56706.4559\n",
      "Epoch 3/100\n",
      "80000/80000 [==============================] - 5s 61us/step - loss: 56123.3697 - val_loss: 56328.9431\n",
      "Epoch 4/100\n",
      "80000/80000 [==============================] - 4s 54us/step - loss: 55753.6138 - val_loss: 55958.3051\n",
      "Epoch 5/100\n",
      "80000/80000 [==============================] - 5s 57us/step - loss: 55384.1974 - val_loss: 55700.0388\n",
      "Epoch 6/100\n",
      "80000/80000 [==============================] - 5s 64us/step - loss: 55030.7207 - val_loss: 55287.6200\n",
      "Epoch 7/100\n",
      "80000/80000 [==============================] - 4s 53us/step - loss: 54671.4790 - val_loss: 54860.3565\n",
      "Epoch 8/100\n",
      "80000/80000 [==============================] - 5s 68us/step - loss: 54307.1529 - val_loss: 54570.9491\n",
      "Epoch 9/100\n",
      "80000/80000 [==============================] - 5s 63us/step - loss: 53966.0556 - val_loss: 54160.2705\n",
      "Epoch 10/100\n",
      "80000/80000 [==============================] - 4s 54us/step - loss: 53615.7247 - val_loss: 53847.8109\n",
      "Epoch 11/100\n",
      "80000/80000 [==============================] - 4s 54us/step - loss: 53274.0700 - val_loss: 53486.3006\n",
      "Epoch 12/100\n",
      "80000/80000 [==============================] - 5s 59us/step - loss: 52938.7917 - val_loss: 53166.5348\n",
      "Epoch 13/100\n",
      "80000/80000 [==============================] - 4s 55us/step - loss: 52607.0631 - val_loss: 52819.9849\n",
      "Epoch 14/100\n",
      "80000/80000 [==============================] - 5s 63us/step - loss: 52287.7302 - val_loss: 52530.7409\n",
      "Epoch 15/100\n",
      "80000/80000 [==============================] - 6s 77us/step - loss: 51958.0115 - val_loss: 52199.8063\n",
      "Epoch 16/100\n",
      "80000/80000 [==============================] - 5s 63us/step - loss: 51637.5773 - val_loss: 51869.4388\n",
      "Epoch 17/100\n",
      "80000/80000 [==============================] - 5s 62us/step - loss: 51330.6559 - val_loss: 51547.0749\n",
      "Epoch 18/100\n",
      "80000/80000 [==============================] - 5s 65us/step - loss: 51019.7954 - val_loss: 51248.7086\n",
      "Epoch 19/100\n",
      "80000/80000 [==============================] - 6s 76us/step - loss: 50711.1781 - val_loss: 50947.5812\n",
      "Epoch 20/100\n",
      "80000/80000 [==============================] - 5s 60us/step - loss: 50400.1600 - val_loss: 50651.4656\n",
      "Epoch 21/100\n",
      "80000/80000 [==============================] - 5s 59us/step - loss: 50114.2238 - val_loss: 50344.3683\n",
      "Epoch 22/100\n",
      "80000/80000 [==============================] - 5s 61us/step - loss: 49817.8928 - val_loss: 50069.8459\n",
      "Epoch 23/100\n",
      "80000/80000 [==============================] - 5s 58us/step - loss: 49524.9872 - val_loss: 49783.3014\n",
      "Epoch 24/100\n",
      "80000/80000 [==============================] - 4s 56us/step - loss: 49243.4805 - val_loss: 49494.3494\n",
      "Epoch 25/100\n",
      "80000/80000 [==============================] - 5s 58us/step - loss: 48960.7332 - val_loss: 49242.1664\n",
      "Epoch 26/100\n",
      "80000/80000 [==============================] - 5s 58us/step - loss: 48677.0278 - val_loss: 49074.3847\n",
      "Epoch 27/100\n",
      "80000/80000 [==============================] - 4s 53us/step - loss: 48412.2470 - val_loss: 48669.9469\n",
      "Epoch 28/100\n",
      "80000/80000 [==============================] - 5s 67us/step - loss: 48138.2197 - val_loss: 48449.0736\n",
      "Epoch 29/100\n",
      "80000/80000 [==============================] - 4s 53us/step - loss: 47865.2692 - val_loss: 48139.4099\n",
      "Epoch 30/100\n",
      "80000/80000 [==============================] - 5s 62us/step - loss: 47618.8600 - val_loss: 47888.3372\n",
      "Epoch 31/100\n",
      "80000/80000 [==============================] - 4s 53us/step - loss: 47363.4261 - val_loss: 47646.1369\n",
      "Epoch 32/100\n",
      "80000/80000 [==============================] - 4s 55us/step - loss: 47106.2907 - val_loss: 47433.9203\n",
      "Epoch 33/100\n",
      "80000/80000 [==============================] - 4s 55us/step - loss: 46865.3300 - val_loss: 47184.8330\n",
      "Epoch 34/100\n",
      "80000/80000 [==============================] - 4s 54us/step - loss: 46630.7515 - val_loss: 46903.6774\n",
      "Epoch 35/100\n",
      "80000/80000 [==============================] - 5s 63us/step - loss: 46387.9179 - val_loss: 46709.8451\n",
      "Epoch 36/100\n",
      "80000/80000 [==============================] - 5s 62us/step - loss: 46142.5153 - val_loss: 46458.9103\n",
      "Epoch 37/100\n",
      "80000/80000 [==============================] - 5s 64us/step - loss: 45921.6647 - val_loss: 46276.1459\n",
      "Epoch 38/100\n",
      "80000/80000 [==============================] - 5s 62us/step - loss: 45695.3951 - val_loss: 45983.9020\n",
      "Epoch 39/100\n",
      "80000/80000 [==============================] - 5s 58us/step - loss: 45475.8614 - val_loss: 45828.4901\n",
      "Epoch 40/100\n",
      "80000/80000 [==============================] - 5s 66us/step - loss: 45248.6699 - val_loss: 45627.5293\n",
      "Epoch 41/100\n",
      "80000/80000 [==============================] - 5s 57us/step - loss: 45040.8659 - val_loss: 45508.7968\n",
      "Epoch 42/100\n",
      "80000/80000 [==============================] - 5s 60us/step - loss: 44835.5840 - val_loss: 45207.8294\n",
      "Epoch 43/100\n",
      "80000/80000 [==============================] - 5s 56us/step - loss: 44632.5257 - val_loss: 44943.6730\n",
      "Epoch 44/100\n",
      "80000/80000 [==============================] - 6s 79us/step - loss: 44432.9772 - val_loss: 44737.0739\n",
      "Epoch 45/100\n",
      "80000/80000 [==============================] - 5s 62us/step - loss: 44234.9946 - val_loss: 44603.2554\n",
      "Epoch 46/100\n",
      "80000/80000 [==============================] - 4s 54us/step - loss: 44036.5569 - val_loss: 44365.9052\n",
      "Epoch 47/100\n",
      "80000/80000 [==============================] - 4s 47us/step - loss: 43845.8501 - val_loss: 44357.5709\n",
      "Epoch 48/100\n",
      "80000/80000 [==============================] - 4s 48us/step - loss: 43660.1191 - val_loss: 44011.4843\n",
      "Epoch 49/100\n",
      "80000/80000 [==============================] - 5s 58us/step - loss: 43476.0651 - val_loss: 43827.7051\n",
      "Epoch 50/100\n",
      "80000/80000 [==============================] - 4s 55us/step - loss: 43296.1095 - val_loss: 43640.8498\n",
      "Epoch 51/100\n",
      "80000/80000 [==============================] - 4s 52us/step - loss: 43117.2642 - val_loss: 43457.3859\n",
      "Epoch 52/100\n",
      "80000/80000 [==============================] - 4s 52us/step - loss: 42949.5999 - val_loss: 43371.2756\n",
      "Epoch 53/100\n",
      "80000/80000 [==============================] - 5s 56us/step - loss: 42785.5079 - val_loss: 43214.7957\n",
      "Epoch 54/100\n",
      "80000/80000 [==============================] - 4s 55us/step - loss: 42620.7479 - val_loss: 42976.9493\n",
      "Epoch 55/100\n",
      "80000/80000 [==============================] - 4s 49us/step - loss: 42462.2509 - val_loss: 42806.4473\n",
      "Epoch 56/100\n",
      "80000/80000 [==============================] - 5s 64us/step - loss: 42312.2818 - val_loss: 42685.9168\n",
      "Epoch 57/100\n",
      "80000/80000 [==============================] - 4s 49us/step - loss: 42158.9242 - val_loss: 42569.8159\n",
      "Epoch 58/100\n",
      "80000/80000 [==============================] - 4s 55us/step - loss: 42018.7128 - val_loss: 42395.8846\n",
      "Epoch 59/100\n",
      "80000/80000 [==============================] - 4s 48us/step - loss: 41868.8572 - val_loss: 42220.8703\n",
      "Epoch 60/100\n",
      "80000/80000 [==============================] - 4s 51us/step - loss: 41733.4538 - val_loss: 42243.4760\n",
      "Epoch 61/100\n",
      "80000/80000 [==============================] - 4s 51us/step - loss: 41597.7714 - val_loss: 41972.0536\n",
      "Epoch 62/100\n",
      "80000/80000 [==============================] - 4s 51us/step - loss: 41463.4750 - val_loss: 41818.2183\n",
      "Epoch 63/100\n",
      "80000/80000 [==============================] - 4s 47us/step - loss: 41327.4278 - val_loss: 41701.4701\n",
      "Epoch 64/100\n",
      "80000/80000 [==============================] - 4s 49us/step - loss: 41202.3761 - val_loss: 41584.2809\n",
      "Epoch 65/100\n",
      "80000/80000 [==============================] - 4s 46us/step - loss: 41082.7931 - val_loss: 41467.2635\n",
      "Epoch 66/100\n",
      "80000/80000 [==============================] - 4s 44us/step - loss: 40960.2272 - val_loss: 41400.1926\n",
      "Epoch 67/100\n",
      "80000/80000 [==============================] - 4s 52us/step - loss: 40845.3398 - val_loss: 41260.1063\n",
      "Epoch 68/100\n",
      "80000/80000 [==============================] - 4s 47us/step - loss: 40730.4400 - val_loss: 41101.4025\n",
      "Epoch 69/100\n",
      "80000/80000 [==============================] - 4s 49us/step - loss: 40619.4496 - val_loss: 41020.7283\n",
      "Epoch 70/100\n",
      "80000/80000 [==============================] - 5s 61us/step - loss: 40515.9824 - val_loss: 40891.3080\n",
      "Epoch 71/100\n",
      "80000/80000 [==============================] - 4s 54us/step - loss: 40403.9404 - val_loss: 40912.8916\n"
     ]
    },
    {
     "name": "stdout",
     "output_type": "stream",
     "text": [
      "Epoch 72/100\n",
      "80000/80000 [==============================] - 4s 48us/step - loss: 40306.1291 - val_loss: 40691.4351\n",
      "Epoch 73/100\n",
      "80000/80000 [==============================] - 4s 51us/step - loss: 40203.8049 - val_loss: 40677.3339\n",
      "Epoch 74/100\n",
      "80000/80000 [==============================] - 4s 53us/step - loss: 40110.0988 - val_loss: 40599.5058\n",
      "Epoch 75/100\n",
      "80000/80000 [==============================] - 4s 46us/step - loss: 40016.2898 - val_loss: 40483.1955\n",
      "Epoch 76/100\n",
      "80000/80000 [==============================] - 4s 54us/step - loss: 39923.6555 - val_loss: 40325.9814\n",
      "Epoch 77/100\n",
      "80000/80000 [==============================] - 5s 56us/step - loss: 39849.1275 - val_loss: 40254.9186\n",
      "Epoch 78/100\n",
      "80000/80000 [==============================] - 4s 52us/step - loss: 39759.2958 - val_loss: 40220.1239\n",
      "Epoch 79/100\n",
      "80000/80000 [==============================] - 4s 51us/step - loss: 39685.3658 - val_loss: 40079.4062\n",
      "Epoch 80/100\n",
      "80000/80000 [==============================] - 4s 51us/step - loss: 39602.6495 - val_loss: 40007.2803\n",
      "Epoch 81/100\n",
      "80000/80000 [==============================] - 4s 50us/step - loss: 39528.1605 - val_loss: 39988.7383\n",
      "Epoch 82/100\n",
      "80000/80000 [==============================] - 4s 55us/step - loss: 39453.2497 - val_loss: 39877.4381\n",
      "Epoch 83/100\n",
      "80000/80000 [==============================] - 4s 53us/step - loss: 39383.3008 - val_loss: 39919.3431\n",
      "Epoch 84/100\n",
      "80000/80000 [==============================] - 4s 45us/step - loss: 39316.4747 - val_loss: 39751.8391\n",
      "Epoch 85/100\n",
      "80000/80000 [==============================] - 4s 54us/step - loss: 39249.4789 - val_loss: 39715.2794\n",
      "Epoch 86/100\n",
      "80000/80000 [==============================] - 4s 51us/step - loss: 39188.4091 - val_loss: 39616.3065\n",
      "Epoch 87/100\n",
      "80000/80000 [==============================] - 4s 47us/step - loss: 39131.6320 - val_loss: 39549.8830\n",
      "Epoch 88/100\n",
      "80000/80000 [==============================] - 4s 47us/step - loss: 39069.7933 - val_loss: 39490.5316\n",
      "Epoch 89/100\n",
      "80000/80000 [==============================] - 4s 53us/step - loss: 39014.3687 - val_loss: 39481.3818\n",
      "Epoch 90/100\n",
      "80000/80000 [==============================] - 4s 47us/step - loss: 38960.8551 - val_loss: 39390.2980\n",
      "Epoch 91/100\n",
      "80000/80000 [==============================] - 4s 49us/step - loss: 38909.8009 - val_loss: 39397.6134\n",
      "Epoch 92/100\n",
      "80000/80000 [==============================] - 4s 47us/step - loss: 38864.6404 - val_loss: 39377.9239\n",
      "Epoch 93/100\n",
      "80000/80000 [==============================] - 4s 47us/step - loss: 38810.3630 - val_loss: 39242.2542\n",
      "Epoch 94/100\n",
      "80000/80000 [==============================] - 4s 48us/step - loss: 38761.3197 - val_loss: 39202.0834\n",
      "Epoch 95/100\n",
      "80000/80000 [==============================] - 5s 57us/step - loss: 38728.2271 - val_loss: 39202.4432\n",
      "Epoch 96/100\n",
      "80000/80000 [==============================] - 4s 53us/step - loss: 38681.1216 - val_loss: 39159.7830\n",
      "Epoch 97/100\n",
      "80000/80000 [==============================] - 4s 51us/step - loss: 38637.9813 - val_loss: 39073.3113\n",
      "Epoch 98/100\n",
      "80000/80000 [==============================] - 4s 52us/step - loss: 38596.7978 - val_loss: 39036.6927\n",
      "Epoch 99/100\n",
      "80000/80000 [==============================] - 4s 52us/step - loss: 38561.8593 - val_loss: 38992.2110\n",
      "Epoch 100/100\n",
      "80000/80000 [==============================] - 4s 50us/step - loss: 38520.8001 - val_loss: 39015.0681\n"
     ]
    },
    {
     "data": {
      "text/plain": [
       "<keras.callbacks.History at 0x7fe32e5eb8d0>"
      ]
     },
     "execution_count": 18,
     "metadata": {},
     "output_type": "execute_result"
    }
   ],
   "source": [
    "model = Sequential()\n",
    "model.add(Dense(1, input_dim=1))\n",
    "model.compile(optimizer='rmsprop', loss='mse')\n",
    "model.fit(x, y, epochs=100, validation_data=(x_val, y_val))"
   ]
  },
  {
   "cell_type": "code",
   "execution_count": 19,
   "metadata": {},
   "outputs": [
    {
     "name": "stdout",
     "output_type": "stream",
     "text": [
      "[[ 186.06059265]\n",
      " [ 190.6809082 ]\n",
      " [ 188.70077515]\n",
      " [ 186.94064331]\n",
      " [ 190.6809082 ]]\n"
     ]
    }
   ],
   "source": [
    "print(model.predict(np.array([np.random.randint(10,100) for _ in range(5)])))"
   ]
  },
  {
   "cell_type": "code",
   "execution_count": 20,
   "metadata": {},
   "outputs": [],
   "source": [
    "model.save_weights('travel-price.hdf5')"
   ]
  },
  {
   "cell_type": "code",
   "execution_count": 21,
   "metadata": {},
   "outputs": [],
   "source": [
    "with open('travel-price.json','w') as f:\n",
    "    f.write(model.to_json())\n",
    "    f.close()"
   ]
  }
 ],
 "metadata": {
  "kernelspec": {
   "display_name": "Python 3",
   "language": "python",
   "name": "python3"
  },
  "language_info": {
   "codemirror_mode": {
    "name": "ipython",
    "version": 3
   },
   "file_extension": ".py",
   "mimetype": "text/x-python",
   "name": "python",
   "nbconvert_exporter": "python",
   "pygments_lexer": "ipython3",
   "version": "3.6.3"
  }
 },
 "nbformat": 4,
 "nbformat_minor": 2
}
