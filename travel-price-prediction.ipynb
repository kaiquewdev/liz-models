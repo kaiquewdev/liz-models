{
 "cells": [
  {
   "cell_type": "code",
   "execution_count": 1,
   "metadata": {},
   "outputs": [],
   "source": [
    "import warnings; warnings.simplefilter('ignore')"
   ]
  },
  {
   "cell_type": "code",
   "execution_count": 2,
   "metadata": {},
   "outputs": [],
   "source": [
    "import pandas as pd"
   ]
  },
  {
   "cell_type": "code",
   "execution_count": 3,
   "metadata": {},
   "outputs": [],
   "source": [
    "import numpy as np"
   ]
  },
  {
   "cell_type": "code",
   "execution_count": 4,
   "metadata": {},
   "outputs": [
    {
     "name": "stderr",
     "output_type": "stream",
     "text": [
      "Using TensorFlow backend.\n"
     ]
    }
   ],
   "source": [
    "import keras"
   ]
  },
  {
   "cell_type": "code",
   "execution_count": 5,
   "metadata": {},
   "outputs": [],
   "source": [
    "from keras.models import Sequential"
   ]
  },
  {
   "cell_type": "code",
   "execution_count": 6,
   "metadata": {},
   "outputs": [],
   "source": [
    "from keras.layers import Dense"
   ]
  },
  {
   "cell_type": "code",
   "execution_count": 7,
   "metadata": {},
   "outputs": [],
   "source": [
    "from sklearn import datasets"
   ]
  },
  {
   "cell_type": "code",
   "execution_count": 8,
   "metadata": {},
   "outputs": [],
   "source": [
    "from sklearn import model_selection"
   ]
  },
  {
   "cell_type": "code",
   "execution_count": 9,
   "metadata": {},
   "outputs": [],
   "source": [
    "df = pd.DataFrame()"
   ]
  },
  {
   "cell_type": "code",
   "execution_count": 10,
   "metadata": {},
   "outputs": [],
   "source": [
    "df['distances'] = np.array([np.random.randint(1,500) for _ in range(10**4)])"
   ]
  },
  {
   "cell_type": "code",
   "execution_count": 11,
   "metadata": {},
   "outputs": [],
   "source": [
    "df['weights'] = np.array([np.random.randint(1,500) for _ in range(10**4)])"
   ]
  },
  {
   "cell_type": "code",
   "execution_count": 12,
   "metadata": {},
   "outputs": [
    {
     "data": {
      "text/plain": [
       "distances    10000\n",
       "weights      10000\n",
       "dtype: int64"
      ]
     },
     "execution_count": 12,
     "metadata": {},
     "output_type": "execute_result"
    }
   ],
   "source": [
    "df[['distances','weights']].count()"
   ]
  },
  {
   "cell_type": "code",
   "execution_count": 13,
   "metadata": {},
   "outputs": [],
   "source": [
    "df['prices'] = np.array([((df['distances'][i] * df['weights'][i])/100) for i in range(len(df['distances']))])"
   ]
  },
  {
   "cell_type": "code",
   "execution_count": 14,
   "metadata": {},
   "outputs": [
    {
     "data": {
      "text/html": [
       "<div>\n",
       "<style>\n",
       "    .dataframe thead tr:only-child th {\n",
       "        text-align: right;\n",
       "    }\n",
       "\n",
       "    .dataframe thead th {\n",
       "        text-align: left;\n",
       "    }\n",
       "\n",
       "    .dataframe tbody tr th {\n",
       "        vertical-align: top;\n",
       "    }\n",
       "</style>\n",
       "<table border=\"1\" class=\"dataframe\">\n",
       "  <thead>\n",
       "    <tr style=\"text-align: right;\">\n",
       "      <th></th>\n",
       "      <th>distances</th>\n",
       "      <th>weights</th>\n",
       "      <th>prices</th>\n",
       "    </tr>\n",
       "  </thead>\n",
       "  <tbody>\n",
       "    <tr>\n",
       "      <th>0</th>\n",
       "      <td>37</td>\n",
       "      <td>196</td>\n",
       "      <td>72.52</td>\n",
       "    </tr>\n",
       "    <tr>\n",
       "      <th>1</th>\n",
       "      <td>52</td>\n",
       "      <td>371</td>\n",
       "      <td>192.92</td>\n",
       "    </tr>\n",
       "    <tr>\n",
       "      <th>2</th>\n",
       "      <td>119</td>\n",
       "      <td>325</td>\n",
       "      <td>386.75</td>\n",
       "    </tr>\n",
       "    <tr>\n",
       "      <th>3</th>\n",
       "      <td>256</td>\n",
       "      <td>486</td>\n",
       "      <td>1244.16</td>\n",
       "    </tr>\n",
       "    <tr>\n",
       "      <th>4</th>\n",
       "      <td>434</td>\n",
       "      <td>480</td>\n",
       "      <td>2083.20</td>\n",
       "    </tr>\n",
       "  </tbody>\n",
       "</table>\n",
       "</div>"
      ],
      "text/plain": [
       "   distances  weights   prices\n",
       "0         37      196    72.52\n",
       "1         52      371   192.92\n",
       "2        119      325   386.75\n",
       "3        256      486  1244.16\n",
       "4        434      480  2083.20"
      ]
     },
     "execution_count": 14,
     "metadata": {},
     "output_type": "execute_result"
    }
   ],
   "source": [
    "df.head()"
   ]
  },
  {
   "cell_type": "code",
   "execution_count": 15,
   "metadata": {},
   "outputs": [],
   "source": [
    "x, x_val, y, y_val = model_selection.train_test_split(df['prices'], df['distances'], test_size=0.2, random_state=42)"
   ]
  },
  {
   "cell_type": "code",
   "execution_count": 16,
   "metadata": {},
   "outputs": [],
   "source": [
    "dlce = lambda l: [v for v in l if v >= 0]"
   ]
  },
  {
   "cell_type": "code",
   "execution_count": 17,
   "metadata": {},
   "outputs": [],
   "source": [
    "x = np.array(dlce(x))\n",
    "x_val = np.array(dlce(x_val))"
   ]
  },
  {
   "cell_type": "code",
   "execution_count": 18,
   "metadata": {},
   "outputs": [],
   "source": [
    "y = np.array(dlce(y))\n",
    "y_val = np.array(dlce(y_val))"
   ]
  },
  {
   "cell_type": "code",
   "execution_count": 19,
   "metadata": {},
   "outputs": [
    {
     "name": "stdout",
     "output_type": "stream",
     "text": [
      "Train on 8000 samples, validate on 2000 samples\n",
      "Epoch 1/10\n",
      "8000/8000 [==============================] - 0s - loss: 827575.1967 - val_loss: 647339.0155\n",
      "Epoch 2/10\n",
      "8000/8000 [==============================] - 0s - loss: 509891.1598 - val_loss: 373064.0058\n",
      "Epoch 3/10\n",
      "8000/8000 [==============================] - 0s - loss: 270227.8938 - val_loss: 177517.8560\n",
      "Epoch 4/10\n",
      "8000/8000 [==============================] - 0s - loss: 112026.0553 - val_loss: 60139.1933\n",
      "Epoch 5/10\n",
      "8000/8000 [==============================] - 0s - loss: 33755.4426 - val_loss: 21300.3497\n",
      "Epoch 6/10\n",
      "8000/8000 [==============================] - 0s - loss: 20228.9631 - val_loss: 21081.7790\n",
      "Epoch 7/10\n",
      "8000/8000 [==============================] - 0s - loss: 20199.7188 - val_loss: 21050.9956\n",
      "Epoch 8/10\n",
      "8000/8000 [==============================] - 0s - loss: 20167.0376 - val_loss: 21023.0420\n",
      "Epoch 9/10\n",
      "8000/8000 [==============================] - 0s - loss: 20138.5692 - val_loss: 21000.2868\n",
      "Epoch 10/10\n",
      "8000/8000 [==============================] - 0s - loss: 20112.4527 - val_loss: 20961.1580\n"
     ]
    },
    {
     "data": {
      "text/plain": [
       "<keras.callbacks.History at 0x7f2ba12f7ef0>"
      ]
     },
     "execution_count": 19,
     "metadata": {},
     "output_type": "execute_result"
    }
   ],
   "source": [
    "model = Sequential()\n",
    "model.add(Dense(1, input_dim=1))\n",
    "model.compile(optimizer='rmsprop', loss='mse')\n",
    "model.fit(x, y, epochs=10, validation_data=(x_val, y_val))"
   ]
  },
  {
   "cell_type": "code",
   "execution_count": 27,
   "metadata": {},
   "outputs": [
    {
     "name": "stdout",
     "output_type": "stream",
     "text": [
      "[[ 18.30950546]\n",
      " [ 12.90425777]\n",
      " [ 25.51650429]\n",
      " [ 20.11125565]\n",
      " [ 13.20454884]\n",
      " [ 28.51941872]\n",
      " [ 10.50192451]\n",
      " [ 15.6068821 ]\n",
      " [ 17.70892334]\n",
      " [ 15.00629902]\n",
      " [ 25.21621132]\n",
      " [ 10.2016325 ]\n",
      " [  5.99755049]\n",
      " [ 27.61854553]\n",
      " [ 28.81971169]\n",
      " [ 30.3211689 ]\n",
      " [ 28.81971169]\n",
      " [  7.79930019]\n",
      " [ 27.91883659]\n",
      " [ 21.3124218 ]\n",
      " [ 10.80221653]\n",
      " [ 18.91008759]\n",
      " [ 17.40863037]\n",
      " [ 15.6068821 ]\n",
      " [ 27.31825256]\n",
      " [ 19.51067162]\n",
      " [  6.29784203]\n",
      " [ 24.6156292 ]\n",
      " [  9.00046635]\n",
      " [ 14.10542393]\n",
      " [ 24.31533813]\n",
      " [ 22.81387901]\n",
      " [ 25.51650429]\n",
      " [ 29.12000275]\n",
      " [ 17.10833931]\n",
      " [ 27.91883659]\n",
      " [ 10.50192451]\n",
      " [ 29.12000275]\n",
      " [ 21.91300392]\n",
      " [  8.09959126]\n",
      " [ 24.01504517]\n",
      " [ 13.50484085]\n",
      " [ 27.31825256]\n",
      " [ 19.21038055]\n",
      " [  9.90134144]\n",
      " [ 14.706007  ]\n",
      " [ 24.6156292 ]\n",
      " [ 28.21912766]\n",
      " [ 18.91008759]\n",
      " [ 12.60396576]\n",
      " [ 24.31533813]\n",
      " [ 31.82262802]\n",
      " [ 22.81387901]\n",
      " [ 29.42029381]\n",
      " [ 15.90717316]\n",
      " [ 13.20454884]\n",
      " [  8.09959126]\n",
      " [ 29.42029381]\n",
      " [ 30.62145996]\n",
      " [ 27.61854553]\n",
      " [ 11.40279961]\n",
      " [  9.90134144]\n",
      " [ 17.10833931]\n",
      " [ 28.21912766]\n",
      " [ 27.61854553]\n",
      " [ 30.3211689 ]\n",
      " [ 16.50775528]\n",
      " [ 11.10250759]\n",
      " [ 14.40571499]\n",
      " [  7.49900818]\n",
      " [ 12.3036747 ]\n",
      " [ 14.40571499]\n",
      " [ 13.50484085]\n",
      " [ 12.3036747 ]\n",
      " [ 17.10833931]\n",
      " [ 14.10542393]\n",
      " [ 31.52233505]\n",
      " [ 20.11125565]\n",
      " [ 28.81971169]\n",
      " [ 23.41446304]\n",
      " [ 28.21912766]\n",
      " [ 15.6068821 ]\n",
      " [ 17.40863037]\n",
      " [ 10.2016325 ]\n",
      " [ 20.71183777]\n",
      " [ 32.12292099]\n",
      " [ 21.91300392]\n",
      " [  6.59813404]\n",
      " [  7.19871712]\n",
      " [ 10.2016325 ]\n",
      " [ 16.50775528]\n",
      " [  8.09959126]\n",
      " [ 16.50775528]\n",
      " [ 11.40279961]\n",
      " [ 14.40571499]\n",
      " [ 11.70309067]\n",
      " [ 21.01212883]\n",
      " [  6.59813404]\n",
      " [ 27.61854553]\n",
      " [ 27.61854553]]\n"
     ]
    }
   ],
   "source": [
    "print(model.predict(np.array([np.random.randint(10,100) for _ in range(100)])))"
   ]
  },
  {
   "cell_type": "code",
   "execution_count": 24,
   "metadata": {},
   "outputs": [],
   "source": [
    "model.save_weights('travel-price.hdf5')"
   ]
  },
  {
   "cell_type": "code",
   "execution_count": 25,
   "metadata": {},
   "outputs": [],
   "source": [
    "with open('travel-price.json','w') as f:\n",
    "    f.write(model.to_json())\n",
    "    f.close()"
   ]
  }
 ],
 "metadata": {
  "kernelspec": {
   "display_name": "Python 3",
   "language": "python",
   "name": "python3"
  },
  "language_info": {
   "codemirror_mode": {
    "name": "ipython",
    "version": 3
   },
   "file_extension": ".py",
   "mimetype": "text/x-python",
   "name": "python",
   "nbconvert_exporter": "python",
   "pygments_lexer": "ipython3",
   "version": "3.5.4"
  }
 },
 "nbformat": 4,
 "nbformat_minor": 2
}
