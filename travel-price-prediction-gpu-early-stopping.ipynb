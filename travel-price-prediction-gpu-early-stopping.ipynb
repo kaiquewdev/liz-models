{
 "cells": [
  {
   "cell_type": "code",
   "execution_count": 1,
   "metadata": {},
   "outputs": [],
   "source": [
    "import warnings; warnings.simplefilter('ignore')"
   ]
  },
  {
   "cell_type": "code",
   "execution_count": 2,
   "metadata": {},
   "outputs": [],
   "source": [
    "import pandas as pd"
   ]
  },
  {
   "cell_type": "code",
   "execution_count": 3,
   "metadata": {},
   "outputs": [],
   "source": [
    "import numpy as np"
   ]
  },
  {
   "cell_type": "code",
   "execution_count": 4,
   "metadata": {},
   "outputs": [
    {
     "name": "stderr",
     "output_type": "stream",
     "text": [
      "Using TensorFlow backend.\n"
     ]
    }
   ],
   "source": [
    "import keras"
   ]
  },
  {
   "cell_type": "code",
   "execution_count": 5,
   "metadata": {},
   "outputs": [],
   "source": [
    "from keras import backend as K"
   ]
  },
  {
   "cell_type": "code",
   "execution_count": 6,
   "metadata": {},
   "outputs": [],
   "source": [
    "from keras.models import Sequential"
   ]
  },
  {
   "cell_type": "code",
   "execution_count": 7,
   "metadata": {},
   "outputs": [],
   "source": [
    "from keras.layers import Dense"
   ]
  },
  {
   "cell_type": "code",
   "execution_count": 8,
   "metadata": {},
   "outputs": [],
   "source": [
    "from sklearn import model_selection"
   ]
  },
  {
   "cell_type": "code",
   "execution_count": 9,
   "metadata": {},
   "outputs": [],
   "source": [
    "import math"
   ]
  },
  {
   "cell_type": "code",
   "execution_count": 10,
   "metadata": {},
   "outputs": [],
   "source": [
    "import tensorflow as tf"
   ]
  },
  {
   "cell_type": "code",
   "execution_count": 11,
   "metadata": {},
   "outputs": [],
   "source": [
    "import horovod.keras as hvd"
   ]
  },
  {
   "cell_type": "code",
   "execution_count": 12,
   "metadata": {},
   "outputs": [],
   "source": [
    "from keras.callbacks import EarlyStopping"
   ]
  },
  {
   "cell_type": "code",
   "execution_count": 13,
   "metadata": {},
   "outputs": [],
   "source": [
    "df = pd.DataFrame()"
   ]
  },
  {
   "cell_type": "code",
   "execution_count": 14,
   "metadata": {},
   "outputs": [],
   "source": [
    "df['distances'] = np.array([np.random.randint(1,1000) for _ in range(10**5)])"
   ]
  },
  {
   "cell_type": "code",
   "execution_count": 15,
   "metadata": {},
   "outputs": [],
   "source": [
    "df['weights'] = np.array([np.random.randint(60,500) for _ in range(10**5)])"
   ]
  },
  {
   "cell_type": "code",
   "execution_count": 16,
   "metadata": {},
   "outputs": [
    {
     "data": {
      "text/plain": [
       "distances    100000\n",
       "weights      100000\n",
       "dtype: int64"
      ]
     },
     "execution_count": 16,
     "metadata": {},
     "output_type": "execute_result"
    }
   ],
   "source": [
    "df[['distances','weights']].count()"
   ]
  },
  {
   "cell_type": "code",
   "execution_count": 17,
   "metadata": {},
   "outputs": [],
   "source": [
    "df['prices'] = np.array([((df['distances'][i] * df['weights'][i])/100) for i in range(len(df['distances']))])"
   ]
  },
  {
   "cell_type": "code",
   "execution_count": 18,
   "metadata": {},
   "outputs": [
    {
     "data": {
      "text/html": [
       "<div>\n",
       "<style scoped>\n",
       "    .dataframe tbody tr th:only-of-type {\n",
       "        vertical-align: middle;\n",
       "    }\n",
       "\n",
       "    .dataframe tbody tr th {\n",
       "        vertical-align: top;\n",
       "    }\n",
       "\n",
       "    .dataframe thead th {\n",
       "        text-align: right;\n",
       "    }\n",
       "</style>\n",
       "<table border=\"1\" class=\"dataframe\">\n",
       "  <thead>\n",
       "    <tr style=\"text-align: right;\">\n",
       "      <th></th>\n",
       "      <th>distances</th>\n",
       "      <th>weights</th>\n",
       "      <th>prices</th>\n",
       "    </tr>\n",
       "  </thead>\n",
       "  <tbody>\n",
       "    <tr>\n",
       "      <th>0</th>\n",
       "      <td>612</td>\n",
       "      <td>321</td>\n",
       "      <td>1964.52</td>\n",
       "    </tr>\n",
       "    <tr>\n",
       "      <th>1</th>\n",
       "      <td>380</td>\n",
       "      <td>451</td>\n",
       "      <td>1713.80</td>\n",
       "    </tr>\n",
       "    <tr>\n",
       "      <th>2</th>\n",
       "      <td>656</td>\n",
       "      <td>219</td>\n",
       "      <td>1436.64</td>\n",
       "    </tr>\n",
       "    <tr>\n",
       "      <th>3</th>\n",
       "      <td>177</td>\n",
       "      <td>204</td>\n",
       "      <td>361.08</td>\n",
       "    </tr>\n",
       "    <tr>\n",
       "      <th>4</th>\n",
       "      <td>76</td>\n",
       "      <td>205</td>\n",
       "      <td>155.80</td>\n",
       "    </tr>\n",
       "  </tbody>\n",
       "</table>\n",
       "</div>"
      ],
      "text/plain": [
       "   distances  weights   prices\n",
       "0        612      321  1964.52\n",
       "1        380      451  1713.80\n",
       "2        656      219  1436.64\n",
       "3        177      204   361.08\n",
       "4         76      205   155.80"
      ]
     },
     "execution_count": 18,
     "metadata": {},
     "output_type": "execute_result"
    }
   ],
   "source": [
    "df.head()"
   ]
  },
  {
   "cell_type": "code",
   "execution_count": 19,
   "metadata": {},
   "outputs": [
    {
     "data": {
      "text/plain": [
       "0"
      ]
     },
     "execution_count": 19,
     "metadata": {},
     "output_type": "execute_result"
    }
   ],
   "source": [
    "hvd.init()"
   ]
  },
  {
   "cell_type": "code",
   "execution_count": 20,
   "metadata": {},
   "outputs": [],
   "source": [
    "config = tf.ConfigProto()"
   ]
  },
  {
   "cell_type": "code",
   "execution_count": 21,
   "metadata": {},
   "outputs": [],
   "source": [
    "config.gpu_options.allow_growth = True"
   ]
  },
  {
   "cell_type": "code",
   "execution_count": 22,
   "metadata": {},
   "outputs": [],
   "source": [
    "config.gpu_options.visible_device_list = str(hvd.local_rank())"
   ]
  },
  {
   "cell_type": "code",
   "execution_count": 23,
   "metadata": {},
   "outputs": [],
   "source": [
    "K.set_session(tf.Session(config=config))"
   ]
  },
  {
   "cell_type": "code",
   "execution_count": 24,
   "metadata": {},
   "outputs": [],
   "source": [
    "batch_size = 128"
   ]
  },
  {
   "cell_type": "code",
   "execution_count": 25,
   "metadata": {},
   "outputs": [],
   "source": [
    "num_classes = 10"
   ]
  },
  {
   "cell_type": "code",
   "execution_count": 26,
   "metadata": {},
   "outputs": [],
   "source": [
    "epochs = int(math.ceil(120.0) / hvd.size())"
   ]
  },
  {
   "cell_type": "code",
   "execution_count": 27,
   "metadata": {},
   "outputs": [],
   "source": [
    "x, x_val, y, y_val = model_selection.train_test_split(df['prices'], df['distances'], test_size=0.2, random_state=42)"
   ]
  },
  {
   "cell_type": "code",
   "execution_count": 28,
   "metadata": {},
   "outputs": [],
   "source": [
    "dlce = lambda l: [v for v in l if v >= 0]"
   ]
  },
  {
   "cell_type": "code",
   "execution_count": 29,
   "metadata": {},
   "outputs": [],
   "source": [
    "x = np.array(dlce(x))\n",
    "x_val = np.array(dlce(x_val))"
   ]
  },
  {
   "cell_type": "code",
   "execution_count": 30,
   "metadata": {},
   "outputs": [],
   "source": [
    "y = np.array(dlce(y))\n",
    "y_val = np.array(dlce(y_val))"
   ]
  },
  {
   "cell_type": "code",
   "execution_count": 31,
   "metadata": {},
   "outputs": [],
   "source": [
    "opt = keras.optimizers.RMSprop(1.0 * hvd.size())"
   ]
  },
  {
   "cell_type": "code",
   "execution_count": 32,
   "metadata": {},
   "outputs": [],
   "source": [
    "opt = hvd.DistributedOptimizer(opt)"
   ]
  },
  {
   "cell_type": "code",
   "execution_count": 33,
   "metadata": {},
   "outputs": [],
   "source": [
    "model = Sequential()"
   ]
  },
  {
   "cell_type": "code",
   "execution_count": 34,
   "metadata": {},
   "outputs": [],
   "source": [
    "model.add(Dense(1, input_dim=1))"
   ]
  },
  {
   "cell_type": "code",
   "execution_count": 35,
   "metadata": {},
   "outputs": [],
   "source": [
    "model.compile(optimizer=opt, loss=keras.losses.mse,metrics=['accuracy'])"
   ]
  },
  {
   "cell_type": "code",
   "execution_count": 36,
   "metadata": {},
   "outputs": [],
   "source": [
    "early_stopping = EarlyStopping(monitor='val_loss', patience=50)"
   ]
  },
  {
   "cell_type": "code",
   "execution_count": 37,
   "metadata": {},
   "outputs": [],
   "source": [
    "callbacks = [hvd.callbacks.BroadcastGlobalVariablesCallback(0), early_stopping]"
   ]
  },
  {
   "cell_type": "code",
   "execution_count": 38,
   "metadata": {},
   "outputs": [],
   "source": [
    "if hvd.rank() == 0:\n",
    "    callbacks.append(keras.callbacks.ModelCheckpoint('./checkpoint-{epoch}.h5'))"
   ]
  },
  {
   "cell_type": "code",
   "execution_count": 39,
   "metadata": {},
   "outputs": [
    {
     "name": "stdout",
     "output_type": "stream",
     "text": [
      "Train on 80000 samples, validate on 20000 samples\n",
      "Epoch 1/120\n",
      "80000/80000 [==============================] - 1s 6us/step - loss: 836461.8476 - acc: 0.0011 - val_loss: 432609.9241 - val_acc: 9.5000e-04\n",
      "Epoch 2/120\n",
      "80000/80000 [==============================] - 1s 6us/step - loss: 805246.1285 - acc: 6.5000e-04 - val_loss: 2134717.7768 - val_acc: 4.5000e-04\n",
      "Epoch 3/120\n",
      "80000/80000 [==============================] - 1s 6us/step - loss: 804408.5933 - acc: 7.2500e-04 - val_loss: 667107.8427 - val_acc: 4.0000e-04\n",
      "Epoch 4/120\n",
      "80000/80000 [==============================] - 1s 6us/step - loss: 805919.9752 - acc: 7.7500e-04 - val_loss: 3605660.8088 - val_acc: 2.0000e-04\n",
      "Epoch 5/120\n",
      "80000/80000 [==============================] - 1s 7us/step - loss: 784865.6681 - acc: 9.8750e-04 - val_loss: 1194934.7710 - val_acc: 4.0000e-04\n",
      "Epoch 6/120\n",
      "80000/80000 [==============================] - 1s 7us/step - loss: 804717.4603 - acc: 6.6250e-04 - val_loss: 59231.7711 - val_acc: 0.0014\n",
      "Epoch 7/120\n",
      "80000/80000 [==============================] - 1s 7us/step - loss: 805726.3719 - acc: 7.1250e-04 - val_loss: 194756.8319 - val_acc: 1.0000e-03\n",
      "Epoch 8/120\n",
      "80000/80000 [==============================] - 1s 7us/step - loss: 805996.1074 - acc: 5.1250e-04 - val_loss: 202568.7595 - val_acc: 0.0014\n",
      "Epoch 9/120\n",
      "80000/80000 [==============================] - 1s 7us/step - loss: 775853.4543 - acc: 7.3750e-04 - val_loss: 2006271.8376 - val_acc: 5.0000e-04\n",
      "Epoch 10/120\n",
      "80000/80000 [==============================] - 1s 9us/step - loss: 808750.7531 - acc: 7.2500e-04 - val_loss: 2411458.1640 - val_acc: 6.0000e-04\n",
      "Epoch 11/120\n",
      "80000/80000 [==============================] - 1s 7us/step - loss: 805449.8130 - acc: 5.8750e-04 - val_loss: 1257219.9114 - val_acc: 2.0000e-04\n",
      "Epoch 12/120\n",
      "80000/80000 [==============================] - 1s 7us/step - loss: 797745.4610 - acc: 5.6250e-04 - val_loss: 383604.2574 - val_acc: 2.5000e-04\n",
      "Epoch 13/120\n",
      "80000/80000 [==============================] - 1s 7us/step - loss: 803988.1040 - acc: 5.6250e-04 - val_loss: 1227121.5472 - val_acc: 1.5000e-04\n",
      "Epoch 14/120\n",
      "80000/80000 [==============================] - 1s 7us/step - loss: 798328.7589 - acc: 5.1250e-04 - val_loss: 1034843.8656 - val_acc: 5.5000e-04\n",
      "Epoch 15/120\n",
      "80000/80000 [==============================] - 1s 7us/step - loss: 797799.0905 - acc: 6.8750e-04 - val_loss: 1236627.5412 - val_acc: 2.0000e-04\n",
      "Epoch 16/120\n",
      "80000/80000 [==============================] - 1s 9us/step - loss: 795504.6553 - acc: 7.2500e-04 - val_loss: 73935.5264 - val_acc: 8.5000e-04\n",
      "Epoch 17/120\n",
      "80000/80000 [==============================] - 1s 7us/step - loss: 798338.9637 - acc: 6.5000e-04 - val_loss: 1231379.5596 - val_acc: 7.5000e-04\n",
      "Epoch 18/120\n",
      "80000/80000 [==============================] - 1s 8us/step - loss: 799794.3554 - acc: 5.7500e-04 - val_loss: 58478.5136 - val_acc: 6.5000e-04\n",
      "Epoch 19/120\n",
      "80000/80000 [==============================] - 1s 7us/step - loss: 799253.3860 - acc: 6.6250e-04 - val_loss: 1089673.7124 - val_acc: 4.0000e-04\n",
      "Epoch 20/120\n",
      "80000/80000 [==============================] - 1s 7us/step - loss: 806330.0324 - acc: 6.1250e-04 - val_loss: 974457.7314 - val_acc: 2.5000e-04\n",
      "Epoch 21/120\n",
      "80000/80000 [==============================] - 1s 7us/step - loss: 797882.1340 - acc: 5.5000e-04 - val_loss: 1625190.4922 - val_acc: 2.0000e-04\n",
      "Epoch 22/120\n",
      "80000/80000 [==============================] - 1s 8us/step - loss: 798232.6661 - acc: 6.2500e-04 - val_loss: 37678.0945 - val_acc: 0.0020\n",
      "Epoch 23/120\n",
      "80000/80000 [==============================] - 1s 7us/step - loss: 794092.8174 - acc: 9.0000e-04 - val_loss: 534343.3340 - val_acc: 6.5000e-04\n",
      "Epoch 24/120\n",
      "80000/80000 [==============================] - 1s 7us/step - loss: 808634.3053 - acc: 5.0000e-04 - val_loss: 100176.7938 - val_acc: 0.0013\n",
      "Epoch 25/120\n",
      "80000/80000 [==============================] - 1s 9us/step - loss: 787357.5026 - acc: 8.0000e-04 - val_loss: 149864.3617 - val_acc: 3.5000e-04\n",
      "Epoch 26/120\n",
      "80000/80000 [==============================] - 1s 7us/step - loss: 795621.3691 - acc: 6.6250e-04 - val_loss: 164235.2738 - val_acc: 6.5000e-04\n",
      "Epoch 27/120\n",
      "80000/80000 [==============================] - 1s 7us/step - loss: 795926.4314 - acc: 5.5000e-04 - val_loss: 491997.7458 - val_acc: 5.0000e-04\n",
      "Epoch 28/120\n",
      "80000/80000 [==============================] - 1s 7us/step - loss: 808379.0940 - acc: 5.7500e-04 - val_loss: 181827.7499 - val_acc: 6.0000e-04\n",
      "Epoch 29/120\n",
      "80000/80000 [==============================] - 1s 7us/step - loss: 798413.0562 - acc: 5.0000e-04 - val_loss: 1377098.6858 - val_acc: 2.5000e-04\n",
      "Epoch 30/120\n",
      "80000/80000 [==============================] - 1s 7us/step - loss: 793490.4667 - acc: 6.3750e-04 - val_loss: 3702413.4624 - val_acc: 0.0000e+00\n",
      "Epoch 31/120\n",
      "80000/80000 [==============================] - 1s 7us/step - loss: 803902.2665 - acc: 5.8750e-04 - val_loss: 875595.8332 - val_acc: 5.5000e-04\n",
      "Epoch 32/120\n",
      "80000/80000 [==============================] - 1s 7us/step - loss: 786174.9581 - acc: 6.1250e-04 - val_loss: 50186.7893 - val_acc: 0.0018\n",
      "Epoch 33/120\n",
      "80000/80000 [==============================] - 1s 9us/step - loss: 797511.0255 - acc: 4.2500e-04 - val_loss: 224642.0808 - val_acc: 0.0011\n",
      "Epoch 34/120\n",
      "80000/80000 [==============================] - 1s 7us/step - loss: 804174.1755 - acc: 8.7500e-04 - val_loss: 569665.0733 - val_acc: 4.5000e-04\n",
      "Epoch 35/120\n",
      "80000/80000 [==============================] - 1s 8us/step - loss: 796350.1052 - acc: 6.1250e-04 - val_loss: 48491.6689 - val_acc: 0.0011\n",
      "Epoch 36/120\n",
      "80000/80000 [==============================] - 1s 8us/step - loss: 797762.8788 - acc: 6.2500e-04 - val_loss: 1094858.8108 - val_acc: 3.5000e-04\n",
      "Epoch 37/120\n",
      "80000/80000 [==============================] - 1s 7us/step - loss: 811043.3829 - acc: 7.3750e-04 - val_loss: 3065329.1576 - val_acc: 4.0000e-04\n",
      "Epoch 38/120\n",
      "80000/80000 [==============================] - 1s 8us/step - loss: 795677.3175 - acc: 6.2500e-04 - val_loss: 330528.7422 - val_acc: 7.5000e-04\n",
      "Epoch 39/120\n",
      "80000/80000 [==============================] - 1s 9us/step - loss: 811936.5511 - acc: 7.1250e-04 - val_loss: 105094.4335 - val_acc: 0.0013\n",
      "Epoch 40/120\n",
      "80000/80000 [==============================] - 1s 7us/step - loss: 787565.3769 - acc: 4.8750e-04 - val_loss: 2830949.5076 - val_acc: 3.5000e-04\n",
      "Epoch 41/120\n",
      "80000/80000 [==============================] - 1s 8us/step - loss: 802773.0846 - acc: 6.5000e-04 - val_loss: 249407.0052 - val_acc: 8.0000e-04\n",
      "Epoch 42/120\n",
      "80000/80000 [==============================] - 1s 7us/step - loss: 802224.8526 - acc: 5.6250e-04 - val_loss: 81042.9204 - val_acc: 4.0000e-04\n",
      "Epoch 43/120\n",
      "80000/80000 [==============================] - 1s 9us/step - loss: 803762.5992 - acc: 5.7500e-04 - val_loss: 97217.5709 - val_acc: 0.0010\n",
      "Epoch 44/120\n",
      "80000/80000 [==============================] - 1s 7us/step - loss: 801429.0729 - acc: 7.1250e-04 - val_loss: 222867.9627 - val_acc: 4.5000e-04\n",
      "Epoch 45/120\n",
      "80000/80000 [==============================] - 1s 8us/step - loss: 791506.3198 - acc: 6.7500e-04 - val_loss: 1920339.7132 - val_acc: 1.0000e-04\n",
      "Epoch 46/120\n",
      "80000/80000 [==============================] - 1s 7us/step - loss: 805349.6279 - acc: 4.1250e-04 - val_loss: 373898.5959 - val_acc: 7.5000e-04\n",
      "Epoch 47/120\n",
      "80000/80000 [==============================] - 1s 7us/step - loss: 795583.6729 - acc: 5.2500e-04 - val_loss: 378984.1474 - val_acc: 7.5000e-04\n",
      "Epoch 48/120\n",
      "80000/80000 [==============================] - 1s 7us/step - loss: 803981.4392 - acc: 6.0000e-04 - val_loss: 39592.0230 - val_acc: 0.0021\n",
      "Epoch 49/120\n",
      "80000/80000 [==============================] - 1s 7us/step - loss: 792550.9359 - acc: 6.1250e-04 - val_loss: 103738.4908 - val_acc: 6.0000e-04\n",
      "Epoch 50/120\n",
      "80000/80000 [==============================] - 1s 7us/step - loss: 799319.0751 - acc: 7.1250e-04 - val_loss: 151544.1025 - val_acc: 9.5000e-04\n",
      "Epoch 51/120\n",
      "80000/80000 [==============================] - 1s 7us/step - loss: 805719.4044 - acc: 7.1250e-04 - val_loss: 98060.0180 - val_acc: 0.0014\n",
      "Epoch 52/120\n",
      "80000/80000 [==============================] - 1s 7us/step - loss: 797386.6608 - acc: 5.2500e-04 - val_loss: 1094699.2300 - val_acc: 4.0000e-04\n",
      "Epoch 53/120\n",
      "80000/80000 [==============================] - 1s 7us/step - loss: 806227.4433 - acc: 5.8750e-04 - val_loss: 213861.0901 - val_acc: 7.0000e-04\n",
      "Epoch 54/120\n",
      "80000/80000 [==============================] - 0s 6us/step - loss: 798188.8801 - acc: 6.1250e-04 - val_loss: 498470.0404 - val_acc: 8.5000e-04\n",
      "Epoch 55/120\n",
      "80000/80000 [==============================] - 1s 6us/step - loss: 795519.3239 - acc: 6.5000e-04 - val_loss: 37427.5722 - val_acc: 0.0014\n",
      "Epoch 56/120\n",
      "80000/80000 [==============================] - 0s 6us/step - loss: 800865.9409 - acc: 7.0000e-04 - val_loss: 2172361.0096 - val_acc: 3.0000e-04\n",
      "Epoch 57/120\n",
      "80000/80000 [==============================] - 1s 6us/step - loss: 799350.2600 - acc: 6.2500e-04 - val_loss: 2089647.4344 - val_acc: 1.0000e-04\n",
      "Epoch 58/120\n",
      "80000/80000 [==============================] - 0s 6us/step - loss: 794256.1440 - acc: 5.6250e-04 - val_loss: 798700.0906 - val_acc: 7.0000e-04\n",
      "Epoch 59/120\n",
      "80000/80000 [==============================] - 1s 6us/step - loss: 800550.1456 - acc: 6.5000e-04 - val_loss: 439982.4782 - val_acc: 5.5000e-04\n",
      "Epoch 60/120\n",
      "80000/80000 [==============================] - 0s 6us/step - loss: 799615.7379 - acc: 7.3750e-04 - val_loss: 1036158.9326 - val_acc: 3.0000e-04\n",
      "Epoch 61/120\n",
      "80000/80000 [==============================] - 1s 6us/step - loss: 804665.0556 - acc: 7.0000e-04 - val_loss: 277486.5937 - val_acc: 0.0011\n",
      "Epoch 62/120\n",
      "80000/80000 [==============================] - 1s 6us/step - loss: 789098.1165 - acc: 6.2500e-04 - val_loss: 44436.1910 - val_acc: 0.0011\n",
      "Epoch 63/120\n",
      "80000/80000 [==============================] - 1s 6us/step - loss: 796784.9652 - acc: 7.2500e-04 - val_loss: 1038595.9736 - val_acc: 5.5000e-04\n",
      "Epoch 64/120\n",
      "80000/80000 [==============================] - 1s 6us/step - loss: 801630.4545 - acc: 7.5000e-04 - val_loss: 286394.0182 - val_acc: 7.0000e-04\n",
      "Epoch 65/120\n",
      "80000/80000 [==============================] - 1s 7us/step - loss: 796371.4581 - acc: 5.6250e-04 - val_loss: 2101560.9624 - val_acc: 3.5000e-04\n",
      "Epoch 66/120\n",
      "80000/80000 [==============================] - 1s 6us/step - loss: 789559.5454 - acc: 5.2500e-04 - val_loss: 4265925.9008 - val_acc: 3.5000e-04\n",
      "Epoch 67/120\n",
      "80000/80000 [==============================] - 1s 7us/step - loss: 796597.9616 - acc: 5.3750e-04 - val_loss: 340517.2982 - val_acc: 6.5000e-04\n",
      "Epoch 68/120\n",
      "80000/80000 [==============================] - 1s 6us/step - loss: 808126.8282 - acc: 5.7500e-04 - val_loss: 260092.7662 - val_acc: 7.5000e-04\n",
      "Epoch 69/120\n",
      "80000/80000 [==============================] - 1s 7us/step - loss: 787505.5025 - acc: 6.2500e-04 - val_loss: 1631641.8664 - val_acc: 2.0000e-04\n",
      "Epoch 70/120\n",
      "80000/80000 [==============================] - 1s 7us/step - loss: 806469.7138 - acc: 6.2500e-04 - val_loss: 554853.3426 - val_acc: 3.5000e-04\n",
      "Epoch 71/120\n",
      "80000/80000 [==============================] - 1s 7us/step - loss: 798548.4832 - acc: 4.7500e-04 - val_loss: 58070.1477 - val_acc: 0.0014\n",
      "Epoch 72/120\n",
      "80000/80000 [==============================] - 1s 7us/step - loss: 794269.1688 - acc: 6.5000e-04 - val_loss: 187860.9671 - val_acc: 0.0011\n",
      "Epoch 73/120\n",
      "80000/80000 [==============================] - 1s 7us/step - loss: 797743.2461 - acc: 7.0000e-04 - val_loss: 443026.4738 - val_acc: 5.0000e-04\n",
      "Epoch 74/120\n",
      "80000/80000 [==============================] - 1s 7us/step - loss: 800599.7338 - acc: 6.6250e-04 - val_loss: 1221885.5452 - val_acc: 7.5000e-04\n",
      "Epoch 75/120\n",
      "80000/80000 [==============================] - 1s 7us/step - loss: 796848.5193 - acc: 6.3750e-04 - val_loss: 186485.8750 - val_acc: 9.0000e-04\n",
      "Epoch 76/120\n",
      "80000/80000 [==============================] - 1s 7us/step - loss: 795423.1326 - acc: 5.5000e-04 - val_loss: 115251.0489 - val_acc: 7.5000e-04\n",
      "Epoch 77/120\n",
      "80000/80000 [==============================] - 1s 8us/step - loss: 803698.4956 - acc: 5.5000e-04 - val_loss: 556763.5925 - val_acc: 4.0000e-04\n",
      "Epoch 78/120\n",
      "80000/80000 [==============================] - 1s 7us/step - loss: 792784.6310 - acc: 6.6250e-04 - val_loss: 852945.3559 - val_acc: 8.0000e-04\n",
      "Epoch 79/120\n",
      "80000/80000 [==============================] - 1s 7us/step - loss: 806790.6724 - acc: 6.0000e-04 - val_loss: 688435.3557 - val_acc: 2.5000e-04\n",
      "Epoch 80/120\n",
      "80000/80000 [==============================] - 1s 8us/step - loss: 787882.9637 - acc: 5.3750e-04 - val_loss: 1432889.8452 - val_acc: 6.5000e-04\n",
      "Epoch 81/120\n",
      "80000/80000 [==============================] - 1s 7us/step - loss: 802536.2730 - acc: 6.8750e-04 - val_loss: 375340.1169 - val_acc: 5.0000e-04\n",
      "Epoch 82/120\n",
      "80000/80000 [==============================] - 1s 7us/step - loss: 801879.8395 - acc: 7.0000e-04 - val_loss: 75903.3402 - val_acc: 0.0013\n",
      "Epoch 83/120\n",
      "80000/80000 [==============================] - 1s 9us/step - loss: 793882.4111 - acc: 7.7500e-04 - val_loss: 780561.0137 - val_acc: 7.5000e-04\n",
      "Epoch 84/120\n",
      "80000/80000 [==============================] - 1s 7us/step - loss: 794274.1420 - acc: 8.5000e-04 - val_loss: 114233.1209 - val_acc: 8.5000e-04\n",
      "Epoch 85/120\n",
      "80000/80000 [==============================] - 1s 7us/step - loss: 801536.7341 - acc: 6.5000e-04 - val_loss: 1019408.4624 - val_acc: 6.5000e-04\n",
      "Epoch 86/120\n",
      "80000/80000 [==============================] - 1s 9us/step - loss: 793151.3721 - acc: 7.5000e-04 - val_loss: 531303.3336 - val_acc: 5.5000e-04\n",
      "Epoch 87/120\n",
      "80000/80000 [==============================] - 1s 7us/step - loss: 802600.1133 - acc: 5.6250e-04 - val_loss: 1092463.7652 - val_acc: 3.0000e-04\n",
      "Epoch 88/120\n",
      "80000/80000 [==============================] - 1s 8us/step - loss: 798350.9509 - acc: 6.1250e-04 - val_loss: 1639802.7892 - val_acc: 2.5000e-04\n",
      "Epoch 89/120\n",
      "80000/80000 [==============================] - 1s 7us/step - loss: 797099.1020 - acc: 5.2500e-04 - val_loss: 465423.0381 - val_acc: 6.0000e-04\n",
      "Epoch 90/120\n",
      "80000/80000 [==============================] - 1s 7us/step - loss: 799544.9520 - acc: 6.2500e-04 - val_loss: 2253929.5492 - val_acc: 1.0000e-04\n",
      "Epoch 91/120\n",
      "80000/80000 [==============================] - 1s 8us/step - loss: 808976.9225 - acc: 4.0000e-04 - val_loss: 66536.8522 - val_acc: 0.0014\n",
      "Epoch 92/120\n",
      "80000/80000 [==============================] - 1s 8us/step - loss: 788342.4431 - acc: 8.1250e-04 - val_loss: 189998.4583 - val_acc: 5.5000e-04\n",
      "Epoch 93/120\n",
      "80000/80000 [==============================] - 1s 7us/step - loss: 796967.3150 - acc: 7.6250e-04 - val_loss: 1890886.7840 - val_acc: 5.5000e-04\n",
      "Epoch 94/120\n",
      "80000/80000 [==============================] - 1s 7us/step - loss: 801860.2335 - acc: 6.3750e-04 - val_loss: 1894789.9448 - val_acc: 1.0000e-04\n",
      "Epoch 95/120\n",
      "80000/80000 [==============================] - 1s 8us/step - loss: 801389.6950 - acc: 6.3750e-04 - val_loss: 276180.1043 - val_acc: 4.5000e-04\n",
      "Epoch 96/120\n",
      "80000/80000 [==============================] - 1s 8us/step - loss: 804322.6477 - acc: 5.6250e-04 - val_loss: 293828.4530 - val_acc: 8.0000e-04\n",
      "Epoch 97/120\n",
      "80000/80000 [==============================] - 1s 8us/step - loss: 800937.7673 - acc: 7.7500e-04 - val_loss: 191453.0138 - val_acc: 6.5000e-04\n",
      "Epoch 98/120\n",
      "80000/80000 [==============================] - 1s 9us/step - loss: 787572.3783 - acc: 7.1250e-04 - val_loss: 652597.4600 - val_acc: 8.0000e-04\n",
      "Epoch 99/120\n",
      "80000/80000 [==============================] - 1s 8us/step - loss: 802606.7015 - acc: 6.0000e-04 - val_loss: 1287569.1988 - val_acc: 2.5000e-04\n",
      "Epoch 100/120\n",
      "80000/80000 [==============================] - 1s 7us/step - loss: 807430.2739 - acc: 4.7500e-04 - val_loss: 259769.4795 - val_acc: 8.0000e-04\n",
      "Epoch 101/120\n",
      "80000/80000 [==============================] - 1s 8us/step - loss: 800094.4657 - acc: 6.7500e-04 - val_loss: 72239.6447 - val_acc: 5.5000e-04\n",
      "Epoch 102/120\n",
      "80000/80000 [==============================] - 1s 8us/step - loss: 790060.5440 - acc: 5.7500e-04 - val_loss: 402530.4342 - val_acc: 8.5000e-04\n",
      "Epoch 103/120\n",
      "80000/80000 [==============================] - 1s 7us/step - loss: 802761.4216 - acc: 6.8750e-04 - val_loss: 236134.9941 - val_acc: 7.5000e-04\n",
      "Epoch 104/120\n",
      "80000/80000 [==============================] - 1s 8us/step - loss: 800332.2833 - acc: 6.3750e-04 - val_loss: 1490752.8840 - val_acc: 7.0000e-04\n",
      "Epoch 105/120\n"
     ]
    },
    {
     "name": "stdout",
     "output_type": "stream",
     "text": [
      "80000/80000 [==============================] - 1s 7us/step - loss: 792735.5131 - acc: 6.6250e-04 - val_loss: 124299.1211 - val_acc: 7.5000e-04\n"
     ]
    },
    {
     "data": {
      "text/plain": [
       "<keras.callbacks.History at 0x7f94b2a02c88>"
      ]
     },
     "execution_count": 39,
     "metadata": {},
     "output_type": "execute_result"
    }
   ],
   "source": [
    "model.fit(x, y, batch_size=batch_size, callbacks=callbacks, epochs=epochs, verbose=1, validation_data=(x_val, y_val))"
   ]
  },
  {
   "cell_type": "code",
   "execution_count": 40,
   "metadata": {},
   "outputs": [],
   "source": [
    "score = model.evaluate(x_val, y_val, verbose=0)"
   ]
  },
  {
   "cell_type": "code",
   "execution_count": 41,
   "metadata": {},
   "outputs": [
    {
     "name": "stdout",
     "output_type": "stream",
     "text": [
      "Test loss: 124299.12191875\n"
     ]
    }
   ],
   "source": [
    "print('Test loss:', score[0])"
   ]
  },
  {
   "cell_type": "code",
   "execution_count": 42,
   "metadata": {},
   "outputs": [
    {
     "name": "stdout",
     "output_type": "stream",
     "text": [
      "Test accuracy: 0.00075\n"
     ]
    }
   ],
   "source": [
    "print('Test accuracy:', score[1])"
   ]
  },
  {
   "cell_type": "code",
   "execution_count": 43,
   "metadata": {},
   "outputs": [
    {
     "name": "stdout",
     "output_type": "stream",
     "text": [
      "[[230.11375]\n",
      " [229.93848]\n",
      " [231.22389]\n",
      " [230.11375]\n",
      " [231.34074]]\n"
     ]
    }
   ],
   "source": [
    "print(model.predict(np.array([np.random.randint(10,100) for _ in range(5)])))"
   ]
  },
  {
   "cell_type": "code",
   "execution_count": 44,
   "metadata": {},
   "outputs": [],
   "source": [
    "model.save_weights('travel-price.hdf5')"
   ]
  },
  {
   "cell_type": "code",
   "execution_count": 45,
   "metadata": {},
   "outputs": [],
   "source": [
    "with open('travel-price.json','w') as f:\n",
    "    f.write(model.to_json())\n",
    "    f.close()"
   ]
  }
 ],
 "metadata": {
  "kernelspec": {
   "display_name": "Python 3",
   "language": "python",
   "name": "python3"
  },
  "language_info": {
   "codemirror_mode": {
    "name": "ipython",
    "version": 3
   },
   "file_extension": ".py",
   "mimetype": "text/x-python",
   "name": "python",
   "nbconvert_exporter": "python",
   "pygments_lexer": "ipython3",
   "version": "3.6.4"
  }
 },
 "nbformat": 4,
 "nbformat_minor": 2
}
